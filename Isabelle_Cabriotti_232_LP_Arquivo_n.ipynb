{
  "cells": [
    {
      "cell_type": "markdown",
      "metadata": {
        "id": "view-in-github",
        "colab_type": "text"
      },
      "source": [
        "<a href=\"https://colab.research.google.com/github/IsabelleCabriotti/Python/blob/main/Isabelle_Cabriotti_232_LP_Arquivo_n.ipynb\" target=\"_parent\"><img src=\"https://colab.research.google.com/assets/colab-badge.svg\" alt=\"Open In Colab\"/></a>"
      ]
    },
    {
      "cell_type": "code",
      "source": [
        "arquivo = open('numeros.txt', 'a') # apagando e criando\n",
        "for linha in range(20,31):\n",
        "    arquivo.write(f\"Dia 2 é feriado {linha}\\n\")\n",
        "arquivo.close()"
      ],
      "metadata": {
        "id": "OU9onP4TU5xp"
      },
      "execution_count": null,
      "outputs": []
    },
    {
      "cell_type": "code",
      "source": [
        "arquivo = open('numeros.txt', 'r') # apagando e criando\n",
        "for linha in arquivo.readlines():\n",
        "    print(linha)\n",
        "arquivo.close()"
      ],
      "metadata": {
        "id": "4ehiUmTwUqjL"
      },
      "execution_count": null,
      "outputs": []
    },
    {
      "cell_type": "code",
      "execution_count": null,
      "metadata": {
        "colab": {
          "background_save": true
        },
        "id": "SJoniFlLKCQw"
      },
      "outputs": [],
      "source": [
        "class TipoFuncionario:\n",
        "    matricula = 0\n",
        "    nome = ''\n",
        "    salario = 0.0\n",
        "\n",
        "def Cadastrar():\n",
        "    arquivo = open('arq_Funcionario.txt', 'w')\n",
        "    print('Cadastro de Funcionários.........................')\n",
        "    for i in range(3):\n",
        "        f = TipoFuncionario()\n",
        "        f.matricula = int(input('Digite a matrícula: '))\n",
        "        f.nome = input('Digite o nome: ')\n",
        "        f.salario = float(input('Digite o salário: '))\n",
        "        arquivo.write(f'{f.matricula};{f.nome};{f.salario:.2f}\\n')\n",
        "        #ou\n",
        "        #arquivo.write('%d %s %.2f\\n' % (f.matricula, f.nome, f.salario))\n",
        "    arquivo.close()\n",
        "\n",
        "def Mostrar():\n",
        "    arquivo = open('arq_Funcionario.txt', 'r')\n",
        "    print('Apresentação dos dados dos funcionários .........')\n",
        "    print('Matrícula\\tNome\\tSalário')\n",
        "    for linha in arquivo.readlines():\n",
        "        # o caracter que está na função write() do arquivo DEVE\n",
        "        # SER O MESMO no argumento da função split\n",
        "        mat, nome, sal = linha.strip().split(\";\")\n",
        "        print(mat,'\\t\\t',nome,'\\t',sal)\n",
        "    arquivo.close()\n",
        "\n",
        "def main():\n",
        "    op = 1\n",
        "    while op >=1 and op <= 2:\n",
        "        print('*** Gerenciamento de Funcionários COM ARQUIVO ***')\n",
        "        print('1- Cadastrar')\n",
        "        print('2- Mostrar')\n",
        "        print('3- Sair')\n",
        "        op = int(input('Digite a opção: '))\n",
        "        if op == 1:\n",
        "            Cadastrar()\n",
        "        elif op == 2:\n",
        "            Mostrar()\n",
        "main()"
      ]
    },
    {
      "cell_type": "markdown",
      "metadata": {
        "id": "skN-Wz61xZzi"
      },
      "source": [
        "### 1. Elabore uma estrutura para representar e armazenar 10 fornecedores (código, nome, endereco). Utilize os recursos de arquivo para armazenar estes dados permanentemente. O nome do arquivo deve ser o mesmo da estrutura. Construa um menu com as seguintes opções, cada uma delas deve ter uma função e a main para chamar todas elas.\n",
        "\n",
        "Menu de opções:\n",
        "1. Cadastrar fornecedores\n",
        "2. Visualizar todos os dados\n",
        "3. Sair\n"
      ]
    },
    {
      "cell_type": "code",
      "execution_count": null,
      "metadata": {
        "id": "Wbjafj_QxWP-",
        "colab": {
          "base_uri": "https://localhost:8080/"
        },
        "outputId": "4e104926-ee04-4953-9dcb-9b3bea34238f"
      },
      "outputs": [
        {
          "name": "stdout",
          "output_type": "stream",
          "text": [
            "\n",
            "* Menu de opções *\n",
            "1- Cadastrar fornecedores\n",
            "2- Visualizar todos os dados\n",
            "3- Sair\n",
            "\n",
            "Digite a opção desejada: 1\n",
            "\n",
            "Digite o código do fornecedor: 12\n",
            "Digite o nome do fornecedor: Juliana Store\n",
            "Digite o endereço do fornecedor: Av Manoel Goulart, 3820\n",
            "\n",
            "Digite o código do fornecedor: 15\n",
            "Digite o nome do fornecedor: Isabella Tec\n",
            "Digite o endereço do fornecedor: Av Whashington Luiz, 159\n",
            "\n",
            "* Menu de opções *\n",
            "1- Cadastrar fornecedores\n",
            "2- Visualizar todos os dados\n",
            "3- Sair\n",
            "\n",
            "Digite a opção desejada: 2\n",
            "\n",
            "Código do fornecedor: 12\n",
            "Nome do fornecedor: Juliana Store\n",
            "Endereço do fornecedor: Av Manoel Goulart, 3820\n",
            "\n",
            "Código do fornecedor: 15\n",
            "Nome do fornecedor: Isabella Tec\n",
            "Endereço do fornecedor: Av Whashington Luiz, 159\n",
            "\n",
            "* Menu de opções *\n",
            "1- Cadastrar fornecedores\n",
            "2- Visualizar todos os dados\n",
            "3- Sair\n",
            "\n",
            "Digite a opção desejada: 3\n"
          ]
        }
      ],
      "source": [
        "class classFornecedores():\n",
        "    codigo = 0\n",
        "    nome = \"\"\n",
        "    endereco = \"\"\n",
        "\n",
        "def menu():\n",
        "    print(\"\\n* Menu de opções *\\n1- Cadastrar fornecedores\\n2- Visualizar todos os dados\\n3- Sair\")\n",
        "    opcao = int(input(\"\\nDigite a opção desejada: \"))\n",
        "\n",
        "    return opcao\n",
        "\n",
        "def cadastro():\n",
        "    arquivo = open(\"fornecedor.txt\", \"w\")\n",
        "\n",
        "    for i in range(2):\n",
        "        fornecedor = classFornecedores()\n",
        "\n",
        "        fornecedor.codigo = int(input(\"\\nDigite o código do fornecedor: \"))\n",
        "        fornecedor.nome = input(\"Digite o nome do fornecedor: \")\n",
        "        fornecedor.endereco = input(\"Digite o endereço do fornecedor: \")\n",
        "        arquivo.write(f\"{fornecedor.codigo};{fornecedor.nome};{fornecedor.endereco}\\n\")\n",
        "    arquivo.close()\n",
        "\n",
        "def visualizacao():\n",
        "    arquivo = open(\"fornecedor.txt\", \"r\")\n",
        "\n",
        "    for fornecedor in arquivo.readlines():\n",
        "        codigo, nome, endereco = fornecedor.strip().split(\";\")\n",
        "        print(f\"\\nCódigo do fornecedor: {codigo}\\nNome do fornecedor: {nome}\\nEndereço do fornecedor: {endereco}\")\n",
        "    arquivo.close()\n",
        "\n",
        "def main():\n",
        "    opcao = menu()\n",
        "\n",
        "    while opcao != 3:\n",
        "        if opcao == 1:\n",
        "            cadastro()\n",
        "        elif opcao == 2:\n",
        "            visualizacao()\n",
        "        else:\n",
        "            print(\"Opção inválida!\")\n",
        "        opcao = menu()\n",
        "\n",
        "main()"
      ]
    },
    {
      "cell_type": "markdown",
      "metadata": {
        "id": "0jPoba3-yLnG"
      },
      "source": [
        "### 2. Elabore uma estrutura para representar e armazenar 10 produtos (código, nome, preço). Utilize os recursos de arquivo para armazenar estes dados permanentemente. O nome do arquivo deve ser o mesmo da estrutura. Construa um menu com as seguintes opções, cada uma delas deve ter uma função e a main para chamar todas elas.\n",
        "\n",
        "Menu de opções:\n",
        "1. Cadastrar produtos\n",
        "2. Visualizar todos os dados\n",
        "3. Sair"
      ]
    },
    {
      "cell_type": "code",
      "execution_count": null,
      "metadata": {
        "id": "U--JD-UVAZ_4",
        "colab": {
          "base_uri": "https://localhost:8080/"
        },
        "outputId": "d55b5c6b-d66b-4385-9d76-81c65727378e"
      },
      "outputs": [
        {
          "name": "stdout",
          "output_type": "stream",
          "text": [
            "\n",
            "* Menu de opções *\n",
            "1- Cadastrar produtos\n",
            "2- Visualizar todos os dados\n",
            "3- Sair\n",
            "\n",
            "Digite a opção desejada: 1\n",
            "\n",
            "Digite o código do produto: 14\n",
            "Digite o nome do produto: Sabonete\n",
            "Digite o valor do produto: 2.00\n",
            "\n",
            "Digite o código do produto: 15\n",
            "Digite o nome do produto: Pasta de Dente\n",
            "Digite o valor do produto: 8.99\n",
            "\n",
            "* Menu de opções *\n",
            "1- Cadastrar produtos\n",
            "2- Visualizar todos os dados\n",
            "3- Sair\n",
            "\n",
            "Digite a opção desejada: 2\n",
            "\n",
            "Código do produto: 14\n",
            "Nome do produto: Sabonete\n",
            "Valor do produto: 2.0\n",
            "\n",
            "Código do produto: 15\n",
            "Nome do produto: Pasta de Dente\n",
            "Valor do produto: 8.99\n",
            "\n",
            "* Menu de opções *\n",
            "1- Cadastrar produtos\n",
            "2- Visualizar todos os dados\n",
            "3- Sair\n",
            "\n",
            "Digite a opção desejada: 3\n"
          ]
        }
      ],
      "source": [
        "class classProdutos():\n",
        "    codigo = 0\n",
        "    nome = \"\"\n",
        "    preco = 0\n",
        "\n",
        "def menu():\n",
        "    print(\"\\n* Menu de opções *\\n1- Cadastrar produtos\\n2- Visualizar todos os dados\\n3- Sair\")\n",
        "    opcao = int(input(\"\\nDigite a opção desejada: \"))\n",
        "\n",
        "    return opcao\n",
        "\n",
        "def cadastro():\n",
        "    arquivo = open(\"produtos.txt\", \"w\")\n",
        "\n",
        "    for i in range(2):\n",
        "        produtos = classProdutos()\n",
        "\n",
        "        produtos.codigo = int(input(\"\\nDigite o código do produto: \"))\n",
        "        produtos.nome = input(\"Digite o nome do produto: \")\n",
        "        produtos.preco = float(input(\"Digite o valor do produto: \"))\n",
        "        arquivo.write(f\"{produtos.codigo};{produtos.nome};{produtos.preco}\\n\")\n",
        "    arquivo.close()\n",
        "\n",
        "def visualizacao():\n",
        "    arquivo = open(\"produtos.txt\", \"r\")\n",
        "\n",
        "    for produtos in arquivo.readlines():\n",
        "        codigo, nome, preco = produtos.strip().split(\";\")\n",
        "        print(f\"\\nCódigo do produto: {codigo}\\nNome do produto: {nome}\\nValor do produto: {preco}\")\n",
        "    arquivo.close()\n",
        "\n",
        "def main():\n",
        "    opcao = menu()\n",
        "\n",
        "    while opcao != 3:\n",
        "        if opcao == 1:\n",
        "            cadastro()\n",
        "        elif opcao == 2:\n",
        "            visualizacao()\n",
        "        else:\n",
        "            print(\"Opção inválida!\")\n",
        "        opcao = menu()\n",
        "\n",
        "main()"
      ]
    },
    {
      "cell_type": "markdown",
      "metadata": {
        "id": "7qLNzo1C_7K5"
      },
      "source": [
        "### 3. Elabore uma estrutura para representar e armazenar 10 alunos (matricula, nome, telefone). Utilize os recursos de arquivo para armazenar estes dados permanentemente. O nome do arquivo deve ser o mesmo da estrutura. Construa um menu com as seguintes opções, cada uma delas deve ter uma função e a main para chamar todas elas.\n",
        "\n",
        "Menu de opções:\n",
        "1. Cadastrar alunos\n",
        "2. Visualizar todos os dados\n",
        "3. Sair\n"
      ]
    },
    {
      "cell_type": "code",
      "execution_count": null,
      "metadata": {
        "id": "UHD2oMlJyLzc",
        "colab": {
          "base_uri": "https://localhost:8080/"
        },
        "outputId": "c469407f-2d64-4114-8c07-ebd8751d5a46"
      },
      "outputs": [
        {
          "name": "stdout",
          "output_type": "stream",
          "text": [
            "\n",
            "* Menu de opções *\n",
            "1- Cadastrar alunos\n",
            "2- Visualizar todos os dados\n",
            "3- Sair\n",
            "\n",
            "Digite a opção desejada: 1\n",
            "\n",
            "Digite o número da matricula: 12\n",
            "Digite o nome do aluno: Ana\n",
            "Digite o número do telefone: 18981558922\n",
            "\n",
            "Digite o número da matricula: 58\n",
            "Digite o nome do aluno: Andre\n",
            "Digite o número do telefone: 18997253698\n",
            "\n",
            "* Menu de opções *\n",
            "1- Cadastrar alunos\n",
            "2- Visualizar todos os dados\n",
            "3- Sair\n",
            "\n",
            "Digite a opção desejada: 3\n"
          ]
        }
      ],
      "source": [
        "class classAlunos():\n",
        "    matricula = 0\n",
        "    nome = \"\"\n",
        "    telefone = 0\n",
        "\n",
        "def menu():\n",
        "    print(\"\\n* Menu de opções *\\n1- Cadastrar alunos\\n2- Visualizar todos os dados\\n3- Sair\")\n",
        "    opcao = int(input(\"\\nDigite a opção desejada: \"))\n",
        "\n",
        "    return opcao\n",
        "\n",
        "def cadastro():\n",
        "    arquivo = open(\"alunos.txt\", \"w\")\n",
        "\n",
        "    for i in range(2):\n",
        "        alunos = classAlunos()\n",
        "\n",
        "        alunos.matricula = int(input(\"\\nDigite o número da matricula: \"))\n",
        "        alunos.nome = input(\"Digite o nome do aluno: \")\n",
        "        alunos.telefone = int(input(\"Digite o número do telefone: \"))\n",
        "        arquivo.write(f\"{alunos.matricula};{alunos.nome};{alunos.telefone}\\n\")\n",
        "    arquivo.close()\n",
        "\n",
        "def visualizacao():\n",
        "    arquivo = open(\"alunos.txt\", \"r\")\n",
        "\n",
        "    for alunos in arquivo.readlines():\n",
        "        matricula, nome, telefone = alunos.strip().split(\";\")\n",
        "        print(f\"\\nNúmero da matricula: {matricula}\\nNome do aluno: {nome}\\nNúmero de telefone: {telefone}\")\n",
        "    arquivo.close()\n",
        "\n",
        "def main():\n",
        "    opcao = menu()\n",
        "\n",
        "    while opcao != 3:\n",
        "        if opcao == 1:\n",
        "            cadastro()\n",
        "        elif opcao == 2:\n",
        "            visualizacao()\n",
        "        else:\n",
        "            print(\"Opção inválida!\")\n",
        "        opcao = menu()\n",
        "\n",
        "main()"
      ]
    },
    {
      "cell_type": "markdown",
      "metadata": {
        "id": "4zGuLRRXt0D_"
      },
      "source": [
        "### 4. Baixe o arquivo futebol.txt que esta na pasta Material do aula do Teams. Leia este arquivo e o apresente. Com os dados lidos, armazene na estrutura Futebol (posicao_jogo, altura, peso, imc), calcule o IMC (Índice de Massa Corporal), armazene na estrutura e também em outro arquivo, mas agora chamado futebol_imc.txt. Apresente este novo arquivo.\n",
        "Observação: esse exercício deve ser carregado o arquivo futebol.txt, aqui no Colab, no menu (ícone pasta) do lado esquerdo, que estará disponível no Classroom."
      ]
    },
    {
      "cell_type": "code",
      "execution_count": null,
      "metadata": {
        "id": "nU0x1v2Vt1-w"
      },
      "outputs": [],
      "source": [
        "# imc = peso / (altura ** 2)\n",
        "arquivo = open(\"/content/drive/MyDrive/futebol.txt\")"
      ]
    },
    {
      "cell_type": "code",
      "source": [
        "from google.colab import drive\n",
        "drive.mount('/content/drive')"
      ],
      "metadata": {
        "colab": {
          "base_uri": "https://localhost:8080/"
        },
        "id": "wALv_kSxNxYV",
        "outputId": "380c6f3f-09f2-4134-da46-3c0e29ddc0b5"
      },
      "execution_count": null,
      "outputs": [
        {
          "output_type": "stream",
          "name": "stdout",
          "text": [
            "Drive already mounted at /content/drive; to attempt to forcibly remount, call drive.mount(\"/content/drive\", force_remount=True).\n"
          ]
        }
      ]
    },
    {
      "cell_type": "code",
      "source": [
        "class classeFutebol():\n",
        "    posicao_jogo = ''\n",
        "    altura = 0\n",
        "    peso = 0\n",
        "    imc = 0\n",
        "\n",
        "def cadastro():\n",
        "    arquivo = open('/content/drive/MyDrive/futebol.txt', 'r')\n",
        "    arquivo_imc = open('futebol_imc.txt', 'w')\n",
        "\n",
        "    for jogador in arquivo.readlines():\n",
        "        jogador = jogador.strip().split(',')\n",
        "        posicao_jogo, altura, peso = jogador\n",
        "\n",
        "        imc = float(peso) / (float(altura) ** 2)\n",
        "\n",
        "        arquivo_imc.write(f'{posicao_jogo};{altura};{peso};{imc:.2f}\\n')\n",
        "\n",
        "    arquivo.close()\n",
        "    arquivo_imc.close()\n",
        "\n",
        "def visualizar():\n",
        "    arquivo_imc = open('futebol_imc.txt', 'r')\n",
        "\n",
        "    for jogador in arquivo_imc.readlines():\n",
        "        jogador = jogador.strip().split(';')\n",
        "        posicao_jogo, altura, peso, imc = jogador\n",
        "\n",
        "        print(f'Posição de jogo: {posicao_jogo}\\nAltura: {altura}\\nPeso: {peso}\\nIMC: {imc}\\n')\n",
        "\n",
        "    arquivo_imc.close()\n",
        "\n",
        "def main():\n",
        "    cadastro()\n",
        "\n",
        "    visualizar()\n",
        "\n",
        "main()"
      ],
      "metadata": {
        "colab": {
          "base_uri": "https://localhost:8080/"
        },
        "id": "oyI7OBWFCsm3",
        "outputId": "b4985734-4f87-415b-ce92-6ad1d74266c3"
      },
      "execution_count": null,
      "outputs": [
        {
          "output_type": "stream",
          "name": "stdout",
          "text": [
            "Posição de jogo: Zagueiro\n",
            "Altura: 1.79\n",
            "Peso: 78.0\n",
            "IMC: 24.34\n",
            "\n",
            "Posição de jogo: Zagueiro\n",
            "Altura: 1.78\n",
            "Peso: 85.0\n",
            "IMC: 26.83\n",
            "\n",
            "Posição de jogo: Meio campo\n",
            "Altura: 1.75\n",
            "Peso: 71.1\n",
            "IMC: 23.22\n",
            "\n",
            "Posição de jogo: Meio campo\n",
            "Altura: 1.81\n",
            "Peso: 73.5\n",
            "IMC: 22.44\n",
            "\n",
            "Posição de jogo: Meio campo\n",
            "Altura: 1.75\n",
            "Peso: 73.5\n",
            "IMC: 24.00\n",
            "\n",
            "Posição de jogo: Goleiro\n",
            "Altura: 1.85\n",
            "Peso: 81.0\n",
            "IMC: 23.67\n",
            "\n",
            "Posição de jogo: Atacante\n",
            "Altura: 1.87\n",
            "Peso: 81.7\n",
            "IMC: 23.36\n",
            "\n",
            "Posição de jogo: Atacante\n",
            "Altura: 1.65\n",
            "Peso: 55.5\n",
            "IMC: 20.39\n",
            "\n",
            "Posição de jogo: Atacante\n",
            "Altura: 1.78\n",
            "Peso: 77.9\n",
            "IMC: 24.59\n",
            "\n",
            "Posição de jogo: Lateral\n",
            "Altura: 1.70\n",
            "Peso: 66.0\n",
            "IMC: 22.84\n",
            "\n",
            "Posição de jogo: Lateral\n",
            "Altura: 1.74\n",
            "Peso: 63.7\n",
            "IMC: 21.04\n",
            "\n"
          ]
        }
      ]
    }
  ],
  "metadata": {
    "colab": {
      "provenance": [],
      "include_colab_link": true
    },
    "kernelspec": {
      "display_name": "Python 3",
      "name": "python3"
    }
  },
  "nbformat": 4,
  "nbformat_minor": 0
}