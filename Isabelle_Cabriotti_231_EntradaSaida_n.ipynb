{
  "nbformat": 4,
  "nbformat_minor": 0,
  "metadata": {
    "colab": {
      "provenance": [],
      "include_colab_link": true
    },
    "kernelspec": {
      "name": "python3",
      "display_name": "Python 3"
    }
  },
  "cells": [
    {
      "cell_type": "markdown",
      "metadata": {
        "id": "view-in-github",
        "colab_type": "text"
      },
      "source": [
        "<a href=\"https://colab.research.google.com/github/IsabelleCabriotti/Python/blob/main/Isabelle_Cabriotti_231_EntradaSaida_n.ipynb\" target=\"_parent\"><img src=\"https://colab.research.google.com/assets/colab-badge.svg\" alt=\"Open In Colab\"/></a>"
      ]
    },
    {
      "cell_type": "markdown",
      "metadata": {
        "id": "5gti273fgVUm"
      },
      "source": [
        "# Exercícios para construir programas com ENTRADA, PROCESSAMENTO e SAÍDA"
      ]
    },
    {
      "cell_type": "code",
      "source": [
        "n1 = 56\n",
        "n2 = 39\n",
        "resultado = n1 + n2\n",
        "resultado"
      ],
      "metadata": {
        "colab": {
          "base_uri": "https://localhost:8080/"
        },
        "id": "pWU-5VvwUBO3",
        "outputId": "634986ad-20df-4353-807a-1f82c007b895"
      },
      "execution_count": null,
      "outputs": [
        {
          "output_type": "execute_result",
          "data": {
            "text/plain": [
              "95"
            ]
          },
          "metadata": {},
          "execution_count": 17
        }
      ]
    },
    {
      "cell_type": "markdown",
      "metadata": {
        "id": "OhRjsGO5gXft"
      },
      "source": [
        "### 1. Faça um programa que leia um número, multiplique ele por 2 e apresente o resultado.\n",
        "      LEIA numero\n",
        "      resultado = numero * 2\n",
        "      ESCREVA resultado"
      ]
    },
    {
      "cell_type": "code",
      "metadata": {
        "id": "gl_HmcKjgIgH",
        "colab": {
          "base_uri": "https://localhost:8080/"
        },
        "outputId": "923df5a3-572a-4665-dd90-5609e5df1c57"
      },
      "source": [
        "# 1º passo - identificar a(s) entrada(s) - variável número\n",
        "numero = int(input('Informe um valor......: '))\n",
        "\n",
        "# 2º passo - identificar o processamento/cálculo\n",
        "resultado = numero * 2\n",
        "\n",
        "# 3º passo - apresentar a(s) variáveis que foram calculadas\n",
        "print('A soma é=',resultado)"
      ],
      "execution_count": null,
      "outputs": [
        {
          "output_type": "stream",
          "name": "stdout",
          "text": [
            "Informe um valor......: 3\n",
            "A soma é= 6\n"
          ]
        }
      ]
    },
    {
      "cell_type": "code",
      "source": [
        "numero = int(input(\"Digite um valor....:\"))\n",
        "\n",
        "resultado = numero * 2\n",
        "\n",
        "print(\"A soma dos resultados é =\",resultado)"
      ],
      "metadata": {
        "colab": {
          "base_uri": "https://localhost:8080/"
        },
        "id": "VlcQwgvKbSQs",
        "outputId": "c97588a6-3ca3-46d5-e755-f9e244dc56bc"
      },
      "execution_count": null,
      "outputs": [
        {
          "output_type": "stream",
          "name": "stdout",
          "text": [
            "Digite um valor....:40\n",
            "A soma dos resultados é = 80\n"
          ]
        }
      ]
    },
    {
      "cell_type": "markdown",
      "metadata": {
        "id": "tYDfNkC3geee"
      },
      "source": [
        "### 2. Faça um programa que:\n",
        "* receba três números inteiros\n",
        "* calcule e mostre a soma desses números.\n"
      ]
    },
    {
      "cell_type": "code",
      "metadata": {
        "id": "KVDopJZngcRf",
        "colab": {
          "base_uri": "https://localhost:8080/"
        },
        "outputId": "9d9bafc9-f7d2-4f7c-e0e1-d756e4cc3673"
      },
      "source": [
        "n1 = int(input(\"Informe os numeros a serem somados....:\"))\n",
        "n2 = int(input(\"Informe os numeros a serem somados....:\"))\n",
        "n3 = int(input(\"Informe os numeros a serem somados....:\"))\n",
        "\n",
        "resultado = n1 + n2 + n3\n",
        "\n",
        "print(\"A soma dos resultados é=\",resultado)"
      ],
      "execution_count": null,
      "outputs": [
        {
          "output_type": "stream",
          "name": "stdout",
          "text": [
            "Informe os numeros a serem somados....:40\n",
            "Informe os numeros a serem somados....:35\n",
            "Informe os numeros a serem somados....:66\n",
            "A soma dos resultados é= 141\n"
          ]
        }
      ]
    },
    {
      "cell_type": "markdown",
      "metadata": {
        "id": "lMGZBLxfghBl"
      },
      "source": [
        "### 3. Faça um programa que receba três notas, calcule e mostre a média aritmética.     "
      ]
    },
    {
      "cell_type": "code",
      "metadata": {
        "id": "awkP7ZbHgxRO",
        "colab": {
          "base_uri": "https://localhost:8080/"
        },
        "outputId": "25635bac-8770-44d5-e318-e26f82d0042b"
      },
      "source": [
        "p1 = int(input(\"Nota obtida na P1..:\"))\n",
        "p2 = int(input(\"Nota obtida na P2..:\"))\n",
        "p3 = int(input(\"Nota obtida na P3..:\"))\n",
        "\n",
        "resultado = p1 + p2 + p3 / 2\n",
        "\n",
        "print(\"A media obtida nas 3 provas é=\",resultado)"
      ],
      "execution_count": null,
      "outputs": [
        {
          "output_type": "stream",
          "name": "stdout",
          "text": [
            "Nota obtida na P1..:6\n",
            "Nota obtida na P2..:8\n",
            "Nota obtida na P3..:6\n",
            "A media obtida nas 3 provas é= 17.0\n"
          ]
        }
      ]
    },
    {
      "cell_type": "markdown",
      "metadata": {
        "id": "wh1Bjz9agxme"
      },
      "source": [
        "### 4. Faça um programa que:\n",
        "* receba o salário de um funcionário\n",
        "* calcule e mostre o novo salário, sabendo-se que este sofreu um aumento de 25%.\n",
        "\n",
        "      LEIA salario\n",
        "      novoSalario = salario + (salario * 25 / 100)\n",
        "      ESCREVA novoSalario"
      ]
    },
    {
      "cell_type": "code",
      "metadata": {
        "id": "FxXwABFVgygE",
        "colab": {
          "base_uri": "https://localhost:8080/"
        },
        "outputId": "e3ca770e-a8b7-4593-ac34-96b228d96773"
      },
      "source": [
        "salario = int(input(\"Salario atual....:\"))\n",
        "\n",
        "novosalario = salario + (salario * 25 / 100)\n",
        "\n",
        "print(\"Novo salario após o aumento =\",novosalario)"
      ],
      "execution_count": null,
      "outputs": [
        {
          "output_type": "stream",
          "name": "stdout",
          "text": [
            "Salario atual....:1500\n",
            "Novo salario após o aumento = 1875.0\n"
          ]
        }
      ]
    },
    {
      "cell_type": "markdown",
      "metadata": {
        "id": "YQP_f4hzgyrh"
      },
      "source": [
        "### 5. Faça um programa que receba o salário de um funcionário e o percentual de aumento, calcule e mostre o valor do aumento e o novo salário.\n"
      ]
    },
    {
      "cell_type": "code",
      "metadata": {
        "id": "9T2dzNEug1PR",
        "colab": {
          "base_uri": "https://localhost:8080/"
        },
        "outputId": "320d7e10-1456-4732-a002-05e68d776f98"
      },
      "source": [
        "salario = int(input(\"Salario atual....:\"))\n",
        "porcentual = int(input(\"Percentual de aumento....:\"))\n",
        "\n",
        "novosalario = salario + (salario * porcentual / 100)\n",
        "novo = novosalario - (salario)\n",
        "\n",
        "print(\"Valor do aumento =\",novo)\n",
        "print(\"Novo salario após o aumento =\",novosalario)"
      ],
      "execution_count": null,
      "outputs": [
        {
          "output_type": "stream",
          "name": "stdout",
          "text": [
            "Salario atual....:1600\n",
            "Porcentual de aumento....:25\n",
            "Valor do aumento = 400.0\n",
            "Novo salario após o aumento = 2000.0\n"
          ]
        }
      ]
    },
    {
      "cell_type": "markdown",
      "metadata": {
        "id": "PXXsNWWEg1bu"
      },
      "source": [
        "### 6. Faça um programa que receba o salário base de um funcionário, calcule e mostre o salário a receber, sabendo-se que o funcionário tem gratificação de 5% sobre o salário base e **paga imposto** de 7% também sobre o salário base."
      ]
    },
    {
      "cell_type": "code",
      "metadata": {
        "id": "x7xfAIUgg5qV",
        "colab": {
          "base_uri": "https://localhost:8080/"
        },
        "outputId": "c5332905-78b3-4366-8bea-686cb15536c3"
      },
      "source": [
        "salariobase = int(input(\"Salario base..:\"))\n",
        "\n",
        "imposto = (salariobase * 7 / 100)\n",
        "gratificacao = (salariobase * 5 / 100)\n",
        "salario_a_receber = salariobase + gratificacao - imposto\n",
        "\n",
        "print(\"Salario a receber..:\",salario_a_receber)"
      ],
      "execution_count": null,
      "outputs": [
        {
          "output_type": "stream",
          "name": "stdout",
          "text": [
            "Salario base..:1000\n",
            "Salario a receber..: 980.0\n"
          ]
        }
      ]
    },
    {
      "cell_type": "markdown",
      "metadata": {
        "id": "wSkc33VHg50d"
      },
      "source": [
        "### 7. Faça um programa que receba o salário base de um funcionário, calcule e mostre seu salário a receber, sabendo-se que o funcionário tem gratificação de 50,00 sobre o salário base e **paga** imposto que deve ser lido e é aplicado sobre o salário base.\n",
        "\n",
        "    LEIA salario, perImposto\n",
        "    imposto = salario * perImposto / 100\n",
        "    salario_a_receber = salario + 50 - imposto\n",
        "    ESCREVA salario_a_receber"
      ]
    },
    {
      "cell_type": "code",
      "metadata": {
        "id": "rEwclxM7g8cj",
        "colab": {
          "base_uri": "https://localhost:8080/"
        },
        "outputId": "7c3bffa6-fa1b-4e81-92be-1bfc886188ce"
      },
      "source": [
        "salariobase = int(input(\"salario base..:\"))\n",
        "perImposto = int(input(\"Percentual de imposto..:\"))\n",
        "\n",
        "imposto = (salariobase * perImposto / 100)\n",
        "salario_a_receber = (salariobase + 50 - imposto)\n",
        "\n",
        "print(\"Salario a receber..:\",salario_a_receber)"
      ],
      "execution_count": null,
      "outputs": [
        {
          "output_type": "stream",
          "name": "stdout",
          "text": [
            "salario base..:1500\n",
            "Porcentual de imposto..:7\n",
            "Salario a receber..: 1445.0\n"
          ]
        }
      ]
    },
    {
      "cell_type": "markdown",
      "metadata": {
        "id": "pvZSNjjzg8oq"
      },
      "source": [
        "### 8. Faça um programa que receba o valor de um depósito e o valor da taxa de juros, calcule e mostre o valor do rendimento e o valor total depois do rendimento de um mês.\n",
        "    rendimento = deposito * taxa / 100\n",
        "    total = deposito + rendimento"
      ]
    },
    {
      "cell_type": "code",
      "metadata": {
        "id": "k0zejQegg9ma",
        "colab": {
          "base_uri": "https://localhost:8080/"
        },
        "outputId": "0f1b33a4-8149-47de-a84d-76af952cb786"
      },
      "source": [
        "deposito = int(input(\"Valor do deposito..:\"))\n",
        "taxa = int(input(\"Taxa de juros..:\"))\n",
        "\n",
        "rendimento = deposito * taxa / 100\n",
        "total = deposito + rendimento\n",
        "valor_rendimento = total - deposito\n",
        "\n",
        "print(\"Valor do rendimento..:\",valor_rendimento)\n",
        "print(\"Valor após rendimento..:\",total)"
      ],
      "execution_count": null,
      "outputs": [
        {
          "output_type": "stream",
          "name": "stdout",
          "text": [
            "Valor do deposito..:1000\n",
            "Taxa de juros..:7\n",
            "Valor do rendimento..: 70.0\n",
            "Valor após rendimento..: 1070.0\n"
          ]
        }
      ]
    },
    {
      "cell_type": "markdown",
      "metadata": {
        "id": "z42ADdywg9xS"
      },
      "source": [
        "### 9. Faça um programa que calcule e mostre a área de um triângulo. Sabe-se que: Área = (base * altura) / 2."
      ]
    },
    {
      "cell_type": "code",
      "metadata": {
        "id": "F-yamLhahCTK",
        "colab": {
          "base_uri": "https://localhost:8080/"
        },
        "outputId": "3de9cdec-7cbd-479c-f373-47e1b5ede090"
      },
      "source": [
        "base = int(input(\"Digite o valor da base..:\"))\n",
        "altura = int(input(\"Digite o valor da altura..:\"))\n",
        "\n",
        "area_total = (base * altura) / 2\n",
        "\n",
        "print(\"Area total do triangulo..:\",area_total)"
      ],
      "execution_count": null,
      "outputs": [
        {
          "output_type": "stream",
          "name": "stdout",
          "text": [
            "Digite o valor da base..:5\n",
            "Digite o valor da altura..:7\n",
            "Area total do triangulo..: 17.5\n"
          ]
        }
      ]
    },
    {
      "cell_type": "markdown",
      "metadata": {
        "id": "s4oSY4EghCfn"
      },
      "source": [
        "### 10. Faça um programa que calcule e mostre a área de um círculo. Sabe-se que:\n",
        "    area = pi * raio² ou\n",
        "    area = 3.1415 * raio²"
      ]
    },
    {
      "cell_type": "code",
      "metadata": {
        "id": "tvPiHGB0hE5N",
        "colab": {
          "base_uri": "https://localhost:8080/"
        },
        "outputId": "b46eb077-f771-4a81-97a5-33a0f7216185"
      },
      "source": [
        "raio = int(input(\"Digite o valor do raio..:\"))\n",
        "\n",
        "area = 3.1415 * raio ** 2\n",
        "\n",
        "print(\"Area total do circulo..:\",area)"
      ],
      "execution_count": null,
      "outputs": [
        {
          "output_type": "stream",
          "name": "stdout",
          "text": [
            "Digite o valor do raio..:5\n",
            "Area total do circulo..: 78.53750000000001\n"
          ]
        }
      ]
    },
    {
      "cell_type": "markdown",
      "metadata": {
        "id": "vTot3sXrhFAT"
      },
      "source": [
        "### 11. Faça um programa que receba um número, calcule e mostre:\n",
        "* O número digitado ao quadrado\n",
        "* O número digitado ao cubo\n",
        "* A raiz do número digitado\n",
        "* A raiz cúbica do número digitado\n",
        "\n",
        "      LEIA numero\n",
        "      quadrado = numero ** 2\n",
        "      cubo = numero ** 3\n",
        "      raiz_quadrada = numero ** (½) (meio, ou 0.5)\n",
        "      raiz_cubica = numero ** (⅓) (um terço, ou 0.33)\n",
        "      ESCREVA quadrado, cubo, raiz_quadrada, raiz_cubica\n",
        "\n",
        "\n",
        "      raiz_quadrada = numero ** (1/2) ou\n",
        "      raiz_quadrada = numero ** 0.5"
      ]
    },
    {
      "cell_type": "code",
      "metadata": {
        "id": "TT0-h8nChILi",
        "colab": {
          "base_uri": "https://localhost:8080/"
        },
        "outputId": "7c2a5fbd-26c6-4892-fd3c-df0fe78c8212"
      },
      "source": [
        "numero = int(input(\"Digite um numero..:\"))\n",
        "\n",
        "quadrado = numero ** 2\n",
        "cubo = numero ** 3\n",
        "raiz_quadrada = numero ** 0.5\n",
        "raiz_cubica = numero ** 0.33\n",
        "\n",
        "print(\"Numero digitado ao quadradro\",quadrado)\n",
        "print(\"Numero digitado ao cubo..\",cubo)\n",
        "print(\"Raiz do numero digitado\",raiz_quadrada)\n",
        "print(\"Raiz cubida do numero digitado\",raiz_cubica)"
      ],
      "execution_count": null,
      "outputs": [
        {
          "output_type": "stream",
          "name": "stdout",
          "text": [
            "Digite um numero..:2\n",
            "Numero digitado ao quadradro 4\n",
            "Numero digitado ao cubo.. 8\n",
            "Raiz do numero digitado 1.4142135623730951\n",
            "Raiz cubida do numero digitado 1.2570133745218284\n"
          ]
        }
      ]
    },
    {
      "cell_type": "markdown",
      "metadata": {
        "id": "6w8k1c0ShIWK"
      },
      "source": [
        "### 12. Faça um programa que receba dois números, calcule e mostre um elevado ao outro. Use os caracteres **\n"
      ]
    },
    {
      "cell_type": "code",
      "metadata": {
        "id": "2KMY_7MQhKuf",
        "colab": {
          "base_uri": "https://localhost:8080/"
        },
        "outputId": "4ca5b0f9-65af-4993-8253-4cf1e0a353cc"
      },
      "source": [
        "numero1 = int(input(\"Digite o primeiro numero..:\"))\n",
        "numero2 = int(input(\"Digite o segundo numero..:\"))\n",
        "\n",
        "elevacao = numero1 ** numero2\n",
        "\n",
        "print(\"Resultado da elevacao dos dois numeros\",elevacao)"
      ],
      "execution_count": null,
      "outputs": [
        {
          "output_type": "stream",
          "name": "stdout",
          "text": [
            "Digite o primeiro numero..:2\n",
            "Digite o segundo numero..:4\n",
            "Resultado da elevacao dos dois numeros 16\n"
          ]
        }
      ]
    },
    {
      "cell_type": "markdown",
      "metadata": {
        "id": "IKp4FbUQhK3f"
      },
      "source": [
        "### 13. Sabe-se que:\n",
        "\n",
        "* pé = 12 polegadas\n",
        "* 1 jarda = 3 pés\n",
        "* 1 milha = 1760 jarda\n",
        "\n",
        "Faça um programa que receba uma medida em pés, faça as conversões a seguir e mostre os resultados.\n",
        "\n",
        "* Polegadas;\n",
        "* Jardas;\n",
        "* Milhas.\n",
        "\n",
        "      LEIA pes\n",
        "      polegadas = pes * 12\n",
        "      jardas = pes / 3\n",
        "      milhas = jardas / 1760\n",
        "      ESCREVA polegadas, jardas, milhas"
      ]
    },
    {
      "cell_type": "code",
      "metadata": {
        "id": "RIaq7VtchNNp",
        "colab": {
          "base_uri": "https://localhost:8080/"
        },
        "outputId": "fd9ceb08-29f1-4cbb-9900-8d6aa927067e"
      },
      "source": [
        "pes = int(input(\"Digite uma medida em pes..:\"))\n",
        "\n",
        "polegadas = pes * 12\n",
        "jardas = pes / 3\n",
        "milhas = jardas / 1760\n",
        "\n",
        "print(\"Resuldado da medida em polegas..:\",polegadas)\n",
        "print(\"Resultado da medida em jardas..:\",jardas)\n",
        "print(\"Resultado da medida em milhas..:\",milhas)"
      ],
      "execution_count": null,
      "outputs": [
        {
          "output_type": "stream",
          "name": "stdout",
          "text": [
            "Digite uma medida em pes..:2000\n",
            "Resuldado da medida em polegas..: 24000\n",
            "Resultado da medida em jardas..: 666.6666666666666\n",
            "Resultado da medida em milhas..: 0.3787878787878788\n"
          ]
        }
      ]
    },
    {
      "cell_type": "markdown",
      "metadata": {
        "id": "AuDRKznFhNXx"
      },
      "source": [
        "### 14. Faça um programa que receba o ano de nascimento de uma pessoa e o ano atual, calcule e mostre:\n",
        "* a idade atual da pessoa;\n",
        "* quantos anos ela terá em 2050."
      ]
    },
    {
      "cell_type": "code",
      "metadata": {
        "id": "OMzeO-7bhOGb",
        "colab": {
          "base_uri": "https://localhost:8080/"
        },
        "outputId": "86ca982c-9472-4c28-fc7e-81ade40091d8"
      },
      "source": [
        "ano_nascimento = int(input(\"Digite o ano de nascimento..:\"))\n",
        "ano_atual = int(input(\"Digite o ano atual..:\"))\n",
        "\n",
        "idade_atual = ano_atual - ano_nascimento\n",
        "idade_2050 = 2050 - ano_nascimento\n",
        "\n",
        "print(\"Idade atual da pessoa..:\",idade_atual)\n",
        "print(\"Idade da pessoa em 2050..:\",idade_2050)"
      ],
      "execution_count": null,
      "outputs": [
        {
          "output_type": "stream",
          "name": "stdout",
          "text": [
            "Digite o ano de nascimento..:1975\n",
            "Digite o ano atual..:2023\n",
            "Idade atual da pessoa..: 48\n",
            "Idade da pessoa em 2050..: 75\n"
          ]
        }
      ]
    },
    {
      "cell_type": "markdown",
      "metadata": {
        "id": "C23LWTfwhOPH"
      },
      "source": [
        "#### 15. O custo ao consumidor de um carro novo é a soma do preço de fábrica com o percentual de lucro do distribuidor e dos impostos aplicados ao preço de fábrica. Faça um programa que receba o preço de fábrica de um veículo, o percentual de lucro do distribuidor e o percentual de impostos, calcule e mostre:\n",
        "* o valor correspondente ao lucro do distribuidor;\n",
        "* o valor correspondente aos impostos;\n",
        "* o preço final do veículo.\n",
        "        LEIA preco_fabrica\n",
        "        LEIA percentual_lucro_distribuidor\n",
        "        LEIA percentual_imposto\n",
        "        lucro_distribuidor = preco_fabrica * percentual_lucro_distribuidor / 100\n",
        "        valor_imposto = preco_fabrica * percentual_imposto / 100\n",
        "        preco_final = preco_fabrica + lucro_distribuidor + valor_imposto\n",
        "        ESCREVA lucro_distribuidor\n",
        "        ESCREVA valor_imposto\n",
        "        ESCREVA preco_final\n"
      ]
    },
    {
      "cell_type": "code",
      "metadata": {
        "id": "WCpDCuR6hRlb",
        "colab": {
          "base_uri": "https://localhost:8080/"
        },
        "outputId": "908b4f03-458b-4d2c-a922-d1a83d0c39aa"
      },
      "source": [
        "preco_fabrica = int(input(\"Digite o valor do preço de fabrica..:\"))\n",
        "percentual_lucro_distribuidor = int(input(\"Digite o percentual de lucro..:\"))\n",
        "percentual_imposto = int(input(\"Digite o percentual de impostos..:\"))\n",
        "\n",
        "lucro_distribuidor = preco_fabrica * percentual_lucro_distribuidor / 100\n",
        "valor_imposto = preco_fabrica * percentual_imposto / 100\n",
        "preco_final = preco_fabrica + lucro_distribuidor + valor_imposto\n",
        "\n",
        "print(\"Lucro final do distribuidor..:\",lucro_distribuidor)\n",
        "print(\"Valor correspondente aos impostos..:\",valor_imposto)\n",
        "print(\"Preço final do veiculo..:\",preco_final)"
      ],
      "execution_count": null,
      "outputs": [
        {
          "output_type": "stream",
          "name": "stdout",
          "text": [
            "Digite o valor do preço de fabrica..:75000\n",
            "Digite o percentual de lucro..:20\n",
            "Digite o percentual de impostos..:15\n",
            "Lucro final do distribuidor..: 15000.0\n",
            "Valor correspondente aos impostos..: 11250.0\n",
            "Preço final do veiculo..: 101250.0\n"
          ]
        }
      ]
    },
    {
      "cell_type": "markdown",
      "metadata": {
        "id": "eHRob5vghRuI"
      },
      "source": [
        "### 16. Faça um programa que receba o número de horas trabalhadas e o valor do salário mínimo, calcule e mostre o salário a receber, seguindo estas regras:\n",
        "* a hora trabalhada vale a metade do salário mínimo.\n",
        "* o salário bruto equivale ao número de horas trabalhadas multiplicado pelo valor da hora trabalhada.\n",
        "* o imposto equivale a 3% do salário bruto.\n",
        "* o salário a receber equivale ao salário bruto menos o imposto.\n",
        "      LEIA qtde_horas_trabalhadas\n",
        "      LEIA valor_salario_minimo\n",
        "      valor_hora_trabalhada = valor_salario_minimo / 2\n",
        "      valor_salario_bruto = valor_hora_trabalhada * qtde_horas_trabalhadas\n",
        "      imposto = valor_salario_bruto * 3 / 100\n",
        "      valor_salario_liquido =  valor_salario_bruto - imposto\n",
        "      ESCREVA valor_salario_liquido"
      ]
    },
    {
      "cell_type": "code",
      "metadata": {
        "id": "w_Kil4knhVrJ",
        "colab": {
          "base_uri": "https://localhost:8080/"
        },
        "outputId": "20273368-c6ca-422a-efa6-f26e10f9013a"
      },
      "source": [
        "qtde_horas_trabalhadas = int(input(\"Digite a quantidade de horas trabalhadas..:\"))\n",
        "valor_salario_minimo = int(input(\"Digite o valor do salario minimo..:\"))\n",
        "\n",
        "valor_hora_trabalhada = valor_salario_minimo / 2\n",
        "valor_salario_bruto = valor_hora_trabalhada * qtde_horas_trabalhadas\n",
        "imposto = valor_salario_bruto * 3 / 100\n",
        "valor_salario_liquido = valor_salario_bruto - imposto\n",
        "\n",
        "print(\"Salario liquido á receber..:\",valor_salario_liquido)"
      ],
      "execution_count": null,
      "outputs": [
        {
          "output_type": "stream",
          "name": "stdout",
          "text": [
            "Digite a quantidade de horas trabalhadas..:220\n",
            "Digite o valor do salario minimo..:1320\n",
            "Salario liquido á receber..: 140844.0\n"
          ]
        }
      ]
    },
    {
      "cell_type": "markdown",
      "metadata": {
        "id": "0OW87yEnhV-V"
      },
      "source": [
        "### 17. Um trabalhador recebeu seu salário e o depositou em sua conta bancária. Esse trabalhador emitiu dois cheques e agora deseja saber seu saldo atual. O banco criou uma taxa para a operação bancária de retirada que tem que pagar um imposto de 0.38% e o saldo inicial da conta está zerado.\n",
        "\n",
        "      LEIA salario\n",
        "      LEIA valor_cheque1\n",
        "      LEIA valor_cheque2\n",
        "      imposto_cheque1 = valor_cheque1 * 0.38 / 100\n",
        "      saque1 = valor_cheque1 + imposto_cheque1\n",
        "      imposto_cheque2 = valor_cheque2 * 0.38 / 100\n",
        "      saque2 = valor_cheque2 + imposto_cheque2\n",
        "      saldo = salario - saque1 - saque2\n",
        "      ESCREVA saldo\n"
      ]
    },
    {
      "cell_type": "code",
      "metadata": {
        "id": "MUEC63qMhYu1",
        "colab": {
          "base_uri": "https://localhost:8080/"
        },
        "outputId": "0f30475c-3527-43de-f9e3-ee65af90967e"
      },
      "source": [
        "salario = int(input(\"Digite o valor do salario..:\"))\n",
        "valor_cheque1 = int(input(\"Digite o valor do 1 cheque..:\"))\n",
        "valor_cheque2 = int(input(\"Digite o valor do 2 cheque..:\"))\n",
        "\n",
        "imposto_cheque1 = valor_cheque1 * 0.38 / 100\n",
        "saque1 = valor_cheque1 + imposto_cheque1\n",
        "imposto_cheque2 = valor_cheque2 * 0.38 / 100\n",
        "saque2 = valor_cheque2 + imposto_cheque2\n",
        "saldo = salario - saque1 - saque2\n",
        "\n",
        "print(\"Valor do saldo atual..:\",saldo)"
      ],
      "execution_count": null,
      "outputs": [
        {
          "output_type": "stream",
          "name": "stdout",
          "text": [
            "Digite o valor do salario..:1640\n",
            "Digite o valor do 1 cheque..:365\n",
            "Digite o valor do 2 cheque..:458\n",
            "Valor do saldo atual..: 813.8726\n"
          ]
        }
      ]
    },
    {
      "cell_type": "markdown",
      "metadata": {
        "id": "tbHb8qiYheU3"
      },
      "source": [
        "### 18. Faça um programa que receba a medida do ângulo (em graus) formado por uma escada apoiada no chão e encostada na parede e a altura da parede onde está a ponta da escada. Calcule e mostre a medida dessa escada. Observação: as funções trigonométricas implementadas nas linguagens de programação trabalham com medidas de ângulos em radianos.\n",
        "      LEIA angulo\n",
        "      LEIA altura\n",
        "      import math # carrega a biblioteca matemática\n",
        "      radiano = angulo * math.pi / 180\n",
        "      escada = altura / math.sin(radiano)\n",
        "      ESCREVA escada\n",
        "**Observação**: Para usar seno em Python, deve-se usar esta linha de código **import math** e esta, no cálculo, **math.sin(numero)**\n",
        "\n",
        "**import math**\n",
        "\n",
        "escada = altura / **math.sin**(numero)"
      ]
    },
    {
      "cell_type": "code",
      "metadata": {
        "id": "Ijh7i02rhg0D",
        "colab": {
          "base_uri": "https://localhost:8080/"
        },
        "outputId": "197cab6b-8ada-4033-989f-6d89ca3c681b"
      },
      "source": [
        "angulo = int(input(\"Digite o valor do angulo..:\"))\n",
        "altura = int(input(\"Digite o valor da altura..:\"))\n",
        "\n",
        "import math\n",
        "radiano = angulo * math.pi / 100\n",
        "escada = altura / math.sin(radiano)\n",
        "\n",
        "print(\"Medida da escada..:\",escada)"
      ],
      "execution_count": null,
      "outputs": [
        {
          "output_type": "stream",
          "name": "stdout",
          "text": [
            "Digite o valor do angulo..:45\n",
            "Digite o valor da altura..:5\n",
            "Medida da escada..: 5.062325628940014\n"
          ]
        }
      ]
    },
    {
      "cell_type": "markdown",
      "metadata": {
        "id": "P2CNkCZ5hiJH"
      },
      "source": [
        "###19. Sabe-se que o quilowatt de energia custa um quinto do salário mínimo. Faça um programa que receba o valor do salário mínimo e a quantidade de quilowatts consumida por uma residência. Calcule e mostre:\n",
        "\n",
        "\n",
        "* o valor de cada quilowatt;\n",
        "* o valor a ser pago por essa residência;\n",
        "* o valor a ser pago com desconto de 15%.\n",
        "      LEIA valor_salario\n",
        "      LEIA qtde_quilowatt\n",
        "      valor_quilowatt = valor_salario / 5\n",
        "      valor_em_reais = valor_quilowatt * qtde_quilowatt\n",
        "      valor_descontado = valor_em_reais * 15 / 100\n",
        "      valor_com_desconto =  valor_em_reais − valor_descontado\n",
        "      ESCREVA valor_quilowatt\n",
        "      ESCREVA valor_em_reais\n",
        "      ESCREVA valor_com_desconto\n"
      ]
    },
    {
      "cell_type": "code",
      "metadata": {
        "id": "RJpeKC7NhmIf",
        "colab": {
          "base_uri": "https://localhost:8080/"
        },
        "outputId": "9fbc5a2e-6ebf-4b5a-e5d1-f318637f17ce"
      },
      "source": [
        "valor_salario = int(input(\"Digite o valor do salario minimo..:\"))\n",
        "qtde_quilowatt = int(input(\"Quantidade de quilowatt consumida..:\"))\n",
        "\n",
        "valor_quilowatt = valor_salario / 5\n",
        "valor_em_reais = valor_quilowatt * qtde_quilowatt\n",
        "valor_descontado = valor_em_reais * 15 / 100\n",
        "valor_com_desconto = valor_em_reais - valor_descontado\n",
        "\n",
        "print(\"Valor de cada quilowatt..:\",valor_quilowatt)\n",
        "print(\"Valor total a ser pago..:\",valor_em_reais)\n",
        "print(\"Valor total a ser pago com desconto de 15%..:\",valor_com_desconto)"
      ],
      "execution_count": null,
      "outputs": [
        {
          "output_type": "stream",
          "name": "stdout",
          "text": [
            "Digite o valor do salario minimo..:1320\n",
            "Quantidade de quilowatt consumida..:75\n",
            "Valor de cada quilowatt..: 264.0\n",
            "Valor total a ser pago..: 19800.0\n",
            "Valor total a ser pago com desconto de 15%..: 16830.0\n"
          ]
        }
      ]
    },
    {
      "cell_type": "markdown",
      "metadata": {
        "id": "hDmdn0BWhmTx"
      },
      "source": [
        "### 20. Faça um programa que receba um número real, encontre e mostre:\n",
        "\n",
        "* a parte inteira desse número;\n",
        "* a parte fracionária desse número;\n",
        "* o arredondamento desse número.\n",
        "\n",
        "      LEIA numero\n",
        "      parte_inteira = numero // 1\n",
        "      parte_fracionaria = numero - parte_inteira\n",
        "      numero_arredondado = round (numero)\n",
        "      ESCREVA parte_inteira\n",
        "      ESCREVA parte_fracionaria\n",
        "      ESCREVA numero_arredondado\n",
        "      \n",
        "**Observação**: Para arredondar um número em Python, usa-se a função **round(numero)**, onde se o número real/float estiver em igual distância entre o inteiro de cima e o inteiro de baixo, esta função arredonda para o número mais próximo.\n",
        "\n"
      ]
    },
    {
      "cell_type": "code",
      "metadata": {
        "id": "sT5U0LgGhozg",
        "colab": {
          "base_uri": "https://localhost:8080/"
        },
        "outputId": "418f8cb1-c9b0-4a43-db2c-167f9b1431b7"
      },
      "source": [
        "numero = float(input(\"Digite o numero..:\"))\n",
        "\n",
        "parte_inteira = numero // 1\n",
        "parte_fracionaria = numero - parte_inteira\n",
        "numero_arredondado = round (numero)\n",
        "\n",
        "print(\"Parte interia desse numero..:\",parte_inteira)\n",
        "print(\"Parte fracionária desse numero..:\",parte_fracionaria)\n",
        "print(\"Arredondamento desse numero..:\",numero_arredondado)"
      ],
      "execution_count": null,
      "outputs": [
        {
          "output_type": "stream",
          "name": "stdout",
          "text": [
            "Digite o numero..:25.7\n",
            "Parte interia desse numero..: 25.0\n",
            "Parte fracionária desse numero..: 0.6999999999999993\n",
            "Arredondamento desse numero..: 26\n"
          ]
        }
      ]
    },
    {
      "cell_type": "markdown",
      "metadata": {
        "id": "0Ae-WDdAho8j"
      },
      "source": [
        "### 21. Faça um programa que receba uma hora formada por hora e minutos (um número real), calcule e mostre a hora digitada apenas em minutos. Lembre-se de que:\n",
        "* para quatro e meia, deve-se digitar 4.30;\n",
        "* os minutos vão de 0 a 59.\n",
        "      LEIA hora\n",
        "      h = pegar a parte inteira da variável hora\n",
        "      minutos = hora − h\n",
        "      conversao = (h * 60) + (minutos * 100)\n",
        "      ESCREVA conversao\n"
      ]
    },
    {
      "cell_type": "code",
      "metadata": {
        "id": "ePoxc4bohrQm",
        "colab": {
          "base_uri": "https://localhost:8080/"
        },
        "outputId": "596afde2-a456-46e7-c115-0fe565fa508a"
      },
      "source": [
        "hora = float(input(\"Digite o horario..:\"))\n",
        "\n",
        "h = hora // 1\n",
        "minutos = hora - h\n",
        "conversao = (h * 60) + (minutos * 100)\n",
        "\n",
        "print(\"Horario convertido em minutos..:\",conversao)"
      ],
      "execution_count": null,
      "outputs": [
        {
          "output_type": "stream",
          "name": "stdout",
          "text": [
            "Digite o horario..:5.30\n",
            "Horario convertido em minutos..: 330.0\n"
          ]
        }
      ]
    },
    {
      "cell_type": "markdown",
      "metadata": {
        "id": "-YjvNy_DhrZa"
      },
      "source": [
        "### 22. Faça um programa que receba o custo de um espetáculo teatral e o preço do convite desse espetáculo. Esse programa deverá calcular e mostrar a quantidade de convites que devem ser vendidos para que, pelo menos, o custo do espetáculo seja alcançado.\n"
      ]
    },
    {
      "cell_type": "code",
      "metadata": {
        "id": "55qawy58hsl0",
        "colab": {
          "base_uri": "https://localhost:8080/"
        },
        "outputId": "8a89e0db-16ae-497d-809b-a016a994f87c"
      },
      "source": [
        "custo = int(input(\"Custo do espetaculo teatral..: \"))\n",
        "convite = int(input(\"Preço do convite..: \"))\n",
        "\n",
        "print(\"Deverão ser vendidos cerca de\", round(custo / convite), \"convites, para que o custo do espetaculo seja alcançado\")"
      ],
      "execution_count": null,
      "outputs": [
        {
          "output_type": "stream",
          "name": "stdout",
          "text": [
            "Custo do espetaculo teatral..: 5000\n",
            "Preço do convite..: 20\n",
            "Deverão ser vendidos cerca de 250 convites, para que o custo do espetaculo seja alcançado\n"
          ]
        }
      ]
    }
  ]
}