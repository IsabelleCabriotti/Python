{
  "cells": [
    {
      "cell_type": "markdown",
      "metadata": {
        "id": "view-in-github",
        "colab_type": "text"
      },
      "source": [
        "<a href=\"https://colab.research.google.com/github/IsabelleCabriotti/Python/blob/main/Isabelle_Cabriotti_231_P2_Alg_n.ipynb\" target=\"_parent\"><img src=\"https://colab.research.google.com/assets/colab-badge.svg\" alt=\"Open In Colab\"/></a>"
      ]
    },
    {
      "cell_type": "markdown",
      "metadata": {
        "id": "skN-Wz61xZzi"
      },
      "source": [
        "##**P2 - 1º. semestre/2023 -   Término: 20:40**\n",
        "## É uma prova de consulta ao seu material.\n",
        "## **Apenas verificarei** o desenvolvimento dos exercícios de cada aluno, **NO DIA SEGUINTE**\n",
        "##**O exame P3**, ocorrerá **dia 21/06** no **horário normal de aula**.\n",
        "##***--------> A partir do momento que encerrar o prazo de responder (implementar) as questões da prova, o aluno ---- está PROÍBIDO ---- de realizar qualquer alteração no arquivo da prova. Qualquer alteração fica registrada na plataforma do Classroom/Collab <--------***\n",
        "##O aluno tem que ter **12 pontos** na soma da P1 com a P2 para ser aprovado.\n",
        "\n",
        "##A nota estará registrada no SIGA.\n",
        "##A partir da próxima semana não conta mais presenças, ou seja, não farei mais chamada, mas o aluno se quiser ver a correção da prova, ou tirar dúvidas, pode vir a aula.\n",
        "\n",
        "##**Sempre leiam** seus e-mails do @fatec.sp.gov.br e o Teams, pois é o nosso meio de comunicação com os alunos.\n",
        "\n",
        "##Fiquem atentos a **data de REMATRÍCULA**, a secretaria informará.\n",
        "\n",
        "#**Boas férias!**......................................................"
      ]
    },
    {
      "cell_type": "markdown",
      "source": [
        "###**1**.  [1,0 pontos] Em Python crie um programa que calcule e apresente o total de saldos cashback de alguns clientes, mas não é informada a quantidade de clientes, então use como critério de parada (condição da estrutura de repetição, digitar zero no saldo cashback para sair)."
      ],
      "metadata": {
        "id": "GGexTguW9nNx"
      }
    },
    {
      "cell_type": "code",
      "source": [
        "total = 0\n",
        "\n",
        "cliente = input(\"Nome do cliente: \")\n",
        "cashback = float(input(\"Digite o saldo de cashback: \"))\n",
        "\n",
        "while cashback > 0:\n",
        "    total = total + cashback\n",
        "    cliente = input(\"Nome do cliente: \")\n",
        "    cashback = float(input(\"Digite o saldo de cashback: \"))\n",
        "\n",
        "print(f\"Total de saldo cashback R$ {total:.2f}\")"
      ],
      "metadata": {
        "id": "j8FPGHz1-OoE",
        "colab": {
          "base_uri": "https://localhost:8080/"
        },
        "outputId": "143599a7-de1a-46e1-ae79-ed1fa0b1246f"
      },
      "execution_count": null,
      "outputs": [
        {
          "output_type": "stream",
          "name": "stdout",
          "text": [
            "Nome do cliente: Ailton\n",
            "Digite o saldo de cashback: 0.25\n",
            "Nome do cliente: Mayara\n",
            "Digite o saldo de cashback: 10.00\n",
            "Nome do cliente: Lucas\n",
            "Digite o saldo de cashback: 5.75\n",
            "Nome do cliente: 0\n",
            "Digite o saldo de cashback: 0\n",
            "Total de saldo cashback R$ 16.00\n"
          ]
        }
      ]
    },
    {
      "cell_type": "markdown",
      "metadata": {
        "id": "_aPd4c1b3OjS"
      },
      "source": [
        "###**2**. [4,0 pontos] Em Python crie um programa que leia/armazene em um vetor 5 nomes de clientes, em outro vetor leia/armazene 5 valores/float de cashback e num terceiro vetor leia/armazene 5 valores que corresponam as compras que cada um realizou.\n",
        "###No momento da compra, verifique se o saldo cashback do cliente é o suficiente para pagar a compra realizada, se sim subtraia do cashback o valor da compra realizada, caso não tenha, mostre a frase \"Não há valor de cashback suficiente para pagamento desta compra.\"\n",
        "###Ao final, mostre o vetor nome de clientes, o vetor saldo cashback e o vetor compras.\n"
      ]
    },
    {
      "cell_type": "code",
      "execution_count": null,
      "metadata": {
        "colab": {
          "base_uri": "https://localhost:8080/"
        },
        "id": "Q6LPIy_LCQuO",
        "outputId": "edd03e00-57d8-4f35-91e2-358b9c4487cb"
      },
      "outputs": [
        {
          "output_type": "stream",
          "name": "stdout",
          "text": [
            "Digite o nome do cliente: Breno\n",
            "Saldo de chasback: 10.00\n",
            "Valor total da compra: 9.00\n",
            "Saldo de cashback é suficiente para a compra\n",
            "Digite o nome do cliente: Ana\n",
            "Saldo de chasback: 2.50\n",
            "Valor total da compra: 5.00\n",
            "Não há valor de cashback suficiente para pagamento desta compra\n",
            "Digite o nome do cliente: Pedro\n",
            "Saldo de chasback: 20.00\n",
            "Valor total da compra: 16.00\n",
            "Saldo de cashback é suficiente para a compra\n",
            "Digite o nome do cliente: Lucas\n",
            "Saldo de chasback: 25.00\n",
            "Valor total da compra: 35.00\n",
            "Não há valor de cashback suficiente para pagamento desta compra\n",
            "Digite o nome do cliente: Higor\n",
            "Saldo de chasback: 26.00\n",
            "Valor total da compra: 7.00\n",
            "Saldo de cashback é suficiente para a compra\n"
          ]
        }
      ],
      "source": [
        "vet_1 = []\n",
        "vet_2 = []\n",
        "vet_3 = []\n",
        "\n",
        "for i in range(5):\n",
        "    vet_1.append(input(\"Digite o nome do cliente: \"))\n",
        "    vet_2.append(float(input(\"Saldo de chasback: \")))\n",
        "    vet_3.append(float(input(\"Valor total da compra: \")))\n",
        "\n",
        "    if vet_2[i] >= vet_3[i]:\n",
        "        vet_2[i] - vet_3[i]\n",
        "        print(\"Saldo de cashback é suficiente para a compra\")\n",
        "    elif vet_2[i] < vet_3[i]:\n",
        "        vet_2[i] - vet_3[i]\n",
        "        print(\"Não há valor de cashback suficiente para pagamento desta compra\")"
      ]
    },
    {
      "cell_type": "markdown",
      "source": [
        "###**3**. [2,0 pontos] Em Python crie um programa que leia/armazene em uma matriz 3x3 valores inteiros, calcule e apresente a soma dos elementos da diagonal principal."
      ],
      "metadata": {
        "id": "HU6DCj4C-mcF"
      }
    },
    {
      "cell_type": "code",
      "source": [
        "matriz = []\n",
        "soma = 0\n",
        "for linha in range(3):\n",
        "    valor = []\n",
        "    for coluna in range(3):\n",
        "        valor.append(int(input(f\"Digite os elementos [{linha}][{coluna}] da matriz: \")))\n",
        "    matriz.append(valor)\n",
        "print()\n",
        "for linha in range(3):\n",
        "    for coluna in range(3):\n",
        "        if matriz[linha] < matriz[coluna]:\n",
        "            soma += matriz[linha][coluna]\n",
        "print(f\"A soma dos elementos acima da diagonal principal é: {soma}\")"
      ],
      "metadata": {
        "id": "R_2XNWYa-pOf",
        "colab": {
          "base_uri": "https://localhost:8080/"
        },
        "outputId": "f54eb12f-1f3f-4725-a368-f314c027ae64"
      },
      "execution_count": null,
      "outputs": [
        {
          "output_type": "stream",
          "name": "stdout",
          "text": [
            "Digite os elementos [0][0] da matriz: 30\n",
            "Digite os elementos [0][1] da matriz: 24\n",
            "Digite os elementos [0][2] da matriz: 15\n",
            "Digite os elementos [1][0] da matriz: 25\n",
            "Digite os elementos [1][1] da matriz: 48\n",
            "Digite os elementos [1][2] da matriz: 17\n",
            "Digite os elementos [2][0] da matriz: 69\n",
            "Digite os elementos [2][1] da matriz: 21\n",
            "Digite os elementos [2][2] da matriz: 87\n",
            "\n",
            "A soma dos elementos acima da diagonal principal é: 57\n"
          ]
        }
      ]
    }
  ],
  "metadata": {
    "colab": {
      "provenance": [],
      "include_colab_link": true
    },
    "kernelspec": {
      "display_name": "Python 3",
      "name": "python3"
    }
  },
  "nbformat": 4,
  "nbformat_minor": 0
}