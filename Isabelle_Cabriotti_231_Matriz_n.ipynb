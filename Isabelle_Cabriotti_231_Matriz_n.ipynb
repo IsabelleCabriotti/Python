{
  "nbformat": 4,
  "nbformat_minor": 0,
  "metadata": {
    "colab": {
      "provenance": [],
      "include_colab_link": true
    },
    "kernelspec": {
      "name": "python3",
      "display_name": "Python 3"
    }
  },
  "cells": [
    {
      "cell_type": "markdown",
      "metadata": {
        "id": "view-in-github",
        "colab_type": "text"
      },
      "source": [
        "<a href=\"https://colab.research.google.com/github/IsabelleCabriotti/Python/blob/main/Isabelle_Cabriotti_231_Matriz_n.ipynb\" target=\"_parent\"><img src=\"https://colab.research.google.com/assets/colab-badge.svg\" alt=\"Open In Colab\"/></a>"
      ]
    },
    {
      "cell_type": "code",
      "source": [
        "matriz = [] #3x2\n",
        "for linha in range(3):\n",
        "    vet_linha = []\n",
        "    for coluna in range(2):\n",
        "        vet_linha.append(float(input(\"Digite o valor..: \")))\n",
        "    matriz.append(vet_linha)\n",
        "print(matriz)"
      ],
      "metadata": {
        "colab": {
          "base_uri": "https://localhost:8080/"
        },
        "id": "3aAIqThA301p",
        "outputId": "9aa6e46b-5d38-420b-dcb9-eb13f6684bed"
      },
      "execution_count": null,
      "outputs": [
        {
          "output_type": "stream",
          "name": "stdout",
          "text": [
            "Digite o valor..: 6.5\n",
            "Digite o valor..: 8.9\n",
            "Digite o valor..: 4.6\n",
            "Digite o valor..: 6.3\n",
            "Digite o valor..: 9.1\n",
            "Digite o valor..: 10\n",
            "[[6.5, 8.9], [4.6, 6.3], [9.1, 10.0]]\n"
          ]
        }
      ]
    },
    {
      "cell_type": "code",
      "source": [
        "matriz = [] #3x2\n",
        "for linha in range(3):\n",
        "    vet_linha = []\n",
        "    for coluna in range(2):\n",
        "        vet_linha.append(float(input(f\"Digite o valor[{linha}][{coluna}]: \")))\n",
        "    matriz.append(vet_linha)\n",
        "print(matriz)"
      ],
      "metadata": {
        "colab": {
          "base_uri": "https://localhost:8080/"
        },
        "id": "X9DeBBoa5ROa",
        "outputId": "0afe8114-69f0-4ebe-cacb-236f8e602f74"
      },
      "execution_count": null,
      "outputs": [
        {
          "output_type": "stream",
          "name": "stdout",
          "text": [
            "Digite o valor[0][0]: 6.5\n",
            "Digite o valor[0][1]: 8.9\n",
            "Digite o valor[1][0]: 4.6\n",
            "Digite o valor[1][1]: 6.3\n",
            "Digite o valor[2][0]: 9.1\n",
            "Digite o valor[2][1]: 10\n",
            "[[6.5, 8.9], [4.6, 6.3], [9.1, 10.0]]\n"
          ]
        }
      ]
    },
    {
      "cell_type": "code",
      "source": [
        "matriz = [] #3x2\n",
        "for linha in range(3):\n",
        "    vet_linha = []\n",
        "    for coluna in range(2):\n",
        "        vet_linha.append(float(input(\"Digite o valor..: \")))\n",
        "    matriz.append(vet_linha)\n",
        "#print(matriz)\n",
        "for linha in range(len(matriz)):\n",
        "    for coluna in range (len(matriz[0])):\n",
        "        print(matriz[linha][coluna], end= '\\t')\n",
        "    print()"
      ],
      "metadata": {
        "colab": {
          "base_uri": "https://localhost:8080/"
        },
        "id": "TVfizRRI6EwJ",
        "outputId": "54f426b8-f296-4492-b34b-014b91fab14a"
      },
      "execution_count": null,
      "outputs": [
        {
          "output_type": "stream",
          "name": "stdout",
          "text": [
            "Digite o valor..: 6.5\n",
            "Digite o valor..: 8.9\n",
            "Digite o valor..: 4.6\n",
            "Digite o valor..: 6.3\n",
            "Digite o valor..: 9.1\n",
            "Digite o valor..: 10\n",
            "6.5\t8.9\t\n",
            "4.6\t6.3\t\n",
            "9.1\t10.0\t\n"
          ]
        }
      ]
    },
    {
      "cell_type": "code",
      "source": [
        "matriz = [] #3x2\n",
        "for linha in range(3):\n",
        "    vet_linha = []\n",
        "    for coluna in range(2):\n",
        "        vet_linha.append(float(input(\"Digite o valor..: \")))\n",
        "    matriz.append(vet_linha)\n",
        "#print(matriz)\n",
        "for linha in range(len(matriz)):\n",
        "    for coluna in range (len(matriz[0])):\n",
        "        print(matriz[linha][coluna], end= '\\t')\n",
        "        #if matriz[linha][coluna] > 6:\n",
        "        #cont += 1\n",
        "    print()"
      ],
      "metadata": {
        "id": "1ys384pTBcxi"
      },
      "execution_count": null,
      "outputs": []
    },
    {
      "cell_type": "markdown",
      "metadata": {
        "id": "skN-Wz61xZzi"
      },
      "source": [
        "### 1. Faça um programa que leia uma matriz 2x3 (2 linhas, 3 colunas). Apresente os elementos da matriz e seus respectivos índices."
      ]
    },
    {
      "cell_type": "code",
      "metadata": {
        "id": "Wbjafj_QxWP-",
        "colab": {
          "base_uri": "https://localhost:8080/"
        },
        "outputId": "0cd8826a-19cb-4245-b810-f72e757ca6bb"
      },
      "source": [
        "matriz = []\n",
        "\n",
        "for lin in range(2):\n",
        "    vet_linha = []\n",
        "    for col in range(3):\n",
        "        vet_linha.append(int(input(f\"Digite o valor de [{lin}][{col}]: \")))\n",
        "    matriz.append(vet_linha)\n",
        "print(matriz)\n",
        "\n",
        "print('\\n\\nMatriz')\n",
        "for linha in range(len(matriz)):\n",
        "    for coluna in range(len(matriz[0])):\n",
        "        print(matriz[linha][coluna], end='\\t')"
      ],
      "execution_count": null,
      "outputs": [
        {
          "output_type": "stream",
          "name": "stdout",
          "text": [
            "Digite o valor de [0][0]: 47\n",
            "Digite o valor de [0][1]: 58\n",
            "Digite o valor de [0][2]: 69\n",
            "Digite o valor de [1][0]: 14\n",
            "Digite o valor de [1][1]: 25\n",
            "Digite o valor de [1][2]: 36\n",
            "[[47, 58, 69], [14, 25, 36]]\n",
            "\n",
            "\n",
            "Matriz\n",
            "47\t58\t69\t14\t25\t36\t"
          ]
        }
      ]
    },
    {
      "cell_type": "markdown",
      "metadata": {
        "id": "0jPoba3-yLnG"
      },
      "source": [
        "### 2. Faça um programa que leia uma matriz 2 x 2, que representa o salário de 4 funcionários, calcule e mostre a soma total de todos os salários/elementos que será o montante pago pela empresa a esses funcionários."
      ]
    },
    {
      "cell_type": "code",
      "metadata": {
        "id": "UHD2oMlJyLzc",
        "colab": {
          "base_uri": "https://localhost:8080/"
        },
        "outputId": "9abc6971-ddf3-4829-e815-9279b4d9069a"
      },
      "source": [
        "total = 0\n",
        "matriz = []\n",
        "\n",
        "for i in range(2):\n",
        "    linha = []\n",
        "\n",
        "    for j in range(2):\n",
        "        linha.append(float(input(\"Digite o salário: \")))\n",
        "\n",
        "    matriz.append(linha)\n",
        "\n",
        "for i in range(2):\n",
        "    for j in range(2):\n",
        "        total += matriz[i][j]\n",
        "\n",
        "print(f\"A empresa pagará o total de R$: {total}\")"
      ],
      "execution_count": null,
      "outputs": [
        {
          "output_type": "stream",
          "name": "stdout",
          "text": [
            "Digite o salário: 1500\n",
            "Digite o salário: 1989\n",
            "Digite o salário: 2000\n",
            "Digite o salário: 1762\n",
            "A empresa pagará o total de R$: 7251.0\n"
          ]
        }
      ]
    },
    {
      "cell_type": "markdown",
      "metadata": {
        "id": "_aPd4c1b3OjS"
      },
      "source": [
        "### 3. Faça um programa para ler uma matriz 5x2 preços. Encontre e apresente os ÍNDICES dos valores menores que 23 reais."
      ]
    },
    {
      "cell_type": "code",
      "source": [
        "matriz = []\n",
        "\n",
        "for i in range(5):\n",
        "    linha = []\n",
        "\n",
        "    for j in range(2):\n",
        "        linha.append(float(input(\"Digite o preço: \")))\n",
        "\n",
        "    matriz.append(linha)\n",
        "\n",
        "for i in range(5):\n",
        "    for j in range(2):\n",
        "        if matriz[i][j] < 23:\n",
        "            print(f\"Valor R$ {matriz[i][j]} encontrados na posição [{i}][{j}] da matriz\")"
      ],
      "metadata": {
        "colab": {
          "base_uri": "https://localhost:8080/"
        },
        "id": "rfqCTLhgHlNu",
        "outputId": "ef33a298-15e1-423d-89d3-80732fd06fbc"
      },
      "execution_count": null,
      "outputs": [
        {
          "output_type": "stream",
          "name": "stdout",
          "text": [
            "Digite o preço: 45\n",
            "Digite o preço: 21\n",
            "Digite o preço: 96\n",
            "Digite o preço: 10\n",
            "Digite o preço: 78\n",
            "Digite o preço: 19\n",
            "Digite o preço: 28\n",
            "Digite o preço: 17\n",
            "Digite o preço: 12\n",
            "Digite o preço: 54\n",
            "Valor R$ 21.0 encontrados na posição [0][1] da matriz\n",
            "Valor R$ 10.0 encontrados na posição [1][1] da matriz\n",
            "Valor R$ 19.0 encontrados na posição [2][1] da matriz\n",
            "Valor R$ 17.0 encontrados na posição [3][1] da matriz\n",
            "Valor R$ 12.0 encontrados na posição [4][0] da matriz\n"
          ]
        }
      ]
    },
    {
      "cell_type": "markdown",
      "metadata": {
        "id": "JgYwP3n1CQ_U"
      },
      "source": [
        "### 4. Faça um programa que leia números inteiros w e p e os elementos de uma matriz A de números inteiros de dimensão w x p e conte o número de elementos que são iguais a zero. Observação w representa a quantidade de linhas e p as colunas\n"
      ]
    },
    {
      "cell_type": "code",
      "metadata": {
        "id": "fb6TwQ_yh_To",
        "colab": {
          "base_uri": "https://localhost:8080/"
        },
        "outputId": "aa541f1e-cf17-49d6-e88a-0843dc1893d8"
      },
      "source": [
        "matriz = []\n",
        "quantidade = 0\n",
        "\n",
        "p = int(input(\"Digite a quantidade de colunas: \"))\n",
        "w = int(input(\"Digite a quantidade de linhas: \"))\n",
        "\n",
        "for i in range(w):\n",
        "    linha = []\n",
        "\n",
        "    for j in range(p):\n",
        "        linha.append(int(input(\"Digite um número: \")))\n",
        "\n",
        "    matriz.append(linha)\n",
        "\n",
        "for i in range(w):\n",
        "    for j in range(p):\n",
        "        if matriz[i][j] == 0:\n",
        "            quantidade += 1\n",
        "\n",
        "print(quantidade)"
      ],
      "execution_count": null,
      "outputs": [
        {
          "output_type": "stream",
          "name": "stdout",
          "text": [
            "Digite a quantidade de colunas: 3\n",
            "Digite a quantidade de linhas: 2\n",
            "Digite um número: 0\n",
            "Digite um número: 14\n",
            "Digite um número: 36\n",
            "Digite um número: 0\n",
            "Digite um número: 74\n",
            "Digite um número: 85\n",
            "2\n"
          ]
        }
      ]
    },
    {
      "cell_type": "markdown",
      "metadata": {
        "id": "HAz_eYfhzg06"
      },
      "source": [
        "### 5. Faça um programa que leia uma matriz 3 x 2, que representa preços de produtos, crie OUTRA matriz que armazene todos os preços com 7% de aumento."
      ]
    },
    {
      "cell_type": "code",
      "source": [
        "preco = []\n",
        "aumento = []\n",
        "for linha in range(3):\n",
        "    vet_linha = []\n",
        "    for coluna in range(2):\n",
        "        vet_linha.append(float(input(f'Digite o preço [{linha}][{coluna}] R$: ')))\n",
        "    preco.append(vet_linha)\n",
        "\n",
        "print(\"\\nApresentação da matriz preço.......\")\n",
        "for linha in range(len(preco)):\n",
        "    for coluna in range(len(preco[0])):\n",
        "        print(preco[linha][coluna], end=\"\\t\")\n",
        "    print()\n",
        "\n",
        "print('\\nApresentação da matriz aumento........')\n",
        "for linha in range(len(preco)):\n",
        "    vet_linha = []\n",
        "    for coluna in range(len(preco[0])):\n",
        "        vet_linha.append(preco[linha][coluna]*7/100+preco[linha][coluna])\n",
        "        print(vet_linha[coluna],end='\\t')\n",
        "    aumento.append(vet_linha)\n",
        "    print()"
      ],
      "metadata": {
        "colab": {
          "base_uri": "https://localhost:8080/"
        },
        "id": "abcDoSC9D9ux",
        "outputId": "fccea43d-a9e1-482b-9f2e-2e2716efb506"
      },
      "execution_count": null,
      "outputs": [
        {
          "output_type": "stream",
          "name": "stdout",
          "text": [
            "Digite o preço [0][0] R$: 1500\n",
            "Digite o preço [0][1] R$: 2100\n",
            "Digite o preço [1][0] R$: 1700\n",
            "Digite o preço [1][1] R$: 3000\n",
            "Digite o preço [2][0] R$: 2700\n",
            "Digite o preço [2][1] R$: 2900\n",
            "\n",
            "Apresentação da matriz preço.......\n",
            "1500.0\t2100.0\t\n",
            "1700.0\t3000.0\t\n",
            "2700.0\t2900.0\t\n",
            "\n",
            "Apresentação da matriz aumento........\n",
            "1605.0\t2247.0\t\n",
            "1819.0\t3210.0\t\n",
            "2889.0\t3103.0\t\n"
          ]
        }
      ]
    },
    {
      "cell_type": "markdown",
      "metadata": {
        "id": "fZNXRUrrh_g9"
      },
      "source": [
        "### 6. Faça um programa que leia:\n",
        "###* um vetor com oito posições com os nomes das lojas;\n",
        "###* um outro vetor com quatro posições com os nomes dos produtos;\n",
        "###* uma matriz (8 x 4) com os preços de todos os produtos em cada loja.\n",
        "###O programa deve mostrar todas as relações/print (nome da loja - nome do produto e preço), nas quais o preço não ultrapasse R$ 120,00.\n"
      ]
    },
    {
      "cell_type": "code",
      "source": [
        "nomes = []\n",
        "produtos = []\n",
        "matriz = []\n",
        "\n",
        "for i in range(8):\n",
        "    nomes.append(input(f\"Digite o nome da {i+1}ª loja: \"))\n",
        "print('.....................')\n",
        "\n",
        "for i in range(4):\n",
        "    produtos.append(input(f\"Digite o nome do {i+1}º produtos: \"))\n",
        "print('.....................')\n",
        "\n",
        "for i in range(8):\n",
        "    linha = []\n",
        "\n",
        "    for j in range(4):\n",
        "        linha.append(float(input(f\"Insira o preço do(a) {produtos[j]} na loja {nomes[i]}: \")))\n",
        "\n",
        "    matriz.append(linha)\n",
        "print ('....................')\n",
        "for i in range(8):\n",
        "    for j in range(4):\n",
        "        if matriz[i][j] <= 120:\n",
        "            print(f\"Loja: {nomes[i]}, Produto: {produtos[j]} e Preço: R$ {matriz[i][j]}\")"
      ],
      "metadata": {
        "colab": {
          "base_uri": "https://localhost:8080/"
        },
        "id": "wvDaftCtswCt",
        "outputId": "677a7fad-c077-4f2d-de65-b87478fe4720"
      },
      "execution_count": null,
      "outputs": [
        {
          "output_type": "stream",
          "name": "stdout",
          "text": [
            "Digite o nome da 1ª loja: Amazon\n",
            "Digite o nome da 2ª loja: Submarino\n",
            "Digite o nome da 3ª loja: Saraiva\n",
            "Digite o nome da 4ª loja: Sumire\n",
            "Digite o nome da 5ª loja: Americanas\n",
            "Digite o nome da 6ª loja: Moto Mario\n",
            "Digite o nome da 7ª loja: Torra\n",
            "Digite o nome da 8ª loja: Piticas\n",
            ".....................\n",
            "Digite o nome do 1º produtos: Livro\n",
            "Digite o nome do 2º produtos: Copo\n",
            "Digite o nome do 3º produtos: Chocolate\n",
            "Digite o nome do 4º produtos: Creme\n",
            ".....................\n",
            "Insira o preço do(a) Livro na loja Amazon: 42\n",
            "Insira o preço do(a) Copo na loja Amazon: 5\n",
            "Insira o preço do(a) Chocolate na loja Amazon: 9\n",
            "Insira o preço do(a) Creme na loja Amazon: 25\n",
            "Insira o preço do(a) Livro na loja Submarino: 36\n",
            "Insira o preço do(a) Copo na loja Submarino: 7\n",
            "Insira o preço do(a) Chocolate na loja Submarino: 8\n",
            "Insira o preço do(a) Creme na loja Submarino: 23\n",
            "Insira o preço do(a) Livro na loja Saraiva: 45\n",
            "Insira o preço do(a) Copo na loja Saraiva: 10\n",
            "Insira o preço do(a) Chocolate na loja Saraiva: 9\n",
            "Insira o preço do(a) Creme na loja Saraiva: 21\n",
            "Insira o preço do(a) Livro na loja Sumire: 47\n",
            "Insira o preço do(a) Copo na loja Sumire: 9\n",
            "Insira o preço do(a) Chocolate na loja Sumire: 10\n",
            "Insira o preço do(a) Creme na loja Sumire: 15\n",
            "Insira o preço do(a) Livro na loja Americanas: 48\n",
            "Insira o preço do(a) Copo na loja Americanas: 6\n",
            "Insira o preço do(a) Chocolate na loja Americanas: 7\n",
            "Insira o preço do(a) Creme na loja Americanas: 24\n",
            "Insira o preço do(a) Livro na loja Moto Mario: 48\n",
            "Insira o preço do(a) Copo na loja Moto Mario: 12\n",
            "Insira o preço do(a) Chocolate na loja Moto Mario: 10\n",
            "Insira o preço do(a) Creme na loja Moto Mario: 26\n",
            "Insira o preço do(a) Livro na loja Torra: 50\n",
            "Insira o preço do(a) Copo na loja Torra: 10\n",
            "Insira o preço do(a) Chocolate na loja Torra: 9\n",
            "Insira o preço do(a) Creme na loja Torra: 36\n",
            "Insira o preço do(a) Livro na loja Piticas: 52\n",
            "Insira o preço do(a) Copo na loja Piticas: 15\n",
            "Insira o preço do(a) Chocolate na loja Piticas: 12\n",
            "Insira o preço do(a) Creme na loja Piticas: 35\n",
            "....................\n",
            "Loja: Amazon, Produto: Livro e Preço: R$ 42.0\n",
            "Loja: Amazon, Produto: Copo e Preço: R$ 5.0\n",
            "Loja: Amazon, Produto: Chocolate e Preço: R$ 9.0\n",
            "Loja: Amazon, Produto: Creme e Preço: R$ 25.0\n",
            "Loja: Submarino, Produto: Livro e Preço: R$ 36.0\n",
            "Loja: Submarino, Produto: Copo e Preço: R$ 7.0\n",
            "Loja: Submarino, Produto: Chocolate e Preço: R$ 8.0\n",
            "Loja: Submarino, Produto: Creme e Preço: R$ 23.0\n",
            "Loja: Saraiva, Produto: Livro e Preço: R$ 45.0\n",
            "Loja: Saraiva, Produto: Copo e Preço: R$ 10.0\n",
            "Loja: Saraiva, Produto: Chocolate e Preço: R$ 9.0\n",
            "Loja: Saraiva, Produto: Creme e Preço: R$ 21.0\n",
            "Loja: Sumire, Produto: Livro e Preço: R$ 47.0\n",
            "Loja: Sumire, Produto: Copo e Preço: R$ 9.0\n",
            "Loja: Sumire, Produto: Chocolate e Preço: R$ 10.0\n",
            "Loja: Sumire, Produto: Creme e Preço: R$ 15.0\n",
            "Loja: Americanas, Produto: Livro e Preço: R$ 48.0\n",
            "Loja: Americanas, Produto: Copo e Preço: R$ 6.0\n",
            "Loja: Americanas, Produto: Chocolate e Preço: R$ 7.0\n",
            "Loja: Americanas, Produto: Creme e Preço: R$ 24.0\n",
            "Loja: Moto Mario, Produto: Livro e Preço: R$ 48.0\n",
            "Loja: Moto Mario, Produto: Copo e Preço: R$ 12.0\n",
            "Loja: Moto Mario, Produto: Chocolate e Preço: R$ 10.0\n",
            "Loja: Moto Mario, Produto: Creme e Preço: R$ 26.0\n",
            "Loja: Torra, Produto: Livro e Preço: R$ 50.0\n",
            "Loja: Torra, Produto: Copo e Preço: R$ 10.0\n",
            "Loja: Torra, Produto: Chocolate e Preço: R$ 9.0\n",
            "Loja: Torra, Produto: Creme e Preço: R$ 36.0\n",
            "Loja: Piticas, Produto: Livro e Preço: R$ 52.0\n",
            "Loja: Piticas, Produto: Copo e Preço: R$ 15.0\n",
            "Loja: Piticas, Produto: Chocolate e Preço: R$ 12.0\n",
            "Loja: Piticas, Produto: Creme e Preço: R$ 35.0\n"
          ]
        }
      ]
    },
    {
      "cell_type": "markdown",
      "source": [
        "###7. Faça um programa que leia uma matriz 4 x 4.\n",
        "###* Apresente os valores/elementos e seus respectivos índices (linhas e colunas) que estão na diagonal principal.\n",
        "###* Calcule e apresente a soma dos elementos acima da diagonal principal, que estão em negrito e com a cor de fundo amarela.\n",
        "\n",
        "![image.png](data:image/png;base64,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)\n"
      ],
      "metadata": {
        "id": "B1SbuClb3Vm4"
      }
    },
    {
      "cell_type": "code",
      "source": [
        "matriz = []\n",
        "for linha in range(4):\n",
        "    valor = []\n",
        "    for coluna in range(4):\n",
        "        valor.append(int(input(f\"Digite os elementos [{linha}][{coluna}] da matriz: \")))\n",
        "    matriz.append(valor)\n",
        "print()\n",
        "\n",
        "print(f\"Os elementos que compõem a diagonal principal da matriz são..........\")\n",
        "for linha in range(4):\n",
        "    for coluna in range(4):\n",
        "        if matriz[linha] == matriz[coluna]:\n",
        "            print(f\"Elemento [{linha}][{coluna}]: {matriz[linha][coluna]}\")\n",
        "\n",
        "soma = 0\n",
        "for linha in range(4):\n",
        "    for coluna in range(4):\n",
        "        if matriz[linha] < matriz[coluna]:\n",
        "            soma += matriz[linha][coluna]\n",
        "print(f\"A soma dos elementos acima da diagonal principal é: {soma}\")"
      ],
      "metadata": {
        "id": "Q20QrkAW9CLu",
        "colab": {
          "base_uri": "https://localhost:8080/"
        },
        "outputId": "9d5afe84-2d0b-4ffb-bb42-87639d9cb261"
      },
      "execution_count": null,
      "outputs": [
        {
          "output_type": "stream",
          "name": "stdout",
          "text": [
            "Digite os elementos [0][0] da matriz: 42\n",
            "Digite os elementos [0][1] da matriz: 30\n",
            "Digite os elementos [0][2] da matriz: 50\n",
            "Digite os elementos [0][3] da matriz: 10\n",
            "Digite os elementos [1][0] da matriz: 34\n",
            "Digite os elementos [1][1] da matriz: 26\n",
            "Digite os elementos [1][2] da matriz: 70\n",
            "Digite os elementos [1][3] da matriz: 90\n",
            "Digite os elementos [2][0] da matriz: 48\n",
            "Digite os elementos [2][1] da matriz: 52\n",
            "Digite os elementos [2][2] da matriz: 68\n",
            "Digite os elementos [2][3] da matriz: 20\n",
            "Digite os elementos [3][0] da matriz: 78\n",
            "Digite os elementos [3][1] da matriz: 24\n",
            "Digite os elementos [3][2] da matriz: 36\n",
            "Digite os elementos [3][3] da matriz: 94\n",
            "\n",
            "Os elementos que compõem a diagonal principal da matriz são..........\n",
            "Elemento [0][0]: 42\n",
            "Elemento [1][1]: 26\n",
            "Elemento [2][2]: 68\n",
            "Elemento [3][3]: 94\n",
            "A soma dos elementos acima da diagonal principal é: 274\n"
          ]
        }
      ]
    }
  ]
}