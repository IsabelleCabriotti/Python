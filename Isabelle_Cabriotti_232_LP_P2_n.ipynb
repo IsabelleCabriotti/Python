{
  "nbformat": 4,
  "nbformat_minor": 0,
  "metadata": {
    "colab": {
      "provenance": [],
      "include_colab_link": true
    },
    "kernelspec": {
      "name": "python3",
      "display_name": "Python 3"
    }
  },
  "cells": [
    {
      "cell_type": "markdown",
      "metadata": {
        "id": "view-in-github",
        "colab_type": "text"
      },
      "source": [
        "<a href=\"https://colab.research.google.com/github/IsabelleCabriotti/Python/blob/main/Isabelle_Cabriotti_232_LP_P2_n.ipynb\" target=\"_parent\"><img src=\"https://colab.research.google.com/assets/colab-badge.svg\" alt=\"Open In Colab\"/></a>"
      ]
    },
    {
      "cell_type": "code",
      "source": [
        "from google.colab import drive\n",
        "drive.mount('/content/drive')"
      ],
      "metadata": {
        "colab": {
          "base_uri": "https://localhost:8080/"
        },
        "id": "fMcjUSDGPlqg",
        "outputId": "8b409987-05e6-46cc-c57c-822d471b4fbc"
      },
      "execution_count": null,
      "outputs": [
        {
          "output_type": "stream",
          "name": "stdout",
          "text": [
            "Drive already mounted at /content/drive; to attempt to forcibly remount, call drive.mount(\"/content/drive\", force_remount=True).\n"
          ]
        }
      ]
    },
    {
      "cell_type": "markdown",
      "metadata": {
        "id": "kHK95nR3pf6N"
      },
      "source": [
        "##**P1 - 2º. semestre/2023 -  Término: 22:29**\n",
        "\n",
        "##HOJE EU NÃO VERIFICO A LÓGICA/PROGRAMAÇÃO, NEM ERROS DE CÓDIGO, POIS É UMA PROVA DE CONSULTA.\n",
        "## É uma prova de consulta ao seu material, **apenas use os slides da disciplina de Algoritmo e as listas de exercícios do Colab da nossa aula**.\n",
        "## **Apenas verificarei** o desenvolvimento dos exercícios de cada aluno, **EM OUTRO DIA**.\n",
        "\n",
        "##Caso entregue atrasado não será aceita a prova. **O Classroom/Collab NÃO DEIXA ENTREGAR FORA DO PRAZO**.\n",
        "\n",
        "##Depois de terminada a prova, você NÃO PODE MAIS ALTERAR O ARQUIVO DELA, essa ação fica registrada e assim a prova será anulada.\n",
        "##Na próxima aula (sábado) será realizada a correção da prova.\n",
        "##++++++++++++++++++++++++++++++++++++++++++++++++++++\n",
        "##**Alteração** exame/**P3** será dia **04/12**, no horário de aula.\n",
        "##++++++++++++++++++++++++++++++++++++++++++++++++++++\n",
        "##**Não é permitido o acesso a qualquer outro site/aplicativo para o desenvolvimento da prova, ou seja, apenas poderão estar abertas e visíveis as guias (no navegador de internet) do Classroom e Colab.**\n",
        "\n",
        "#Não é permitido o uso do celular no dia da prova.\n",
        "\n",
        "#CASO VERIFIQUE QUE O COLLAB TENHA ALGUM PROBLEMA, VÁ NO MENU, NA OPÇÃO DE AMBIENTE DE EXECUÇÃO, ESCOLHA A OPÇÃO REINICIAR AMBIENTE DE EXECUÇÃO, CLIQUE EM SIM E TENTE EXECUTAR NOVAMENTE O SEU PROGRAMA.\n",
        "______________________________________________________\n",
        "\n",
        "\n",
        "\n"
      ]
    },
    {
      "cell_type": "markdown",
      "source": [
        "##**1.**  [3 pontos] Baixe o arquivo futebol.txt que no Classrrom no item Arquivo. Leia este arquivo. Com os dados lidos, armazene na estrutura Futebol (posicao_jogo, altura, peso, imc), calcule o IMC (Índice de Massa Corporal), armazene na estrutura e também em outro arquivo, mas agora chamado ---> futebol_imc**.CSV** <---.\n",
        "##Fórmula imc = peso / (altura ** 2)\n",
        "##Use a função write para criar o cabeçalho e adote o separador de colunas como **vírgula**.\n",
        "##Não use espaço em branco antes ou após a vírgula, quando for armazenar o cabeçalho e o conteúdo.\n",
        "\n",
        "##Observação: esse exercício deve ser carregado o arquivo futebol.txt, aqui no Colab, no menu (ícone pasta) do lado esquerdo, que estará disponível no Classroom, ou usando o link para o seu Google Drive, como apresentado em aula.\n",
        "\n",
        "##Baseado no exercício 4 da lista de exercícios de arquivo, gere o gráfico, para isso, use a coluna **imc** e adote a cor orange da biblioteca matplotlib.pyplot as plt\n",
        "##plt.hist()"
      ],
      "metadata": {
        "id": "X861-zRMRfgU"
      }
    },
    {
      "cell_type": "code",
      "source": [
        "import pandas as pd\n",
        "class classeFutebol():\n",
        "    posicao_jogo = ''\n",
        "    altura = 0\n",
        "    peso = 0\n",
        "    imc = 0\n",
        "\n",
        "def cadastro():\n",
        "    arquivo = open('/content/drive/MyDrive/futebol.txt', 'r')\n",
        "    arquivo_imc = open('futebol_imc.txt','w')\n",
        "    arquivo_imc_csv = open('futebol_imc.csv','w')\n",
        "\n",
        "    for jogador in arquivo.readlines():\n",
        "        jogador = jogador.strip().split(',')\n",
        "        posicao_jogo,altura,peso = jogador\n",
        "\n",
        "        imc = float(peso) / (float(altura) ** 2)\n",
        "\n",
        "        arquivo_imc_csv.write(f'{posicao_jogo},{altura},{peso},{imc:.2f}\\n')\n",
        "\n",
        "    arquivo.close()\n",
        "    arquivo_imc_csv.close()\n",
        "\n",
        "def visualizar():\n",
        "    arquivo_imc_csv = open('futebol_imc.csv','r')\n",
        "\n",
        "    for jogador in arquivo_imc_csv.readlines():\n",
        "        jogador = jogador.strip().split(',')\n",
        "        posicao_jogo,altura,peso,imc = jogador\n",
        "\n",
        "        print(f'Posição de jogo: {posicao_jogo}\\nAltura: {altura}\\nPeso: {peso}\\nIMC: {imc}\\n')\n",
        "\n",
        "    arquivo_imc_csv.close()\n",
        "\n",
        "def grafico():\n",
        "    df = pd.read_csv('/content/futebol_imc.csv')\n",
        "    import matplotlib.pyplot as plt\n",
        "    plt.hist(df['24.34'],5, rwidth=0.8, color = 'orange')\n",
        "    plt.title('IMC')\n",
        "    plt.show()\n",
        "\n",
        "def main():\n",
        "    cadastro()\n",
        "\n",
        "    visualizar()\n",
        "\n",
        "    grafico()\n",
        "\n",
        "main()"
      ],
      "metadata": {
        "id": "9F3hI2SUgWuN",
        "colab": {
          "base_uri": "https://localhost:8080/",
          "height": 1000
        },
        "outputId": "1754395f-e09a-4d66-c59c-455d36a500b6"
      },
      "execution_count": null,
      "outputs": [
        {
          "output_type": "stream",
          "name": "stdout",
          "text": [
            "Posição de jogo: Zagueiro\n",
            "Altura: 1.79\n",
            "Peso: 78.0\n",
            "IMC: 24.34\n",
            "\n",
            "Posição de jogo: Zagueiro\n",
            "Altura: 1.78\n",
            "Peso: 85.0\n",
            "IMC: 26.83\n",
            "\n",
            "Posição de jogo: Meio campo\n",
            "Altura: 1.75\n",
            "Peso: 71.1\n",
            "IMC: 23.22\n",
            "\n",
            "Posição de jogo: Meio campo\n",
            "Altura: 1.81\n",
            "Peso: 73.5\n",
            "IMC: 22.44\n",
            "\n",
            "Posição de jogo: Meio campo\n",
            "Altura: 1.75\n",
            "Peso: 73.5\n",
            "IMC: 24.00\n",
            "\n",
            "Posição de jogo: Goleiro\n",
            "Altura: 1.85\n",
            "Peso: 81.0\n",
            "IMC: 23.67\n",
            "\n",
            "Posição de jogo: Atacante\n",
            "Altura: 1.87\n",
            "Peso: 81.7\n",
            "IMC: 23.36\n",
            "\n",
            "Posição de jogo: Atacante\n",
            "Altura: 1.65\n",
            "Peso: 55.5\n",
            "IMC: 20.39\n",
            "\n",
            "Posição de jogo: Atacante\n",
            "Altura: 1.78\n",
            "Peso: 77.9\n",
            "IMC: 24.59\n",
            "\n",
            "Posição de jogo: Lateral\n",
            "Altura: 1.70\n",
            "Peso: 66.0\n",
            "IMC: 22.84\n",
            "\n",
            "Posição de jogo: Lateral\n",
            "Altura: 1.74\n",
            "Peso: 63.7\n",
            "IMC: 21.04\n",
            "\n"
          ]
        },
        {
          "output_type": "display_data",
          "data": {
            "text/plain": [
              "<Figure size 640x480 with 1 Axes>"
            ],
            "image/png": "[encoded data removed]"
          },
          "metadata": {}
        }
      ]
    },
    {
      "cell_type": "markdown",
      "source": [
        "##**2.** [4 pontos] Baseado no exercício 8 de estrutura de dado do SISTEMA GERENCIADOR DE CLIENTES E DOCUMENTOS, faça uma função para aplicar um reajuste de 7% no valor de todos os documentos, mas esta alteração apenas poderá ser realizada nos documentos que não possuirem juros calculados.\n",
        "##Ao final desta função apresente quantos documentos foram alterados.\n",
        "\n",
        "##Esta função deverá ter como parâmetro o vetor de documentos e que também deverá ser retornado ao final da função."
      ],
      "metadata": {
        "id": "tyJXSbe9FT53"
      }
    },
    {
      "cell_type": "code",
      "source": [
        "def reajuste_documentos(vet_documentos):\n",
        "    documento = Documentos()\n",
        "    if documento.dia_pg > documento.dia_venc:\n",
        "        documento.juros = documento.valor * 0.05\n",
        "    else:\n",
        "        documento.valor * 0.07\n",
        "\n",
        "    vet_documentos.append(documento)\n",
        "\n",
        "    return vet_documentos\n",
        "\n",
        "def totalizar_documentos(vet_documentos):\n",
        "    total = 0\n",
        "\n",
        "    for i in range(len(vet_documentos)):\n",
        "        if vet_documentos[i].num.doc:\n",
        "            total += 1\n",
        "    print(f'\\nTotal de documentos: {total}')"
      ],
      "metadata": {
        "id": "opfN-Ze5ge4r",
        "colab": {
          "base_uri": "https://localhost:8080/"
        },
        "outputId": "0bdb25c9-3e0e-4a64-da10-c09e1a06bacc"
      },
      "execution_count": null,
      "outputs": [
        {
          "name": "stdout",
          "output_type": "stream",
          "text": [
            "\n",
            "** SISTEMA GERENCIADOR DE CLIENTES E DOCUMENTOS **\n",
            "1. Cadastrar clientes\n",
            "2. Relatórios de clientes\n",
            "3. Cadastrar documentos\n",
            "4. Relatório de documentos\n",
            "5. Excluir clientes\n",
            "6. Excluir documentos individuais pelo número\n",
            "7. Excluir documentos por cliente\n",
            "8. Excluir documentos por periodo\n",
            "9. Alterar as informações dos clientes\n",
            "10. Mostrar o total de documentos de determinado cliente\n",
            "11. Sair\n",
            "\n",
            "Digite a opção desejada: 1\n",
            "\n",
            "Digite o codigo do cliente: 12\n",
            "Digite o nome do cliente: a\n",
            "Digite o telefone do cliente: 12\n",
            "\n",
            "** SISTEMA GERENCIADOR DE CLIENTES E DOCUMENTOS **\n",
            "1. Cadastrar clientes\n",
            "2. Relatórios de clientes\n",
            "3. Cadastrar documentos\n",
            "4. Relatório de documentos\n",
            "5. Excluir clientes\n",
            "6. Excluir documentos individuais pelo número\n",
            "7. Excluir documentos por cliente\n",
            "8. Excluir documentos por periodo\n",
            "9. Alterar as informações dos clientes\n",
            "10. Mostrar o total de documentos de determinado cliente\n",
            "11. Sair\n",
            "\n",
            "Digite a opção desejada: 3\n",
            "\n",
            "Digite o número do documento: 13\n",
            "Digite o codigo do cliente: 12\n",
            "Insira o dia de vencimento do documento: 22\n",
            "Insira o dia de pagamento do documento: 23\n",
            "Insira o valor do documento: 20.00\n",
            "\n",
            "** SISTEMA GERENCIADOR DE CLIENTES E DOCUMENTOS **\n",
            "1. Cadastrar clientes\n",
            "2. Relatórios de clientes\n",
            "3. Cadastrar documentos\n",
            "4. Relatório de documentos\n",
            "5. Excluir clientes\n",
            "6. Excluir documentos individuais pelo número\n",
            "7. Excluir documentos por cliente\n",
            "8. Excluir documentos por periodo\n",
            "9. Alterar as informações dos clientes\n",
            "10. Mostrar o total de documentos de determinado cliente\n",
            "11. Sair\n",
            "\n",
            "Digite a opção desejada: 2\n",
            "\n",
            "** SISTEMA GERENCIADOR DE CLIENTES E DOCUMENTOS **\n",
            "1. Cadastrar clientes\n",
            "2. Relatórios de clientes\n",
            "3. Cadastrar documentos\n",
            "4. Relatório de documentos\n",
            "5. Excluir clientes\n",
            "6. Excluir documentos individuais pelo número\n",
            "7. Excluir documentos por cliente\n",
            "8. Excluir documentos por periodo\n",
            "9. Alterar as informações dos clientes\n",
            "10. Mostrar o total de documentos de determinado cliente\n",
            "11. Sair\n",
            "\n",
            "Digite a opção desejada: 11\n"
          ]
        }
      ]
    }
  ]
}