{
  "nbformat": 4,
  "nbformat_minor": 0,
  "metadata": {
    "colab": {
      "provenance": [],
      "include_colab_link": true
    },
    "kernelspec": {
      "name": "python3",
      "display_name": "Python 3"
    }
  },
  "cells": [
    {
      "cell_type": "markdown",
      "metadata": {
        "id": "view-in-github",
        "colab_type": "text"
      },
      "source": [
        "<a href=\"https://colab.research.google.com/github/IsabelleCabriotti/Python/blob/main/Isabelle_Cabriotti_231_Est_Repeticao_n.ipynb\" target=\"_parent\"><img src=\"https://colab.research.google.com/assets/colab-badge.svg\" alt=\"Open In Colab\"/></a>"
      ]
    },
    {
      "cell_type": "markdown",
      "metadata": {
        "id": "TWJjhvldsGq1"
      },
      "source": [
        "#ESTRUTURA DE REPETIÇÃO\n",
        "##Todos estes algoritmos/programas podem ser implementados com o comando **while** ou **for**. Para estudar, implemente cada exercício com as **duas** estruturas de repetição."
      ]
    },
    {
      "cell_type": "markdown",
      "metadata": {
        "id": "ra2ortoj88ct"
      },
      "source": [
        "###1. Faça um algoritmo  que mostre 10 vezes a frase “Bem vindo a Fatec!”. Pode implementar com o comando while ou for."
      ]
    },
    {
      "cell_type": "code",
      "metadata": {
        "id": "w87cAtUi9P5j",
        "colab": {
          "base_uri": "https://localhost:8080/"
        },
        "outputId": "a8cce565-245b-4d23-ff20-8d35ebc84a4c"
      },
      "source": [
        "print('Exemplo do while.............\\n\\n')\n",
        "# 1º passo - inicialização\n",
        "contador = 1\n",
        "# 2º passo - condição/critério de parada\n",
        "while contador <= 5:\n",
        "    print(contador, 'Bem vindo a Fatec!')\n",
        "    contador = contador + 1 # 3º passo - incremento\n",
        "print('\\n\\nFim\\t.............')"
      ],
      "execution_count": null,
      "outputs": [
        {
          "output_type": "stream",
          "name": "stdout",
          "text": [
            "Exemplo do while.............\n",
            "\n",
            "\n",
            "1 Bem vindo a Fatec!\n",
            "2 Bem vindo a Fatec!\n",
            "3 Bem vindo a Fatec!\n",
            "4 Bem vindo a Fatec!\n",
            "5 Bem vindo a Fatec!\n",
            "\n",
            "\n",
            "Fim\t.............\n"
          ]
        }
      ]
    },
    {
      "cell_type": "code",
      "source": [
        "print('\\n\\nExemplo do for.............\\n')\n",
        "# 1º passo - inicialização, 2º passo - condição/critério de parada\n",
        "# e 3º passo - incremento, numa única linha no for\n",
        "for contador in range(1,5):\n",
        "    print(contador,'Bem vindo a Fatec!')"
      ],
      "metadata": {
        "id": "AfLjZS3G1d3l",
        "colab": {
          "base_uri": "https://localhost:8080/"
        },
        "outputId": "9c9c2e8f-8ccf-4dfe-8877-fd18785b24fa"
      },
      "execution_count": null,
      "outputs": [
        {
          "output_type": "stream",
          "name": "stdout",
          "text": [
            "\n",
            "\n",
            "Exemplo do for.............\n",
            "\n",
            "1 Bem vindo a Fatec!\n",
            "2 Bem vindo a Fatec!\n",
            "3 Bem vindo a Fatec!\n",
            "4 Bem vindo a Fatec!\n"
          ]
        }
      ]
    },
    {
      "cell_type": "markdown",
      "metadata": {
        "id": "Tz26_Q_09QzZ"
      },
      "source": [
        "###2. Faça um algoritmo que mostre o cumprimento ‘Olá ‘ para o nome de alguém (4 pessoas). Exemplo ‘Olá Mariana’. Pode implementar com o comando while ou for.\n",
        ""
      ]
    },
    {
      "cell_type": "code",
      "metadata": {
        "id": "EK8e5Oxn9eFX",
        "colab": {
          "base_uri": "https://localhost:8080/"
        },
        "outputId": "1fe5ed18-579e-4eb0-b4f9-8586f3a77b04"
      },
      "source": [
        "q_pessoas = 0\n",
        "\n",
        "while q_pessoas < 4:\n",
        "    nome = input(\"Digite o nome..: \")\n",
        "\n",
        "    print(\"Olá\",nome)\n",
        "    q_pessoas = q_pessoas + 1\n",
        "print(\"\\n\\nFim\")"
      ],
      "execution_count": null,
      "outputs": [
        {
          "output_type": "stream",
          "name": "stdout",
          "text": [
            "Digite o nome..: Amanda\n",
            "Olá Amanda\n",
            "Digite o nome..: Claudio\n",
            "Olá Claudio\n",
            "Digite o nome..: Roberto\n",
            "Olá Roberto\n",
            "Digite o nome..: Marina\n",
            "Olá Marina\n",
            "\n",
            "\n",
            "Fim\n"
          ]
        }
      ]
    },
    {
      "cell_type": "code",
      "source": [
        "for q_pessoas in range (4):\n",
        "\n",
        "    nome = input(\"Digite o nome..: \")\n",
        "    print(\"Olá\",nome)"
      ],
      "metadata": {
        "colab": {
          "base_uri": "https://localhost:8080/"
        },
        "id": "IUg69hW9i0ow",
        "outputId": "4aa6d38a-e2b7-400e-e43f-c74821fb6e1f"
      },
      "execution_count": null,
      "outputs": [
        {
          "output_type": "stream",
          "name": "stdout",
          "text": [
            "Digite o nome..: Amanda\n",
            "Olá Amanda\n",
            "Digite o nome..: Claudio\n",
            "Olá Claudio\n",
            "Digite o nome..: Roberto\n",
            "Olá Roberto\n",
            "Digite o nome..: Marina\n",
            "Olá Marina\n"
          ]
        }
      ]
    },
    {
      "cell_type": "markdown",
      "metadata": {
        "id": "-tIGmOam9eaB"
      },
      "source": [
        "###3. Faça um algoritmo que mostre os valores de 0 a 15. Pode implementar com o comando while ou for.\n"
      ]
    },
    {
      "cell_type": "code",
      "metadata": {
        "id": "PVFy9VEE9jy9",
        "colab": {
          "base_uri": "https://localhost:8080/"
        },
        "outputId": "e65b9c89-20da-472e-ec03-3ea978ed1730"
      },
      "source": [
        "numero = 0\n",
        "\n",
        "while numero <= 15:\n",
        "\n",
        "    print(numero)\n",
        "    numero = numero + 1"
      ],
      "execution_count": null,
      "outputs": [
        {
          "output_type": "stream",
          "name": "stdout",
          "text": [
            "0\n",
            "1\n",
            "2\n",
            "3\n",
            "4\n",
            "5\n",
            "6\n",
            "7\n",
            "8\n",
            "9\n",
            "10\n",
            "11\n",
            "12\n",
            "13\n",
            "14\n",
            "15\n"
          ]
        }
      ]
    },
    {
      "cell_type": "code",
      "source": [
        "for a in range(16):\n",
        "    print(a)"
      ],
      "metadata": {
        "colab": {
          "base_uri": "https://localhost:8080/"
        },
        "id": "YCDw3I--spRq",
        "outputId": "df896701-d25a-4351-cc68-5095a6eceee1"
      },
      "execution_count": null,
      "outputs": [
        {
          "output_type": "stream",
          "name": "stdout",
          "text": [
            "0\n",
            "1\n",
            "2\n",
            "3\n",
            "4\n",
            "5\n",
            "6\n",
            "7\n",
            "8\n",
            "9\n",
            "10\n",
            "11\n",
            "12\n",
            "13\n",
            "14\n",
            "15\n"
          ]
        }
      ]
    },
    {
      "cell_type": "markdown",
      "metadata": {
        "id": "n2GgpaGP9j-A"
      },
      "source": [
        "###4. Faça um algoritmo que mostre os valores de 3 a 20. Pode implementar com o comando while ou for.\n"
      ]
    },
    {
      "cell_type": "code",
      "metadata": {
        "id": "lqitidIO9rOm",
        "colab": {
          "base_uri": "https://localhost:8080/"
        },
        "outputId": "3033d3c2-f25e-4f7e-fa34-1639313a2e86"
      },
      "source": [
        "numero = 3\n",
        "\n",
        "while numero <= 20:\n",
        "\n",
        "    print(numero)\n",
        "    numero = numero + 1"
      ],
      "execution_count": null,
      "outputs": [
        {
          "output_type": "stream",
          "name": "stdout",
          "text": [
            "3\n",
            "4\n",
            "5\n",
            "6\n",
            "7\n",
            "8\n",
            "9\n",
            "10\n",
            "11\n",
            "12\n",
            "13\n",
            "14\n",
            "15\n",
            "16\n",
            "17\n",
            "18\n",
            "19\n",
            "20\n"
          ]
        }
      ]
    },
    {
      "cell_type": "code",
      "source": [
        "for a in range(3, 21):\n",
        "    print(a)"
      ],
      "metadata": {
        "colab": {
          "base_uri": "https://localhost:8080/"
        },
        "id": "qM346f4hr5fO",
        "outputId": "404c45bd-18a6-421c-cb8b-3114470fddb9"
      },
      "execution_count": null,
      "outputs": [
        {
          "output_type": "stream",
          "name": "stdout",
          "text": [
            "3\n",
            "4\n",
            "5\n",
            "6\n",
            "7\n",
            "8\n",
            "9\n",
            "10\n",
            "11\n",
            "12\n",
            "13\n",
            "14\n",
            "15\n",
            "16\n",
            "17\n",
            "18\n",
            "19\n",
            "20\n"
          ]
        }
      ]
    },
    {
      "cell_type": "markdown",
      "metadata": {
        "id": "C8RRCFc_9sTL"
      },
      "source": [
        "###5. Faça um algoritmo que calcule e mostre a tabuada do 5. Pode implementar com o comando while ou for.\n"
      ]
    },
    {
      "cell_type": "code",
      "metadata": {
        "id": "4QBLg1ka91dV",
        "colab": {
          "base_uri": "https://localhost:8080/"
        },
        "outputId": "40156de6-569a-41e1-8ff1-dc954360e964"
      },
      "source": [
        "tabuada = 1\n",
        "\n",
        "while tabuada <= 10:\n",
        "    tabuada2 = 5 * tabuada\n",
        "\n",
        "    print(\"5 x\",tabuada, \"=\",tabuada2)\n",
        "    tabuada = tabuada + 1"
      ],
      "execution_count": null,
      "outputs": [
        {
          "output_type": "stream",
          "name": "stdout",
          "text": [
            "5 x 1 = 5\n",
            "5 x 2 = 10\n",
            "5 x 3 = 15\n",
            "5 x 4 = 20\n",
            "5 x 5 = 25\n",
            "5 x 6 = 30\n",
            "5 x 7 = 35\n",
            "5 x 8 = 40\n",
            "5 x 9 = 45\n",
            "5 x 10 = 50\n"
          ]
        }
      ]
    },
    {
      "cell_type": "code",
      "source": [
        "for tabuada in range (11):\n",
        "    tabuada2 = 5 * tabuada\n",
        "\n",
        "    print(\"5 x\",tabuada, \"=\",tabuada2)"
      ],
      "metadata": {
        "colab": {
          "base_uri": "https://localhost:8080/"
        },
        "id": "2o3KmQWWn3Zv",
        "outputId": "b3ee12f0-de81-442b-e9a9-2ffc2210c13f"
      },
      "execution_count": null,
      "outputs": [
        {
          "output_type": "stream",
          "name": "stdout",
          "text": [
            "5 x 0 = 0\n",
            "5 x 1 = 5\n",
            "5 x 2 = 10\n",
            "5 x 3 = 15\n",
            "5 x 4 = 20\n",
            "5 x 5 = 25\n",
            "5 x 6 = 30\n",
            "5 x 7 = 35\n",
            "5 x 8 = 40\n",
            "5 x 9 = 45\n",
            "5 x 10 = 50\n"
          ]
        }
      ]
    },
    {
      "cell_type": "markdown",
      "metadata": {
        "id": "nJv5jBoq91tW"
      },
      "source": [
        "###6. Faça um algoritmo que receba a idade de 10 pessoas, calcule e exiba a quantidade de pessoas maiores de idade, sendo que a maioridade é obtida após completar 18 anos. Pode implementar com o comando while ou for.\n"
      ]
    },
    {
      "cell_type": "code",
      "metadata": {
        "id": "FXOsNMt_96QH",
        "colab": {
          "base_uri": "https://localhost:8080/"
        },
        "outputId": "80359264-b5f3-4359-a106-7adc951c3328"
      },
      "source": [
        "numero = 1\n",
        "contador = 0\n",
        "\n",
        "while numero <= 10:\n",
        "    idade = int(input(\"Digite a idade..: \"))\n",
        "    numero += 1\n",
        "    if idade >= 18:\n",
        "        contador += 1\n",
        "\n",
        "print(contador, \"pessoas são maiores de idade!\")"
      ],
      "execution_count": null,
      "outputs": [
        {
          "output_type": "stream",
          "name": "stdout",
          "text": [
            "Digite a idade..: 45\n",
            "Digite a idade..: 7\n",
            "Digite a idade..: 16\n",
            "Digite a idade..: 23\n",
            "Digite a idade..: 32\n",
            "Digite a idade..: 8\n",
            "Digite a idade..: 5\n",
            "Digite a idade..: 17\n",
            "Digite a idade..: 10\n",
            "Digite a idade..: 26\n",
            "4 pessoas são maiores de idade!\n"
          ]
        }
      ]
    },
    {
      "cell_type": "code",
      "source": [
        "contador = 0\n",
        "\n",
        "for numero in range (10):\n",
        "    idade = int(input(\"Digite a idade..: \"))\n",
        "    if idade >= 18:\n",
        "        contador += 1\n",
        "\n",
        "print(contador, \"pessoas são maiores de idade!\")"
      ],
      "metadata": {
        "colab": {
          "base_uri": "https://localhost:8080/"
        },
        "id": "rVVzI9sLrZty",
        "outputId": "911d36b4-0a60-4c70-a127-d6c4ea71b25e"
      },
      "execution_count": null,
      "outputs": [
        {
          "output_type": "stream",
          "name": "stdout",
          "text": [
            "Digite a idade..: 45\n",
            "Digite a idade..: 7\n",
            "Digite a idade..: 16\n",
            "Digite a idade..: 23\n",
            "Digite a idade..: 32\n",
            "Digite a idade..: 8\n",
            "Digite a idade..: 5\n",
            "Digite a idade..: 17\n",
            "Digite a idade..: 10\n",
            "Digite a idade..: 26\n",
            "4 pessoas são maiores de idade!\n"
          ]
        }
      ]
    },
    {
      "cell_type": "markdown",
      "metadata": {
        "id": "g5RA7KN896ep"
      },
      "source": [
        "###7. Escreva um algoritmo que receba 23 números, calcule e exiba a quantidade de números pares e impares. Pode implementar com o comando while ou for.\n"
      ]
    },
    {
      "cell_type": "code",
      "metadata": {
        "id": "JBnJiugI9_Q1",
        "colab": {
          "base_uri": "https://localhost:8080/"
        },
        "outputId": "65e4b46e-5e8f-46bb-d228-3fa189c38ca3"
      },
      "source": [
        "par = 0\n",
        "impar = 0\n",
        "a = 0\n",
        "\n",
        "while a < 23:\n",
        "    numero = int(input(\"Digite um numero..: \"))\n",
        "    a += 1\n",
        "    if numero % 2 == 0:\n",
        "        par += 1\n",
        "\n",
        "    else:\n",
        "        impar += 1\n",
        "\n",
        "print(f\"Numeros Pares..: {par}, numeros impares..: {impar}\")"
      ],
      "execution_count": null,
      "outputs": [
        {
          "output_type": "stream",
          "name": "stdout",
          "text": [
            "Digite um numero..: 32\n",
            "Digite um numero..: 15\n",
            "Digite um numero..: 24\n",
            "Digite um numero..: 33\n",
            "Digite um numero..: 45\n",
            "Digite um numero..: 56\n",
            "Digite um numero..: 37\n",
            "Digite um numero..: 68\n",
            "Digite um numero..: 74\n",
            "Digite um numero..: 81\n",
            "Digite um numero..: 92\n",
            "Digite um numero..: 88\n",
            "Digite um numero..: 73\n",
            "Digite um numero..: 62\n",
            "Digite um numero..: 55\n",
            "Digite um numero..: 41\n",
            "Digite um numero..: 36\n",
            "Digite um numero..: 27\n",
            "Digite um numero..: 12\n",
            "Digite um numero..: 7\n",
            "Digite um numero..: 10\n",
            "Digite um numero..: 29\n",
            "Digite um numero..: 34\n",
            "Numeros Pares..: 12, numeros impares..: 11\n"
          ]
        }
      ]
    },
    {
      "cell_type": "code",
      "source": [
        "par = 0\n",
        "impar = 0\n",
        "\n",
        "for a in range (23):\n",
        "    numero = int(input(\"Digite um numero..: \"))\n",
        "\n",
        "    if numero % 2 == 0:\n",
        "        par += 1\n",
        "\n",
        "    else:\n",
        "        impar += 1\n",
        "\n",
        "print(f\"Numeros Pares..: {par}, numeros impares..: {impar}\")"
      ],
      "metadata": {
        "colab": {
          "base_uri": "https://localhost:8080/"
        },
        "id": "6P1p7l6ik0II",
        "outputId": "fffef16f-ae8f-4637-dd29-208eaf23cc9b"
      },
      "execution_count": null,
      "outputs": [
        {
          "output_type": "stream",
          "name": "stdout",
          "text": [
            "Digite um numero..: 32\n",
            "Digite um numero..: 15\n",
            "Digite um numero..: 24\n",
            "Digite um numero..: 33\n",
            "Digite um numero..: 45\n",
            "Digite um numero..: 56\n",
            "Digite um numero..: 37\n",
            "Digite um numero..: 68\n",
            "Digite um numero..: 74\n",
            "Digite um numero..: 81\n",
            "Digite um numero..: 92\n",
            "Digite um numero..: 88\n",
            "Digite um numero..: 73\n",
            "Digite um numero..: 62\n",
            "Digite um numero..: 55\n",
            "Digite um numero..: 41\n",
            "Digite um numero..: 36\n",
            "Digite um numero..: 27\n",
            "Digite um numero..: 12\n",
            "Digite um numero..: 7\n",
            "Digite um numero..: 10\n",
            "Digite um numero..: 29\n",
            "Digite um numero..: 34\n",
            "Numeros Pares..: 12, numeros impares..: 11\n"
          ]
        }
      ]
    },
    {
      "cell_type": "markdown",
      "metadata": {
        "id": "DVuRwa6J9_in"
      },
      "source": [
        "###8. Faça um algoritmo que calcule e exiba o salário reajustado de dez funcionários de acordo com a seguinte regra (pode implementar com o comando while ou for):\n",
        "## Salário até 300, reajuste de 50%;\n",
        "\n",
        "##Salários maiores que 300, reajuste de 30%.\n",
        "\n",
        "\n"
      ]
    },
    {
      "cell_type": "code",
      "metadata": {
        "id": "GnYXpwwH-Drd",
        "colab": {
          "base_uri": "https://localhost:8080/"
        },
        "outputId": "1327d745-463b-4afa-f095-4b249f72ad29"
      },
      "source": [
        "funcionario = 0\n",
        "\n",
        "while funcionario < 10:\n",
        "    salario = float(input(\"Digite o salario atual..: \"))\n",
        "\n",
        "    if salario <= 300:\n",
        "        reajuste1 = salario * 1.5\n",
        "        print(f\"O novo salario vai ser..: {reajuste1:.2f}\")\n",
        "\n",
        "    elif salario > 300:\n",
        "        reajuste2 = salario * 1.3\n",
        "        print(f\"O novo salario vai ser..: {reajuste2:.2f}\")\n",
        "\n",
        "    funcionario += 1"
      ],
      "execution_count": null,
      "outputs": [
        {
          "output_type": "stream",
          "name": "stdout",
          "text": [
            "Digite o salario atual..: 100\n",
            "O novo salario vai ser..: 150.00\n",
            "Digite o salario atual..: 200\n",
            "O novo salario vai ser..: 300.00\n",
            "Digite o salario atual..: 300\n",
            "O novo salario vai ser..: 450.00\n",
            "Digite o salario atual..: 400\n",
            "O novo salario vai ser..: 520.00\n",
            "Digite o salario atual..: 500\n",
            "O novo salario vai ser..: 650.00\n",
            "Digite o salario atual..: 600\n",
            "O novo salario vai ser..: 780.00\n",
            "Digite o salario atual..: 700\n",
            "O novo salario vai ser..: 910.00\n",
            "Digite o salario atual..: 800\n",
            "O novo salario vai ser..: 1040.00\n",
            "Digite o salario atual..: 900\n",
            "O novo salario vai ser..: 1170.00\n",
            "Digite o salario atual..: 1000\n",
            "O novo salario vai ser..: 1300.00\n"
          ]
        }
      ]
    },
    {
      "cell_type": "code",
      "source": [
        "funcionario = 0\n",
        "\n",
        "for funcionario in range (10):\n",
        "    salario = float(input(\"Digite o salario atual..: \"))\n",
        "\n",
        "    if salario <= 300:\n",
        "        reajuste1 = salario * 1.5\n",
        "        print(f\"O novo salario vai ser..: {reajuste1:.2f}\")\n",
        "\n",
        "    elif salario > 300:\n",
        "        reajuste2 = salario * 1.3\n",
        "        print(f\"O novo salario vai ser..: {reajuste2:.2f}\")"
      ],
      "metadata": {
        "colab": {
          "base_uri": "https://localhost:8080/"
        },
        "id": "ESKq_R85Hy7S",
        "outputId": "4f1e344b-17ba-41c9-8e1c-fd8682cefbdd"
      },
      "execution_count": null,
      "outputs": [
        {
          "output_type": "stream",
          "name": "stdout",
          "text": [
            "Digite o salario atual..: 100\n",
            "O novo salario vai ser..: 150.00\n",
            "Digite o salario atual..: 200\n",
            "O novo salario vai ser..: 300.00\n",
            "Digite o salario atual..: 300\n",
            "O novo salario vai ser..: 450.00\n",
            "Digite o salario atual..: 400\n",
            "O novo salario vai ser..: 520.00\n",
            "Digite o salario atual..: 500\n",
            "O novo salario vai ser..: 650.00\n",
            "Digite o salario atual..: 600\n",
            "O novo salario vai ser..: 780.00\n",
            "Digite o salario atual..: 700\n",
            "O novo salario vai ser..: 910.00\n",
            "Digite o salario atual..: 800\n",
            "O novo salario vai ser..: 1040.00\n",
            "Digite o salario atual..: 900\n",
            "O novo salario vai ser..: 1170.00\n",
            "Digite o salario atual..: 1000\n",
            "O novo salario vai ser..: 1300.00\n"
          ]
        }
      ]
    },
    {
      "cell_type": "markdown",
      "metadata": {
        "id": "WWEunLW8-D2h"
      },
      "source": [
        "\n",
        "###9. Faça um algoritmo que conheça 4 preços de produtos, some-os e mostre o resultado. Pode implementar com o comando while ou for.\n"
      ]
    },
    {
      "cell_type": "code",
      "metadata": {
        "id": "N9cUIxJk-HLg",
        "colab": {
          "base_uri": "https://localhost:8080/"
        },
        "outputId": "3a001aaa-c3f4-4363-fe5b-c4c94a03f953"
      },
      "source": [
        "precos = 0\n",
        "produtos = 0\n",
        "\n",
        "while produtos < 4:\n",
        "    precos += float(input(\"Digite o preço do produto..: \"))\n",
        "    produtos += 1\n",
        "\n",
        "print(f\"A soma total do valor dos produtos será R$..: {precos:.2f}\")"
      ],
      "execution_count": null,
      "outputs": [
        {
          "output_type": "stream",
          "name": "stdout",
          "text": [
            "Digite o preço do produto..: 50\n",
            "Digite o preço do produto..: 89\n",
            "Digite o preço do produto..: 28\n",
            "Digite o preço do produto..: 34\n",
            "A soma total do valor dos produtos será R$..: 201.00\n"
          ]
        }
      ]
    },
    {
      "cell_type": "code",
      "source": [
        "precos = 0\n",
        "produtos = 0\n",
        "\n",
        "for produtos in range (4):\n",
        "    precos += float(input(\"Digite o preço do produto..: \"))\n",
        "    produtos += 1\n",
        "\n",
        "print(f\"A soma total do valor dos produtos será R$..: {precos:.2f}\")"
      ],
      "metadata": {
        "colab": {
          "base_uri": "https://localhost:8080/"
        },
        "id": "eNqJ3LxmJzef",
        "outputId": "9bd85135-05d9-4faa-bfe7-790e6f7b127d"
      },
      "execution_count": null,
      "outputs": [
        {
          "output_type": "stream",
          "name": "stdout",
          "text": [
            "Digite o preço do produto..: 50\n",
            "Digite o preço do produto..: 89\n",
            "Digite o preço do produto..: 28\n",
            "Digite o preço do produto..: 34\n",
            "A soma total do valor dos produtos será R$..: 201.00\n"
          ]
        }
      ]
    },
    {
      "cell_type": "markdown",
      "metadata": {
        "id": "rf_lUW8J-HbR"
      },
      "source": [
        "###10. Faça um algoritmo que calcule e informe a média de idades de 5 alunos. Pode implementar com o comando while ou for."
      ]
    },
    {
      "cell_type": "code",
      "metadata": {
        "id": "kIGzHgii-Teb",
        "colab": {
          "base_uri": "https://localhost:8080/"
        },
        "outputId": "afd1e7e4-b413-4d6b-fb15-42960d7fc16f"
      },
      "source": [
        "idade = 0\n",
        "alunos = 0\n",
        "\n",
        "while alunos < 5:\n",
        "    idade += int(input(\"Digite a idade do aluno..: \"))\n",
        "    alunos += 1\n",
        "\n",
        "print(f\"A media de idade dos alunos será de {idade / 5:.2f} anos\")"
      ],
      "execution_count": null,
      "outputs": [
        {
          "output_type": "stream",
          "name": "stdout",
          "text": [
            "Digite a idade do aluno..: 19\n",
            "Digite a idade do aluno..: 25\n",
            "Digite a idade do aluno..: 18\n",
            "Digite a idade do aluno..: 21\n",
            "Digite a idade do aluno..: 23\n",
            "A media de idade dos alunos será de 21.20 anos\n"
          ]
        }
      ]
    },
    {
      "cell_type": "code",
      "source": [
        "idade = 0\n",
        "alunos = 0\n",
        "\n",
        "for alunos in range (5):\n",
        "    idade += int(input(\"Digite a idade do aluno..: \"))\n",
        "    alunos += 1\n",
        "\n",
        "print(f\"A media de idade dos alunos será de {idade / 5:.2f} anos\")"
      ],
      "metadata": {
        "colab": {
          "base_uri": "https://localhost:8080/"
        },
        "id": "L_8yxzAtLXoS",
        "outputId": "6f2b09e6-6c23-4980-dec9-ca7e9a297a56"
      },
      "execution_count": null,
      "outputs": [
        {
          "output_type": "stream",
          "name": "stdout",
          "text": [
            "Digite a idade do aluno..: 19\n",
            "Digite a idade do aluno..: 25\n",
            "Digite a idade do aluno..: 18\n",
            "Digite a idade do aluno..: 21\n",
            "Digite a idade do aluno..: 23\n",
            "A media de idade dos alunos será de 21.20 anos\n"
          ]
        }
      ]
    },
    {
      "cell_type": "markdown",
      "metadata": {
        "id": "cTQOtgv8-TqZ"
      },
      "source": [
        "###11. Faça um algoritmo que conheça 4 preços de produtos, calcule e mostre a média aritmética dos preços. Pode implementar com o comando while ou for.\n"
      ]
    },
    {
      "cell_type": "code",
      "metadata": {
        "id": "1jGiDIq--XfE",
        "colab": {
          "base_uri": "https://localhost:8080/"
        },
        "outputId": "ee68c490-d725-407e-bec6-b8b66dbd4a90"
      },
      "source": [
        "precos = 0\n",
        "produtos = 0\n",
        "\n",
        "while produtos < 4:\n",
        "    precos += float(input(\"Digite o preço do produto..: \"))\n",
        "    produtos += 1\n",
        "\n",
        "print(f\"A soma total do valor dos produtos será R$..: {precos / 4:.2f}\")"
      ],
      "execution_count": null,
      "outputs": [
        {
          "output_type": "stream",
          "name": "stdout",
          "text": [
            "Digite o preço do produto..: 15\n",
            "Digite o preço do produto..: 26\n",
            "Digite o preço do produto..: 48\n",
            "Digite o preço do produto..: 34\n",
            "A soma total do valor dos produtos será R$..: 30.75\n"
          ]
        }
      ]
    },
    {
      "cell_type": "code",
      "source": [
        "precos = 0\n",
        "produtos = 0\n",
        "\n",
        "for produtos in range (4):\n",
        "    precos += float(input(\"Digite o preço do produto..: \"))\n",
        "    produtos += 1\n",
        "\n",
        "print(f\"A soma total do valor dos produtos será R$..: {precos / 4:.2f}\")"
      ],
      "metadata": {
        "colab": {
          "base_uri": "https://localhost:8080/"
        },
        "id": "rxqVVN__NSum",
        "outputId": "66bcc009-85c9-4a1a-f3f1-3a679fd3410e"
      },
      "execution_count": null,
      "outputs": [
        {
          "output_type": "stream",
          "name": "stdout",
          "text": [
            "Digite o preço do produto..: 15\n",
            "Digite o preço do produto..: 26\n",
            "Digite o preço do produto..: 48\n",
            "Digite o preço do produto..: 34\n",
            "A soma total do valor dos produtos será R$..: 30.75\n"
          ]
        }
      ]
    },
    {
      "cell_type": "markdown",
      "source": [
        "###12. Faça um programa que receba a idade e a altura de 20 pessoas. Calcule e exiba a média das alturas das pessoas com mais de 20 anos.\n",
        "\n",
        "\n"
      ],
      "metadata": {
        "id": "q2aJm6ktRIKX"
      }
    },
    {
      "cell_type": "code",
      "source": [
        "altura_media = 0\n",
        "quantidade = 0\n",
        "pessoas = 0\n",
        "\n",
        "while pessoas < 20:\n",
        "    idade = int(input(\"Informe a idade..: \"))\n",
        "    altura = float(input(\"Informe a altura..: \"))\n",
        "\n",
        "    if idade > 20:\n",
        "        quantidade += 1\n",
        "        altura_media += altura\n",
        "\n",
        "    pessoas += 1\n",
        "\n",
        "print(f\"A media de altura das pessoas que possuem mais de 20 anos será de..: {altura_media / quantidade:.2f}\")"
      ],
      "metadata": {
        "colab": {
          "base_uri": "https://localhost:8080/"
        },
        "id": "bEtioUx4SFdw",
        "outputId": "548c635d-c915-4bc9-fb99-1af4981cd1f5"
      },
      "execution_count": null,
      "outputs": [
        {
          "output_type": "stream",
          "name": "stdout",
          "text": [
            "Informe a idade..: 28\n",
            "Informe a altura..: 1.60\n",
            "Informe a idade..: 47\n",
            "Informe a altura..: 1.75\n",
            "Informe a idade..: 12\n",
            "Informe a altura..: 1.30\n",
            "Informe a idade..: 55\n",
            "Informe a altura..: 1.80\n",
            "Informe a idade..: 21\n",
            "Informe a altura..: 1.62\n",
            "Informe a idade..: 29\n",
            "Informe a altura..: 1.55\n",
            "Informe a idade..: 15\n",
            "Informe a altura..: 1.45\n",
            "Informe a idade..: 70\n",
            "Informe a altura..: 1.70\n",
            "Informe a idade..: 39\n",
            "Informe a altura..: 1.82\n",
            "Informe a idade..: 35\n",
            "Informe a altura..: 1.90\n",
            "Informe a idade..: 24\n",
            "Informe a altura..: 1.73\n",
            "Informe a idade..: 22\n",
            "Informe a altura..: 1.65\n",
            "Informe a idade..: 49\n",
            "Informe a altura..: 1.83\n",
            "Informe a idade..: 51\n",
            "Informe a altura..: 1.78\n",
            "Informe a idade..: 33\n",
            "Informe a altura..: 1.54\n",
            "Informe a idade..: 16\n",
            "Informe a altura..: 1.58\n",
            "Informe a idade..: 10\n",
            "Informe a altura..: 1.20\n",
            "Informe a idade..: 25\n",
            "Informe a altura..: 1.92\n",
            "Informe a idade..: 45\n",
            "Informe a altura..: 1.59\n",
            "Informe a idade..: 38\n",
            "Informe a altura..: 1.78\n",
            "A media de idade das pessoas que possuem mais de 20 anos será de..: 1.72\n"
          ]
        }
      ]
    },
    {
      "cell_type": "code",
      "source": [
        "altura_media = 0\n",
        "quantidade = 0\n",
        "pessoas = 0\n",
        "\n",
        "for pessoas in range (20):\n",
        "    idade = int(input(\"Informe a idade..: \"))\n",
        "    altura = float(input(\"Informe a altura..: \"))\n",
        "\n",
        "    if idade > 20:\n",
        "        quantidade += 1\n",
        "        altura_media += altura\n",
        "\n",
        "    pessoas += 1\n",
        "\n",
        "print(f\"A media de altura das pessoas que possuem mais de 20 anos será de..: {altura_media / quantidade:.2f}\")"
      ],
      "metadata": {
        "colab": {
          "base_uri": "https://localhost:8080/"
        },
        "id": "_F_XkLQcwOIb",
        "outputId": "6efee7e0-aee0-478c-8d1f-9718c5dc75d5"
      },
      "execution_count": null,
      "outputs": [
        {
          "output_type": "stream",
          "name": "stdout",
          "text": [
            "Informe a idade..: 28\n",
            "Informe a altura..: 1.60\n",
            "Informe a idade..: 47\n",
            "Informe a altura..: 1.75\n",
            "Informe a idade..: 12\n",
            "Informe a altura..: 1.30\n",
            "Informe a idade..: 55\n",
            "Informe a altura..: 1.80\n",
            "Informe a idade..: 21\n",
            "Informe a altura..: 1.62\n",
            "Informe a idade..: 29\n",
            "Informe a altura..: 1.55\n",
            "Informe a idade..: 15\n",
            "Informe a altura..: 1.45\n",
            "Informe a idade..: 70\n",
            "Informe a altura..: 1.70\n",
            "Informe a idade..: 39\n",
            "Informe a altura..: 1.82\n",
            "Informe a idade..: 35\n",
            "Informe a altura..: 1.90\n",
            "Informe a idade..: 24\n",
            "Informe a altura..: 1.73\n",
            "Informe a idade..: 22\n",
            "Informe a altura..: 1.65\n",
            "Informe a idade..: 49\n",
            "Informe a altura..: 1.83\n",
            "Informe a idade..: 51\n",
            "Informe a altura..: 1.78\n",
            "Informe a idade..: 33\n",
            "Informe a altura..: 1.54\n",
            "Informe a idade..: 16\n",
            "Informe a altura..: 1.58\n",
            "Informe a idade..: 10\n",
            "Informe a altura..: 1.20\n",
            "Informe a idade..: 25\n",
            "Informe a altura..: 1.92\n",
            "Informe a idade..: 45\n",
            "Informe a altura..: 1.59\n",
            "Informe a idade..: 38\n",
            "Informe a altura..: 1.78\n",
            "A media de altura das pessoas que possuem mais de 20 anos será de..: 1.72\n"
          ]
        }
      ]
    },
    {
      "cell_type": "markdown",
      "metadata": {
        "id": "aI4IjOYw-XwG"
      },
      "source": [
        "###13. Faça um algoritmo que leia o preço de 20 TV, determine e apresente a média dos preços que possuem valor maior que R$ 1000. Pode implementar com o comando while ou for."
      ]
    },
    {
      "cell_type": "code",
      "source": [
        "media_precos = 0\n",
        "quantidade = 0\n",
        "tv = 0\n",
        "\n",
        "while tv < 20:\n",
        "    preco = float(input(\"Digite o valor da TV..: \"))\n",
        "\n",
        "    if preco > 1000:\n",
        "        media_precos += preco\n",
        "        quantidade += 1\n",
        "\n",
        "    tv += 1\n",
        "\n",
        "print(f\"A media de preço das TVs que custam mais de R$ 1.000 será de..: R$ {media_precos / quantidade}\")"
      ],
      "metadata": {
        "id": "0YxUWj8KQriq",
        "colab": {
          "base_uri": "https://localhost:8080/"
        },
        "outputId": "bcd4d05c-d697-49c3-b8c5-6b4d43a79c75"
      },
      "execution_count": null,
      "outputs": [
        {
          "output_type": "stream",
          "name": "stdout",
          "text": [
            "Digite o valor da TV..: 1200\n",
            "Digite o valor da TV..: 900\n",
            "Digite o valor da TV..: 1550\n",
            "Digite o valor da TV..: 780\n",
            "Digite o valor da TV..: 1980\n",
            "Digite o valor da TV..: 999\n",
            "Digite o valor da TV..: 820\n",
            "Digite o valor da TV..: 2500\n",
            "Digite o valor da TV..: 3480\n",
            "Digite o valor da TV..: 1700\n",
            "Digite o valor da TV..: 1400\n",
            "Digite o valor da TV..: 990\n",
            "Digite o valor da TV..: 1760\n",
            "Digite o valor da TV..: 3000\n",
            "Digite o valor da TV..: 1880\n",
            "Digite o valor da TV..: 1239\n",
            "Digite o valor da TV..: 1220\n",
            "Digite o valor da TV..: 1799\n",
            "Digite o valor da TV..: 723\n",
            "Digite o valor da TV..: 3500\n",
            "A media de preço das TVs que custam mais de R$ 1.000 será de..: R$ 2014.857142857143\n"
          ]
        }
      ]
    },
    {
      "cell_type": "code",
      "source": [
        "media_precos = 0\n",
        "quantidade = 0\n",
        "tv = 0\n",
        "\n",
        "for tv in range (20):\n",
        "    preco = float(input(\"Digite o valor da TV..: \"))\n",
        "\n",
        "    if preco > 1000:\n",
        "        media_precos += preco\n",
        "        quantidade += 1\n",
        "\n",
        "    tv += 1\n",
        "\n",
        "print(f\"A media de preço das TVs que custam mais de R$ 1.000 será de..: R$ {media_precos / quantidade}\")"
      ],
      "metadata": {
        "colab": {
          "base_uri": "https://localhost:8080/"
        },
        "id": "uV7L8uvbxQC9",
        "outputId": "5e472229-0f98-4ae1-efb4-e698b38a8093"
      },
      "execution_count": null,
      "outputs": [
        {
          "output_type": "stream",
          "name": "stdout",
          "text": [
            "Digite o valor da TV..: 1200\n",
            "Digite o valor da TV..: 900\n",
            "Digite o valor da TV..: 1550\n",
            "Digite o valor da TV..: 780\n",
            "Digite o valor da TV..: 1980\n",
            "Digite o valor da TV..: 999\n",
            "Digite o valor da TV..: 820\n",
            "Digite o valor da TV..: 2500\n",
            "Digite o valor da TV..: 3480\n",
            "Digite o valor da TV..: 1700\n",
            "Digite o valor da TV..: 1400\n",
            "Digite o valor da TV..: 990\n",
            "Digite o valor da TV..: 1760\n",
            "Digite o valor da TV..: 3000\n",
            "Digite o valor da TV..: 1880\n",
            "Digite o valor da TV..: 1239\n",
            "Digite o valor da TV..: 1220\n",
            "Digite o valor da TV..: 1799\n",
            "Digite o valor da TV..: 723\n",
            "Digite o valor da TV..: 3500\n",
            "A media de preço das TVs que custam mais de R$ 1.000 será de..: R$ 2014.857142857143\n"
          ]
        }
      ]
    },
    {
      "cell_type": "markdown",
      "source": [
        "###14. Faça um programa que receba a altura e nome  de 5 pessoas. Encontre e apresente a altura da pessoa mais alta e da mais baixa e seus respectivos nomes."
      ],
      "metadata": {
        "id": "AvMp2ZGF5sBk"
      }
    },
    {
      "cell_type": "code",
      "source": [
        "qpessoas = 0\n",
        "\n",
        "while qpessoas < 5:\n",
        "    altura = float(input('Informe a altura..: '))\n",
        "    nome = input('Informe o nome..: ')\n",
        "\n",
        "    if qpessoas == 0:\n",
        "        alto = altura\n",
        "        nome_alto = nome\n",
        "        baixo = altura\n",
        "        nome_baixo = nome\n",
        "    if altura > alto:\n",
        "        alto = altura\n",
        "        nome_alto = nome\n",
        "    if altura < baixo:\n",
        "        baixo = altura\n",
        "        nome_baixo = nome\n",
        "    qpessoas = qpessoas + 1\n",
        "\n",
        "print('Alto..: ', alto, 'metros, nome..: ',nome_alto)\n",
        "print('Baixo..: ', baixo, 'metros, nome..: ', nome_baixo)"
      ],
      "metadata": {
        "id": "HUkicD3g6CX4",
        "colab": {
          "base_uri": "https://localhost:8080/"
        },
        "outputId": "0043265d-49c6-48d5-9297-0b9da6912245"
      },
      "execution_count": null,
      "outputs": [
        {
          "output_type": "stream",
          "name": "stdout",
          "text": [
            "Informe a altura..: 1.60\n",
            "Informe o nome..: André\n",
            "Informe a altura..: 1.75\n",
            "Informe o nome..: Ricardo\n",
            "Informe a altura..: 2.00\n",
            "Informe o nome..: Thiago\n",
            "Informe a altura..: 1.65\n",
            "Informe o nome..: Ana\n",
            "Informe a altura..: 1.55\n",
            "Informe o nome..: Fabia\n",
            "Alto..:  2.0 metros, nome..:  Thiago\n",
            "Baixo..:  1.55 metros, nome..:  Fabia\n"
          ]
        }
      ]
    },
    {
      "cell_type": "code",
      "source": [
        "qpessoas = 0\n",
        "\n",
        "for qpessoas in range (5):\n",
        "    altura = float(input('Informe a altura..: '))\n",
        "    nome = input('Informe o nome..: ')\n",
        "\n",
        "    if qpessoas == 0:\n",
        "        alto = altura\n",
        "        nome_alto = nome\n",
        "        baixo = altura\n",
        "        nome_baixo = nome\n",
        "    if altura > alto:\n",
        "        alto = altura\n",
        "        nome_alto = nome\n",
        "    if altura < baixo:\n",
        "        baixo = altura\n",
        "        nome_baixo = nome\n",
        "    qpessoas = qpessoas + 1\n",
        "\n",
        "print('Alto..: ', alto, 'metros, nome..: ',nome_alto)\n",
        "print('Baixo..: ', baixo, 'metros, nome..: ', nome_baixo)"
      ],
      "metadata": {
        "colab": {
          "base_uri": "https://localhost:8080/"
        },
        "id": "5FFeCCiGxx2r",
        "outputId": "1191247d-e3fb-45ae-942d-6b57488b56e8"
      },
      "execution_count": null,
      "outputs": [
        {
          "output_type": "stream",
          "name": "stdout",
          "text": [
            "Informe a altura..: 1.60\n",
            "Informe o nome..: André\n",
            "Informe a altura..: 1.75\n",
            "Informe o nome..: Ricardo\n",
            "Informe a altura..: 2.00\n",
            "Informe o nome..: Thiago\n",
            "Informe a altura..: 1.65\n",
            "Informe o nome..: Ana\n",
            "Informe a altura..: 1.55\n",
            "Informe o nome..: Fabia\n",
            "Alto..:  2.0 metros, nome..:  Thiago\n",
            "Baixo..:  1.55 metros, nome..:  Fabia\n"
          ]
        }
      ]
    },
    {
      "cell_type": "markdown",
      "source": [
        "###15. Faça um programa que receba dez valores inteiros, encontre e apresente o maior e o menor valor.\n",
        "\n"
      ],
      "metadata": {
        "id": "8KWL51p-6Ckk"
      }
    },
    {
      "cell_type": "code",
      "source": [
        "contador = 0\n",
        "\n",
        "while contador < 10:\n",
        "    numero = int(input(\"Informe o valor desejado..: \"))\n",
        "\n",
        "    if contador == 0:\n",
        "        numero_maior = numero\n",
        "        numero_menor = numero\n",
        "    if numero > numero_maior:\n",
        "        numero_maior = numero\n",
        "    if numero < numero_menor:\n",
        "            numero_menor = numero\n",
        "    contador = contador + 1\n",
        "\n",
        "print(\"Maior valor..: \", numero_maior, \"\\tMenor valor..: \", numero_menor)"
      ],
      "metadata": {
        "id": "D48xIbyn6aDH",
        "colab": {
          "base_uri": "https://localhost:8080/"
        },
        "outputId": "1062a335-b892-4994-fe32-f6ebafcf953b"
      },
      "execution_count": null,
      "outputs": [
        {
          "output_type": "stream",
          "name": "stdout",
          "text": [
            "Informe o valor desejado..: 65\n",
            "Informe o valor desejado..: 32\n",
            "Informe o valor desejado..: 41\n",
            "Informe o valor desejado..: 9\n",
            "Informe o valor desejado..: 6\n",
            "Informe o valor desejado..: 36\n",
            "Informe o valor desejado..: 74\n",
            "Informe o valor desejado..: 5\n",
            "Informe o valor desejado..: 12\n",
            "Informe o valor desejado..: 18\n",
            "Maior valor..:  74 \tMenor valor..:  5\n"
          ]
        }
      ]
    },
    {
      "cell_type": "code",
      "source": [
        "contador = 0\n",
        "\n",
        "for contador in range (10):\n",
        "    numero = int(input(\"Informe o valor desejado..: \"))\n",
        "\n",
        "    if contador == 0:\n",
        "        numero_maior = numero\n",
        "        numero_menor = numero\n",
        "    if numero > numero_maior:\n",
        "        numero_maior = numero\n",
        "    if numero < numero_menor:\n",
        "            numero_menor = numero\n",
        "    contador = contador + 1\n",
        "\n",
        "print(\"Maior valor..: \", numero_maior, \"\\tMenor valor..: \", numero_menor)"
      ],
      "metadata": {
        "colab": {
          "base_uri": "https://localhost:8080/"
        },
        "id": "T-C4WU3pyLf0",
        "outputId": "4b1aa844-f58f-4fe1-c168-e7b242dc0aa7"
      },
      "execution_count": null,
      "outputs": [
        {
          "output_type": "stream",
          "name": "stdout",
          "text": [
            "Informe o valor desejado..: 65\n",
            "Informe o valor desejado..: 32\n",
            "Informe o valor desejado..: 41\n",
            "Informe o valor desejado..: 9\n",
            "Informe o valor desejado..: 6\n",
            "Informe o valor desejado..: 36\n",
            "Informe o valor desejado..: 74\n",
            "Informe o valor desejado..: 5\n",
            "Informe o valor desejado..: 12\n",
            "Informe o valor desejado..: 18\n",
            "Maior valor..:  74 \tMenor valor..:  5\n"
          ]
        }
      ]
    },
    {
      "cell_type": "markdown",
      "source": [
        "###16. Os alunos do primeiro módulo farão a P1 da disciplina de Algoritmo. Crie um algoritmo que leia as 40 notas e RAs, encontre e apresente a maior, a menor e os respectivos RAs desses alunos."
      ],
      "metadata": {
        "id": "7ykHS3fC6e1z"
      }
    },
    {
      "cell_type": "code",
      "source": [
        "contador = 0\n",
        "ra = 0\n",
        "\n",
        "while contador < 40:\n",
        "    nota = int(input(\"Digite a nota do aluno..: \"))\n",
        "    ra = input(\"Digite o RA do aluno..: \")\n",
        "\n",
        "    if contador == 0:\n",
        "        nota_maior = nota\n",
        "        nota_menor = nota\n",
        "    if nota > nota_maior:\n",
        "            nota_maior = nota\n",
        "            ra_maior = ra\n",
        "    if nota < nota_menor:\n",
        "            nota_menor = nota\n",
        "            ra_menor = ra\n",
        "    contador = contador + 1\n",
        "\n",
        "print(\"A maior nota será..:\", nota_maior, \"- RAs..:\", ra_maior)\n",
        "print(\"A menor nota será..:\", nota_menor, \"- RAs..:\", ra_menor)"
      ],
      "metadata": {
        "id": "yU4vMIRs7BPK",
        "colab": {
          "base_uri": "https://localhost:8080/"
        },
        "outputId": "b0d8ac8a-e4ac-4a37-83b3-f815484ad4e4"
      },
      "execution_count": null,
      "outputs": [
        {
          "output_type": "stream",
          "name": "stdout",
          "text": [
            "Digite a nota do aluno..: 2\n",
            "Digite o RA do aluno..: 346\n",
            "Digite a nota do aluno..: 5\n",
            "Digite o RA do aluno..: 212\n",
            "Digite a nota do aluno..: 10\n",
            "Digite o RA do aluno..: 251\n",
            "Digite a nota do aluno..: 3\n",
            "Digite o RA do aluno..: 494\n",
            "Digite a nota do aluno..: 10\n",
            "Digite o RA do aluno..: 428\n",
            "Digite a nota do aluno..: 5\n",
            "Digite o RA do aluno..: 422\n",
            "Digite a nota do aluno..: 9\n",
            "Digite o RA do aluno..: 141\n",
            "Digite a nota do aluno..: 9\n",
            "Digite o RA do aluno..: 284\n",
            "Digite a nota do aluno..: 10\n",
            "Digite o RA do aluno..: 147\n",
            "Digite a nota do aluno..: 4\n",
            "Digite o RA do aluno..: 285\n",
            "Digite a nota do aluno..: 3\n",
            "Digite o RA do aluno..: 190\n",
            "Digite a nota do aluno..: 4\n",
            "Digite o RA do aluno..: 133\n",
            "Digite a nota do aluno..: 5\n",
            "Digite o RA do aluno..: 456\n",
            "Digite a nota do aluno..: 9\n",
            "Digite o RA do aluno..: 136\n",
            "Digite a nota do aluno..: 9\n",
            "Digite o RA do aluno..: 327\n",
            "Digite a nota do aluno..: 7\n",
            "Digite o RA do aluno..: 481\n",
            "Digite a nota do aluno..: 10\n",
            "Digite o RA do aluno..: 269\n",
            "Digite a nota do aluno..: 4\n",
            "Digite o RA do aluno..: 441\n",
            "Digite a nota do aluno..: 3\n",
            "Digite o RA do aluno..: 282\n",
            "Digite a nota do aluno..: 5\n",
            "Digite o RA do aluno..: 499\n",
            "Digite a nota do aluno..: 10\n",
            "Digite o RA do aluno..: 409\n",
            "Digite a nota do aluno..: 5\n",
            "Digite o RA do aluno..: 437\n",
            "Digite a nota do aluno..: 4\n",
            "Digite o RA do aluno..: 246\n",
            "Digite a nota do aluno..: 9\n",
            "Digite o RA do aluno..: 445\n",
            "Digite a nota do aluno..: 4\n",
            "Digite o RA do aluno..: 222\n",
            "Digite a nota do aluno..: 3\n",
            "Digite o RA do aluno..: 419\n",
            "Digite a nota do aluno..: 6\n",
            "Digite o RA do aluno..: 453\n",
            "Digite a nota do aluno..: 3\n",
            "Digite o RA do aluno..: 343\n",
            "Digite a nota do aluno..: 2\n",
            "Digite o RA do aluno..: 336\n",
            "Digite a nota do aluno..: 2\n",
            "Digite o RA do aluno..: 191\n",
            "Digite a nota do aluno..: 3\n",
            "Digite o RA do aluno..: 446\n",
            "Digite a nota do aluno..: 10\n",
            "Digite o RA do aluno..: 349\n",
            "Digite a nota do aluno..: 1\n",
            "Digite o RA do aluno..: 466\n",
            "Digite a nota do aluno..: 2\n",
            "Digite o RA do aluno..: 340\n",
            "Digite a nota do aluno..: 9\n",
            "Digite o RA do aluno..: 101\n",
            "Digite a nota do aluno..: 5\n",
            "Digite o RA do aluno..: 240\n",
            "Digite a nota do aluno..: 9\n",
            "Digite o RA do aluno..: 226\n",
            "Digite a nota do aluno..: 2\n",
            "Digite o RA do aluno..: 498\n",
            "Digite a nota do aluno..: 3\n",
            "Digite o RA do aluno..: 458\n",
            "Digite a nota do aluno..: 2\n",
            "Digite o RA do aluno..: 275\n",
            "A maior nota será..: 10 - RAs..: 251\n",
            "A menor nota será..: 1 - RAs..: 466\n"
          ]
        }
      ]
    },
    {
      "cell_type": "code",
      "source": [
        "contador = 0\n",
        "ra = 0\n",
        "\n",
        "for contador in range (40):\n",
        "    nota = int(input(\"Digite a nota do aluno..: \"))\n",
        "    ra = input(\"Digite o RA do aluno..: \")\n",
        "\n",
        "    if contador == 0:\n",
        "        nota_maior = nota\n",
        "        nota_menor = nota\n",
        "    if nota > nota_maior:\n",
        "            nota_maior = nota\n",
        "            ra_maior = ra\n",
        "    if nota < nota_menor:\n",
        "            nota_menor = nota\n",
        "            ra_menor = ra\n",
        "    contador = contador + 1\n",
        "\n",
        "print(\"A maior nota será..:\", nota_maior, \"- RAs..:\", ra_maior)\n",
        "print(\"A menor nota será..:\", nota_menor, \"- RAs..:\", ra_menor)"
      ],
      "metadata": {
        "colab": {
          "base_uri": "https://localhost:8080/"
        },
        "id": "IQB1okdDN5gb",
        "outputId": "26d1b009-3198-4cda-b3cc-08438703adc2"
      },
      "execution_count": null,
      "outputs": [
        {
          "output_type": "stream",
          "name": "stdout",
          "text": [
            "Digite a nota do aluno..: 2\n",
            "Digite o RA do aluno..: 346\n",
            "Digite a nota do aluno..: 5\n",
            "Digite o RA do aluno..: 212\n",
            "Digite a nota do aluno..: 10\n",
            "Digite o RA do aluno..: 251\n",
            "Digite a nota do aluno..: 3\n",
            "Digite o RA do aluno..: 494\n",
            "Digite a nota do aluno..: 10\n",
            "Digite o RA do aluno..: 428\n",
            "Digite a nota do aluno..: 5\n",
            "Digite o RA do aluno..: 422\n",
            "Digite a nota do aluno..: 9\n",
            "Digite o RA do aluno..: 141\n",
            "Digite a nota do aluno..: 9\n",
            "Digite o RA do aluno..: 284\n",
            "Digite a nota do aluno..: 10\n",
            "Digite o RA do aluno..: 147\n",
            "Digite a nota do aluno..: 4\n",
            "Digite o RA do aluno..: 285\n",
            "Digite a nota do aluno..: 3\n",
            "Digite o RA do aluno..: 190\n",
            "Digite a nota do aluno..: 4\n",
            "Digite o RA do aluno..: 133\n",
            "Digite a nota do aluno..: 5\n",
            "Digite o RA do aluno..: 456\n",
            "Digite a nota do aluno..: 9\n",
            "Digite o RA do aluno..: 136\n",
            "Digite a nota do aluno..: 9\n",
            "Digite o RA do aluno..: 327\n",
            "Digite a nota do aluno..: 7\n",
            "Digite o RA do aluno..: 481\n",
            "Digite a nota do aluno..: 10\n",
            "Digite o RA do aluno..: 269\n",
            "Digite a nota do aluno..: 4\n",
            "Digite o RA do aluno..: 441\n",
            "Digite a nota do aluno..: 3\n",
            "Digite o RA do aluno..: 282\n",
            "Digite a nota do aluno..: 5\n",
            "Digite o RA do aluno..: 499\n",
            "Digite a nota do aluno..: 10\n",
            "Digite o RA do aluno..: 409\n",
            "Digite a nota do aluno..: 5\n",
            "Digite o RA do aluno..: 437\n",
            "Digite a nota do aluno..: 4\n",
            "Digite o RA do aluno..: 246\n",
            "Digite a nota do aluno..: 9\n",
            "Digite o RA do aluno..: 445\n",
            "Digite a nota do aluno..: 4\n",
            "Digite o RA do aluno..: 222\n",
            "Digite a nota do aluno..: 3\n",
            "Digite o RA do aluno..: 419\n",
            "Digite a nota do aluno..: 6\n",
            "Digite o RA do aluno..: 453\n",
            "Digite a nota do aluno..: 3\n",
            "Digite o RA do aluno..: 343\n",
            "Digite a nota do aluno..: 2\n",
            "Digite o RA do aluno..: 336\n",
            "Digite a nota do aluno..: 2\n",
            "Digite o RA do aluno..: 191\n",
            "Digite a nota do aluno..: 3\n",
            "Digite o RA do aluno..: 446\n",
            "Digite a nota do aluno..: 10\n",
            "Digite o RA do aluno..: 349\n",
            "Digite a nota do aluno..: 1\n",
            "Digite o RA do aluno..: 466\n",
            "Digite a nota do aluno..: 2\n",
            "Digite o RA do aluno..: 340\n",
            "Digite a nota do aluno..: 9\n",
            "Digite o RA do aluno..: 101\n",
            "Digite a nota do aluno..: 5\n",
            "Digite o RA do aluno..: 240\n",
            "Digite a nota do aluno..: 9\n",
            "Digite o RA do aluno..: 226\n",
            "Digite a nota do aluno..: 2\n",
            "Digite o RA do aluno..: 498\n",
            "Digite a nota do aluno..: 3\n",
            "Digite o RA do aluno..: 458\n",
            "Digite a nota do aluno..: 2\n",
            "Digite o RA do aluno..: 275\n",
            "A maior nota será..: 10 - RAs..: 251\n",
            "A menor nota será..: 1 - RAs..: 466\n"
          ]
        }
      ]
    },
    {
      "cell_type": "markdown",
      "source": [
        "###17. Faça um programa que calcule e apresente as tabuadas do 3 ao 7. Este exercício utiliza DUAS estruturas de repetição."
      ],
      "metadata": {
        "id": "wJ0MVHDlQrNb"
      }
    },
    {
      "cell_type": "code",
      "source": [
        "tabuada = 3\n",
        "while tabuada <= 7:\n",
        "    contador = 1\n",
        "    while contador <= 10:\n",
        "        print(tabuada,'x',contador,'=',tabuada * contador)\n",
        "        contador = contador + 1\n",
        "    print()#pula uma linha vazia\n",
        "    tabuada = tabuada + 1"
      ],
      "metadata": {
        "colab": {
          "base_uri": "https://localhost:8080/"
        },
        "id": "psCIaRXKe1ZY",
        "outputId": "5b0c651a-d724-4735-dcce-66943b93cbe1"
      },
      "execution_count": null,
      "outputs": [
        {
          "output_type": "stream",
          "name": "stdout",
          "text": [
            "3 x 1 = 3\n",
            "3 x 2 = 6\n",
            "3 x 3 = 9\n",
            "3 x 4 = 12\n",
            "3 x 5 = 15\n",
            "3 x 6 = 18\n",
            "3 x 7 = 21\n",
            "3 x 8 = 24\n",
            "3 x 9 = 27\n",
            "3 x 10 = 30\n",
            "\n",
            "4 x 1 = 4\n",
            "4 x 2 = 8\n",
            "4 x 3 = 12\n",
            "4 x 4 = 16\n",
            "4 x 5 = 20\n",
            "4 x 6 = 24\n",
            "4 x 7 = 28\n",
            "4 x 8 = 32\n",
            "4 x 9 = 36\n",
            "4 x 10 = 40\n",
            "\n",
            "5 x 1 = 5\n",
            "5 x 2 = 10\n",
            "5 x 3 = 15\n",
            "5 x 4 = 20\n",
            "5 x 5 = 25\n",
            "5 x 6 = 30\n",
            "5 x 7 = 35\n",
            "5 x 8 = 40\n",
            "5 x 9 = 45\n",
            "5 x 10 = 50\n",
            "\n",
            "6 x 1 = 6\n",
            "6 x 2 = 12\n",
            "6 x 3 = 18\n",
            "6 x 4 = 24\n",
            "6 x 5 = 30\n",
            "6 x 6 = 36\n",
            "6 x 7 = 42\n",
            "6 x 8 = 48\n",
            "6 x 9 = 54\n",
            "6 x 10 = 60\n",
            "\n",
            "7 x 1 = 7\n",
            "7 x 2 = 14\n",
            "7 x 3 = 21\n",
            "7 x 4 = 28\n",
            "7 x 5 = 35\n",
            "7 x 6 = 42\n",
            "7 x 7 = 49\n",
            "7 x 8 = 56\n",
            "7 x 9 = 63\n",
            "7 x 10 = 70\n",
            "\n"
          ]
        }
      ]
    },
    {
      "cell_type": "code",
      "source": [
        "for tabuada in range(3,8):\n",
        "    for contador in range(1,11):\n",
        "        print(tabuada, \"x\", contador, \"=\", tabuada * contador)\n",
        "    print() #pula uma linha vazia"
      ],
      "metadata": {
        "id": "0ZBwoW881MU7",
        "colab": {
          "base_uri": "https://localhost:8080/"
        },
        "outputId": "8cf86fdc-e449-461b-da18-fef3b1d01f60"
      },
      "execution_count": null,
      "outputs": [
        {
          "output_type": "stream",
          "name": "stdout",
          "text": [
            "3 x 1 = 3\n",
            "3 x 2 = 6\n",
            "3 x 3 = 9\n",
            "3 x 4 = 12\n",
            "3 x 5 = 15\n",
            "3 x 6 = 18\n",
            "3 x 7 = 21\n",
            "3 x 8 = 24\n",
            "3 x 9 = 27\n",
            "3 x 10 = 30\n",
            "\n",
            "4 x 1 = 4\n",
            "4 x 2 = 8\n",
            "4 x 3 = 12\n",
            "4 x 4 = 16\n",
            "4 x 5 = 20\n",
            "4 x 6 = 24\n",
            "4 x 7 = 28\n",
            "4 x 8 = 32\n",
            "4 x 9 = 36\n",
            "4 x 10 = 40\n",
            "\n",
            "5 x 1 = 5\n",
            "5 x 2 = 10\n",
            "5 x 3 = 15\n",
            "5 x 4 = 20\n",
            "5 x 5 = 25\n",
            "5 x 6 = 30\n",
            "5 x 7 = 35\n",
            "5 x 8 = 40\n",
            "5 x 9 = 45\n",
            "5 x 10 = 50\n",
            "\n",
            "6 x 1 = 6\n",
            "6 x 2 = 12\n",
            "6 x 3 = 18\n",
            "6 x 4 = 24\n",
            "6 x 5 = 30\n",
            "6 x 6 = 36\n",
            "6 x 7 = 42\n",
            "6 x 8 = 48\n",
            "6 x 9 = 54\n",
            "6 x 10 = 60\n",
            "\n",
            "7 x 1 = 7\n",
            "7 x 2 = 14\n",
            "7 x 3 = 21\n",
            "7 x 4 = 28\n",
            "7 x 5 = 35\n",
            "7 x 6 = 42\n",
            "7 x 7 = 49\n",
            "7 x 8 = 56\n",
            "7 x 9 = 63\n",
            "7 x 10 = 70\n",
            "\n"
          ]
        }
      ]
    },
    {
      "cell_type": "markdown",
      "source": [
        "###18. Faça um programa para o curso de ADS (6 módulos), cada sala tem 30 alunos, calcule e apresente os seguintes itens:\n",
        "*  Quantidade de homens e mulheres de cada módulo;\n",
        "*  Média de idades de cada módulo;\n",
        "*  Quantidade de homens e mulheres do curso todo;\n",
        "*  Média de idades do curso todo.\n",
        "\n",
        "Observação: este exercício utiliza DUAS estruturas de repetição."
      ],
      "metadata": {
        "id": "wu3gKhw_P-t2"
      }
    },
    {
      "cell_type": "code",
      "source": [
        "for modulo in range(1,7):\n",
        "    print(modulo,'º módulo','.'*50)\n",
        "    # contar genero feminino = 0\n",
        "    for alunos in range(1,3):\n",
        "        # digitar os dados dos alunos\n",
        "        genero = input('Cadastre o gênero M/F: ')\n",
        "        if genero == 'F' or genero == 'f':\n",
        "            # contar genero feminino\n",
        "        #...\n",
        "    # mostrar resultados de cada módulo\n",
        "    # acumular valores para o curso\n",
        "# mostrar resultados do curso"
      ],
      "metadata": {
        "id": "lBhG5qbYQJaS",
        "colab": {
          "base_uri": "https://localhost:8080/"
        },
        "outputId": "297654cc-2bed-4f7b-b351-7c4d471b0af1"
      },
      "execution_count": null,
      "outputs": [
        {
          "output_type": "stream",
          "name": "stdout",
          "text": [
            "1 º módulo ..................................................\n",
            "\n",
            "\n",
            "\n",
            "2 º módulo ..................................................\n",
            "\n",
            "\n",
            "\n",
            "3 º módulo ..................................................\n",
            "\n",
            "\n",
            "\n",
            "4 º módulo ..................................................\n",
            "\n",
            "\n",
            "\n",
            "5 º módulo ..................................................\n",
            "\n",
            "\n",
            "\n",
            "6 º módulo ..................................................\n",
            "\n",
            "\n",
            "\n"
          ]
        }
      ]
    },
    {
      "cell_type": "code",
      "source": [
        "qmulheres_curso = 0\n",
        "qhomens_curso = 0\n",
        "idade_curso = 0\n",
        "\n",
        "for modulo in range(1,7):\n",
        "    print(modulo,\"º módulo\",\".\"*50)\n",
        "\n",
        "    qmulheres_modulo = 0\n",
        "    qhomens_modulo = 0\n",
        "    idade_modulo = 0\n",
        "\n",
        "    for alunos in range(30):\n",
        "        idade = int(input(\"Digite a idade..: \"))\n",
        "        genero = input(\"Digite o gênero M ou F..: \")\n",
        "\n",
        "        if genero == \"F\" or genero == \"f\":\n",
        "            qmulheres_curso += 1\n",
        "            qmulheres_modulo += 1\n",
        "            idade_curso += idade\n",
        "            idade_modulo += idade\n",
        "        elif genero == \"M\" or genero == \"m\":\n",
        "            qhomens_curso += 1\n",
        "            qhomens_modulo += 1\n",
        "            idade_curso += idade\n",
        "            idade_modulo += idade\n",
        "\n",
        "    print(f\"Quantidade de mulheres por módulo..: {qmulheres_modulo:.2f}. Quantidade de homens por módulo..: {qhomens_modulo:.2f}. Media de idade do módulo..: {idade_modulo / 30}\")\n",
        "print(f\"Quantidade de mulheres por curso..: {qmulheres_curso:.2f}. Quantidade de homens por curso..: {qhomens_curso:.2f}. Media de idade do curso..: {idade_curso / (qmulheres_curso + qhomens_curso)}\")"
      ],
      "metadata": {
        "colab": {
          "base_uri": "https://localhost:8080/"
        },
        "id": "ahrEs1YuQmOO",
        "outputId": "e601e05b-30a4-4774-900d-df8cf832e652"
      },
      "execution_count": null,
      "outputs": [
        {
          "output_type": "stream",
          "name": "stdout",
          "text": [
            "1 º módulo ..................................................\n",
            "Digite a idade..: 18\n",
            "Digite o gênero M ou F..: F\n",
            "Digite a idade..: 18\n",
            "Digite o gênero M ou F..: M\n",
            "Digite a idade..: 18\n",
            "Digite o gênero M ou F..: M\n",
            "Digite a idade..: 19\n",
            "Digite o gênero M ou F..: M\n",
            "Digite a idade..: 19\n",
            "Digite o gênero M ou F..: M\n",
            "Digite a idade..: 19\n",
            "Digite o gênero M ou F..: M\n",
            "Digite a idade..: 19\n",
            "Digite o gênero M ou F..: M\n",
            "Digite a idade..: 19\n",
            "Digite o gênero M ou F..: F\n",
            "Digite a idade..: 20\n",
            "Digite o gênero M ou F..: F\n",
            "Digite a idade..: 20\n",
            "Digite o gênero M ou F..: F\n",
            "Digite a idade..: 21\n",
            "Digite o gênero M ou F..: F\n",
            "Digite a idade..: 21\n",
            "Digite o gênero M ou F..: M\n",
            "Digite a idade..: 21\n",
            "Digite o gênero M ou F..: M\n",
            "Digite a idade..: 22\n",
            "Digite o gênero M ou F..: M\n",
            "Digite a idade..: 22\n",
            "Digite o gênero M ou F..: M\n",
            "Digite a idade..: 22\n",
            "Digite o gênero M ou F..: M\n",
            "Digite a idade..: 22\n",
            "Digite o gênero M ou F..: M\n",
            "Digite a idade..: 23\n",
            "Digite o gênero M ou F..: F\n",
            "Digite a idade..: 23\n",
            "Digite o gênero M ou F..: F\n",
            "Digite a idade..: 24\n",
            "Digite o gênero M ou F..: F\n",
            "Digite a idade..: 24\n",
            "Digite o gênero M ou F..: M\n",
            "Digite a idade..: 25\n",
            "Digite o gênero M ou F..: M\n",
            "Digite a idade..: 25\n",
            "Digite o gênero M ou F..: M\n",
            "Digite a idade..: 25\n",
            "Digite o gênero M ou F..: F\n",
            "Digite a idade..: 26\n",
            "Digite o gênero M ou F..: M\n",
            "Digite a idade..: 26\n",
            "Digite o gênero M ou F..: M\n",
            "Digite a idade..: 26\n",
            "Digite o gênero M ou F..: F\n",
            "Digite a idade..: 29\n",
            "Digite o gênero M ou F..: F\n",
            "Digite a idade..: 29\n",
            "Digite o gênero M ou F..: M\n",
            "Digite a idade..: 29\n",
            "Digite o gênero M ou F..: M\n",
            "Quantidade de mulheres por módulo..: 11.00. Quantidade de homens por módulo..: 19.00. Media de idade do módulo..: 22.466666666666665\n",
            "2 º módulo ..................................................\n",
            "Digite a idade..: 30\n",
            "Digite o gênero M ou F..: F\n",
            "Digite a idade..: 19\n",
            "Digite o gênero M ou F..: F\n",
            "Digite a idade..: 19\n",
            "Digite o gênero M ou F..: F\n",
            "Digite a idade..: 19\n",
            "Digite o gênero M ou F..: F\n",
            "Digite a idade..: 20\n",
            "Digite o gênero M ou F..: M\n",
            "Digite a idade..: 20\n",
            "Digite o gênero M ou F..: M\n",
            "Digite a idade..: 20\n",
            "Digite o gênero M ou F..: F\n",
            "Digite a idade..: 22\n",
            "Digite o gênero M ou F..: F\n",
            "Digite a idade..: 22\n",
            "Digite o gênero M ou F..: F\n",
            "Digite a idade..: 22\n",
            "Digite o gênero M ou F..: M\n",
            "Digite a idade..: 25\n",
            "Digite o gênero M ou F..: M\n",
            "Digite a idade..: 25\n",
            "Digite o gênero M ou F..: M\n",
            "Digite a idade..: 25\n",
            "Digite o gênero M ou F..: F\n",
            "Digite a idade..: 27\n",
            "Digite o gênero M ou F..: M\n",
            "Digite a idade..: 27\n",
            "Digite o gênero M ou F..: F\n",
            "Digite a idade..: 27\n",
            "Digite o gênero M ou F..: F\n",
            "Digite a idade..: 28\n",
            "Digite o gênero M ou F..: M\n",
            "Digite a idade..: 28\n",
            "Digite o gênero M ou F..: M\n",
            "Digite a idade..: 30\n",
            "Digite o gênero M ou F..: M\n",
            "Digite a idade..: 30\n",
            "Digite o gênero M ou F..: M\n",
            "Digite a idade..: 30\n",
            "Digite o gênero M ou F..: F\n",
            "Digite a idade..: 21\n",
            "Digite o gênero M ou F..: F\n",
            "Digite a idade..: 21\n",
            "Digite o gênero M ou F..: F\n",
            "Digite a idade..: 21\n",
            "Digite o gênero M ou F..: M\n",
            "Digite a idade..: 23\n",
            "Digite o gênero M ou F..: M\n",
            "Digite a idade..: 23\n",
            "Digite o gênero M ou F..: F\n",
            "Digite a idade..: 23\n",
            "Digite o gênero M ou F..: M\n",
            "Digite a idade..: 23\n",
            "Digite o gênero M ou F..: F\n",
            "Digite a idade..: 24\n",
            "Digite o gênero M ou F..: M\n",
            "Digite a idade..: 24\n",
            "Digite o gênero M ou F..: F\n",
            "Quantidade de mulheres por módulo..: 16.00. Quantidade de homens por módulo..: 14.00. Media de idade do módulo..: 23.933333333333334\n",
            "3 º módulo ..................................................\n",
            "Digite a idade..: 20\n",
            "Digite o gênero M ou F..: F\n",
            "Digite a idade..: 20\n",
            "Digite o gênero M ou F..: F\n",
            "Digite a idade..: 20\n",
            "Digite o gênero M ou F..: M\n",
            "Digite a idade..: 20\n",
            "Digite o gênero M ou F..: M\n",
            "Digite a idade..: 21\n",
            "Digite o gênero M ou F..: M\n",
            "Digite a idade..: 21\n",
            "Digite o gênero M ou F..: F\n",
            "Digite a idade..: 21\n",
            "Digite o gênero M ou F..: F\n",
            "Digite a idade..: 22\n",
            "Digite o gênero M ou F..: F\n",
            "Digite a idade..: 22\n",
            "Digite o gênero M ou F..: F\n",
            "Digite a idade..: 22\n",
            "Digite o gênero M ou F..: F\n",
            "Digite a idade..: 22\n",
            "Digite o gênero M ou F..: M\n",
            "Digite a idade..: 23\n",
            "Digite o gênero M ou F..: F\n",
            "Digite a idade..: 23\n",
            "Digite o gênero M ou F..: M\n",
            "Digite a idade..: 23\n",
            "Digite o gênero M ou F..: M\n",
            "Digite a idade..: 23\n",
            "Digite o gênero M ou F..: M\n",
            "Digite a idade..: 26\n",
            "Digite o gênero M ou F..: M\n",
            "Digite a idade..: 26\n",
            "Digite o gênero M ou F..: M\n",
            "Digite a idade..: 26\n",
            "Digite o gênero M ou F..: F\n",
            "Digite a idade..: 26\n",
            "Digite o gênero M ou F..: F\n",
            "Digite a idade..: 28\n",
            "Digite o gênero M ou F..: F\n",
            "Digite a idade..: 28\n",
            "Digite o gênero M ou F..: F\n",
            "Digite a idade..: 28\n",
            "Digite o gênero M ou F..: F\n",
            "Digite a idade..: 28\n",
            "Digite o gênero M ou F..: M\n",
            "Digite a idade..: 30\n",
            "Digite o gênero M ou F..: F\n",
            "Digite a idade..: 30\n",
            "Digite o gênero M ou F..: M\n",
            "Digite a idade..: 30\n",
            "Digite o gênero M ou F..: M\n",
            "Digite a idade..: 31\n",
            "Digite o gênero M ou F..: M\n",
            "Digite a idade..: 31\n",
            "Digite o gênero M ou F..: M\n",
            "Digite a idade..: 31\n",
            "Digite o gênero M ou F..: F\n",
            "Digite a idade..: 32\n",
            "Digite o gênero M ou F..: F\n",
            "Quantidade de mulheres por módulo..: 16.00. Quantidade de homens por módulo..: 14.00. Media de idade do módulo..: 25.133333333333333\n",
            "4 º módulo ..................................................\n",
            "Digite a idade..: 21\n",
            "Digite o gênero M ou F..: F\n",
            "Digite a idade..: 21\n",
            "Digite o gênero M ou F..: F\n",
            "Digite a idade..: 21\n",
            "Digite o gênero M ou F..: M\n",
            "Digite a idade..: 21\n",
            "Digite o gênero M ou F..: M\n",
            "Digite a idade..: 21\n",
            "Digite o gênero M ou F..: M\n",
            "Digite a idade..: 21\n",
            "Digite o gênero M ou F..: M\n",
            "Digite a idade..: 23\n",
            "Digite o gênero M ou F..: F\n",
            "Digite a idade..: 23\n",
            "Digite o gênero M ou F..: F\n",
            "Digite a idade..: 23\n",
            "Digite o gênero M ou F..: M\n",
            "Digite a idade..: 23\n",
            "Digite o gênero M ou F..: M\n",
            "Digite a idade..: 22\n",
            "Digite o gênero M ou F..: M\n",
            "Digite a idade..: 22\n",
            "Digite o gênero M ou F..: M\n",
            "Digite a idade..: 22\n",
            "Digite o gênero M ou F..: M\n",
            "Digite a idade..: 22\n",
            "Digite o gênero M ou F..: F\n",
            "Digite a idade..: 26\n",
            "Digite o gênero M ou F..: F\n",
            "Digite a idade..: 26\n",
            "Digite o gênero M ou F..: M\n",
            "Digite a idade..: 26\n",
            "Digite o gênero M ou F..: M\n",
            "Digite a idade..: 26\n",
            "Digite o gênero M ou F..: M\n",
            "Digite a idade..: 26\n",
            "Digite o gênero M ou F..: M\n",
            "Digite a idade..: 28\n",
            "Digite o gênero M ou F..: F\n",
            "Digite a idade..: 28\n",
            "Digite o gênero M ou F..: M\n",
            "Digite a idade..: 29\n",
            "Digite o gênero M ou F..: F\n",
            "Digite a idade..: 29\n",
            "Digite o gênero M ou F..: M\n",
            "Digite a idade..: 31\n",
            "Digite o gênero M ou F..: F\n",
            "Digite a idade..: 31\n",
            "Digite o gênero M ou F..: M\n",
            "Digite a idade..: 31\n",
            "Digite o gênero M ou F..: M\n",
            "Digite a idade..: 33\n",
            "Digite o gênero M ou F..: M\n",
            "Digite a idade..: 33\n",
            "Digite o gênero M ou F..: M\n",
            "Digite a idade..: 33\n",
            "Digite o gênero M ou F..: M\n",
            "Digite a idade..: 35\n",
            "Digite o gênero M ou F..: F\n",
            "Quantidade de mulheres por módulo..: 10.00. Quantidade de homens por módulo..: 20.00. Media de idade do módulo..: 25.9\n",
            "5 º módulo ..................................................\n",
            "Digite a idade..: 22\n",
            "Digite o gênero M ou F..: F\n",
            "Digite a idade..: 22\n",
            "Digite o gênero M ou F..: F\n",
            "Digite a idade..: 22\n",
            "Digite o gênero M ou F..: F\n",
            "Digite a idade..: 22\n",
            "Digite o gênero M ou F..: M\n",
            "Digite a idade..: 22\n",
            "Digite o gênero M ou F..: M\n",
            "Digite a idade..: 24\n",
            "Digite o gênero M ou F..: M\n",
            "Digite a idade..: 24\n",
            "Digite o gênero M ou F..: F\n",
            "Digite a idade..: 24\n",
            "Digite o gênero M ou F..: F\n",
            "Digite a idade..: 24\n",
            "Digite o gênero M ou F..: F\n",
            "Digite a idade..: 25\n",
            "Digite o gênero M ou F..: M\n",
            "Digite a idade..: 25\n",
            "Digite o gênero M ou F..: M\n",
            "Digite a idade..: 25\n",
            "Digite o gênero M ou F..: M\n",
            "Digite a idade..: 26\n",
            "Digite o gênero M ou F..: F\n",
            "Digite a idade..: 27\n",
            "Digite o gênero M ou F..: F\n",
            "Digite a idade..: 27\n",
            "Digite o gênero M ou F..: F\n",
            "Digite a idade..: 27\n",
            "Digite o gênero M ou F..: M\n",
            "Digite a idade..: 28\n",
            "Digite o gênero M ou F..: M\n",
            "Digite a idade..: 28\n",
            "Digite o gênero M ou F..: F\n",
            "Digite a idade..: 29\n",
            "Digite o gênero M ou F..: F\n",
            "Digite a idade..: 29\n",
            "Digite o gênero M ou F..: F\n",
            "Digite a idade..: 31\n",
            "Digite o gênero M ou F..: M\n",
            "Digite a idade..: 31\n",
            "Digite o gênero M ou F..: F\n",
            "Digite a idade..: 32\n",
            "Digite o gênero M ou F..: F\n",
            "Digite a idade..: 32\n",
            "Digite o gênero M ou F..: M\n",
            "Digite a idade..: 34\n",
            "Digite o gênero M ou F..: M\n",
            "Digite a idade..: 34\n",
            "Digite o gênero M ou F..: F\n",
            "Digite a idade..: 34\n",
            "Digite o gênero M ou F..: M\n",
            "Digite a idade..: 35\n",
            "Digite o gênero M ou F..: F\n",
            "Digite a idade..: 36\n",
            "Digite o gênero M ou F..: M\n",
            "Digite a idade..: 36\n",
            "Digite o gênero M ou F..: M\n",
            "Quantidade de mulheres por módulo..: 16.00. Quantidade de homens por módulo..: 14.00. Media de idade do módulo..: 27.9\n",
            "6 º módulo ..................................................\n",
            "Digite a idade..: 23\n",
            "Digite o gênero M ou F..: F\n",
            "Digite a idade..: 23\n",
            "Digite o gênero M ou F..: F\n",
            "Digite a idade..: 23\n",
            "Digite o gênero M ou F..: F\n",
            "Digite a idade..: 24\n",
            "Digite o gênero M ou F..: M\n",
            "Digite a idade..: 25\n",
            "Digite o gênero M ou F..: M\n",
            "Digite a idade..: 25\n",
            "Digite o gênero M ou F..: M\n",
            "Digite a idade..: 25\n",
            "Digite o gênero M ou F..: M\n",
            "Digite a idade..: 25\n",
            "Digite o gênero M ou F..: F\n",
            "Digite a idade..: 26\n",
            "Digite o gênero M ou F..: F\n",
            "Digite a idade..: 26\n",
            "Digite o gênero M ou F..: M\n",
            "Digite a idade..: 26\n",
            "Digite o gênero M ou F..: M\n",
            "Digite a idade..: 27\n",
            "Digite o gênero M ou F..: M\n",
            "Digite a idade..: 27\n",
            "Digite o gênero M ou F..: F\n",
            "Digite a idade..: 27\n",
            "Digite o gênero M ou F..: M\n",
            "Digite a idade..: 27\n",
            "Digite o gênero M ou F..: F\n",
            "Digite a idade..: 29\n",
            "Digite o gênero M ou F..: F\n",
            "Digite a idade..: 29\n",
            "Digite o gênero M ou F..: M\n",
            "Digite a idade..: 32\n",
            "Digite o gênero M ou F..: F\n",
            "Digite a idade..: 32\n",
            "Digite o gênero M ou F..: M\n",
            "Digite a idade..: 32\n",
            "Digite o gênero M ou F..: M\n",
            "Digite a idade..: 32\n",
            "Digite o gênero M ou F..: M\n",
            "Digite a idade..: 32\n",
            "Digite o gênero M ou F..: F\n",
            "Digite a idade..: 33\n",
            "Digite o gênero M ou F..: F\n",
            "Digite a idade..: 33\n",
            "Digite o gênero M ou F..: M\n",
            "Digite a idade..: 33\n",
            "Digite o gênero M ou F..: M\n",
            "Digite a idade..: 34\n",
            "Digite o gênero M ou F..: M\n",
            "Digite a idade..: 34\n",
            "Digite o gênero M ou F..: M\n",
            "Digite a idade..: 34\n",
            "Digite o gênero M ou F..: F\n",
            "Digite a idade..: 35\n",
            "Digite o gênero M ou F..: F\n",
            "Digite a idade..: 35\n",
            "Digite o gênero M ou F..: M\n",
            "Quantidade de mulheres por módulo..: 13.00. Quantidade de homens por módulo..: 17.00. Media de idade do módulo..: 28.933333333333334\n",
            "Quantidade de mulheres por curso..: 82.00. Quantidade de homens por curso..: 98.00. Media de idade do curso..: 25.711111111111112\n"
          ]
        }
      ]
    }
  ]
}