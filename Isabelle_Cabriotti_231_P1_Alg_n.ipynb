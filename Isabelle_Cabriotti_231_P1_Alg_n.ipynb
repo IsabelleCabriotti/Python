{
  "nbformat": 4,
  "nbformat_minor": 0,
  "metadata": {
    "colab": {
      "provenance": [],
      "include_colab_link": true
    },
    "kernelspec": {
      "name": "python3",
      "display_name": "Python 3"
    }
  },
  "cells": [
    {
      "cell_type": "markdown",
      "metadata": {
        "id": "view-in-github",
        "colab_type": "text"
      },
      "source": [
        "<a href=\"https://colab.research.google.com/github/IsabelleCabriotti/Python/blob/main/Isabelle_Cabriotti_231_P1_Alg_n.ipynb\" target=\"_parent\"><img src=\"https://colab.research.google.com/assets/colab-badge.svg\" alt=\"Open In Colab\"/></a>"
      ]
    },
    {
      "cell_type": "markdown",
      "metadata": {
        "id": "kHK95nR3pf6N"
      },
      "source": [
        "##**P1 - 1º. semestre/2023 -  Término: 20:40**\n",
        "## É uma prova de consulta ao seu material (slides da disciplina de Algoritmo usadas na aula e lista de exercícios do Colab da aula) e vale 7 pontos.\n",
        "## **Apenas verificarei** o desenvolvimento dos exercícios de cada aluno, **EM OUTRO DIA**.\n",
        "\n",
        "##Caso entregue atrasado não será aceita a prova.\n",
        "##Depois de terminada a prova, você NÃO PODE MAIS ALTERAR O ARQUIVO DELA, essa ação fica registrada e assim a prova será anulada.\n",
        "##Na próxima aula será realizada a correção da prova.\n",
        "##**Não é permitido o acesso a qualquer outro site/aplicativo para o desenvolvimento da prova, ou seja, apenas poderão estar abertas e visíveis as guias (no navegador de internet) do Classroom e Colab**\n",
        "______________________________________________________\n",
        "\n",
        "\n",
        "\n"
      ]
    },
    {
      "cell_type": "markdown",
      "source": [
        "##**1.** [1,5 pontos - Entrada, processamento e saída] Desenvolva um programa, utilizando a linguagem Python, que leia um valor float (x), calcule e apresente o valor de w seguindo a fórmula:\n",
        "##w = 3x<sup>3</sup> - 2x<sup>2</sup> + 3x - 1"
      ],
      "metadata": {
        "id": "LHXY2C1P_x8J"
      }
    },
    {
      "cell_type": "code",
      "metadata": {
        "id": "uLE2w6-aMadI",
        "colab": {
          "base_uri": "https://localhost:8080/"
        },
        "outputId": "6d02a1f6-12f1-4f0e-8adc-f5d612309518"
      },
      "source": [
        "numero = float(input(\"Digite um numero..: \"))\n",
        "\n",
        "mult = numero * 3\n",
        "cubo = mult ** 3\n",
        "mult_2 = numero * 2\n",
        "quadrado = mult_2 ** 2\n",
        "mult_3 = numero * 3 - 1\n",
        "\n",
        "resultado = cubo - quadrado + mult_3\n",
        "\n",
        "print(\"O valor de W será..:\",resultado)"
      ],
      "execution_count": null,
      "outputs": [
        {
          "output_type": "stream",
          "name": "stdout",
          "text": [
            "Digite um numero..: 1\n",
            "O valor de W será..: 25.0\n"
          ]
        }
      ]
    },
    {
      "cell_type": "markdown",
      "source": [
        "##**2.** [2,5 pontos - Estrutura de decisão] Crie um programa, utilizando a linguagem Python, que receba três valores (obrigatoriamente maiores que zero), representando as medidas dos três lados de um triângulo. Determine se esses lados formam um triângulo e apresente a frase 'É um triângulo' ou 'Não é um triângulo'.\n",
        "##Sabe-se que, para ser triângulo, a medida de um lado qualquer deve ser inferior ou igual à soma das medidas dos outros dois lados."
      ],
      "metadata": {
        "id": "xO7y_frdvxdi"
      }
    },
    {
      "cell_type": "code",
      "metadata": {
        "id": "dLfbF5UpXgsB",
        "colab": {
          "base_uri": "https://localhost:8080/"
        },
        "outputId": "7d2d2f7c-c082-4f4d-b9c0-67aeca747325"
      },
      "source": [
        "lado_1 = int(input(\"Digite o 1° lado..: \"))\n",
        "lado_2 = int(input(\"Digite o 2° lado..: \"))\n",
        "lado_3 = int(input(\"Digite o 3° lado..: \"))\n",
        "\n",
        "soma = lado_1 + lado_2\n",
        "if lado_3 <= soma:\n",
        "\n",
        "    print(\"É um triangulo\")\n",
        "else:\n",
        "    print(\"Não é um triangulo\")"
      ],
      "execution_count": null,
      "outputs": [
        {
          "output_type": "stream",
          "name": "stdout",
          "text": [
            "Digite o 1° lado..: 5\n",
            "Digite o 2° lado..: 4\n",
            "Digite o 3° lado..: 6\n",
            "É um triangulo\n"
          ]
        }
      ]
    },
    {
      "cell_type": "markdown",
      "source": [
        "##**3.**  [3,0 pontos - Estrutura de repetição] O IPVA (Imposto sobre a Propriedade de Veículos Automotores), é um imposto que não possui valor único para todos os automóveis. O preço a ser pago varia de acordo com o valor venal do veículo e a alíquota do Estado onde ele foi registrado.\n",
        "\n",
        "##A alíquota é uma porcentagem estipulada por cada Estado, que também pode variar de acordo com o tipo de combustível e categoria do veículo, veja a tabela das alíquotas médias de alguns estados, como exemplo:\n",
        "\n",
        "Estados\t |Alíquota\n",
        "---------|---------\n",
        "São Paulo|\t4%\n",
        "Paraná\t |3,5%\n",
        "Alagoas  |3%\n",
        "Bahia\t |2,5%\n",
        "Acre     |2%\n",
        "\n",
        "##O cálculo é feito multiplicando o valor venal do veículo, estipulado pela tabela tabela FIPE, pela porcentagem da alíquota, neste caso utilize apenas a porcentagem do estado de São Paulo para o cálculo.\n",
        "\n",
        "##Implemente uma programa, utilizando a linguagem Python, que receba o valor venal de 10 carros, calcule e apresente:\n",
        "* o IPVA de cada carro;\n",
        "* a média de IPVA de carros acima de R$ 80.000,00\n"
      ],
      "metadata": {
        "id": "WRubcJuUEwsw"
      }
    },
    {
      "cell_type": "code",
      "source": [
        "contador = 0\n",
        "ipva = 0\n",
        "carros = 0\n",
        "\n",
        "\n",
        "for carros in range (10):\n",
        "    valor = float(input(\"Digite o valor do veiculo..: \"))\n",
        "\n",
        "    if contador == 0:\n",
        "        ipva = valor * 4 / 100\n",
        "    print(\"Valor do ipva..: \",ipva)"
      ],
      "metadata": {
        "id": "swcQbivAvgOr",
        "colab": {
          "base_uri": "https://localhost:8080/"
        },
        "outputId": "75a01f4c-09a7-449d-8067-4d8cde0c03fc"
      },
      "execution_count": null,
      "outputs": [
        {
          "output_type": "stream",
          "name": "stdout",
          "text": [
            "Digite o valor do veiculo..: 50000\n",
            "Valor do ipva..:  2000.0\n",
            "Digite o valor do veiculo..: 55000\n",
            "Valor do ipva..:  2200.0\n",
            "Digite o valor do veiculo..: 60000\n",
            "Valor do ipva..:  2400.0\n",
            "Digite o valor do veiculo..: 65000\n",
            "Valor do ipva..:  2600.0\n",
            "Digite o valor do veiculo..: 70000\n",
            "Valor do ipva..:  2800.0\n",
            "Digite o valor do veiculo..: 75000\n",
            "Valor do ipva..:  3000.0\n",
            "Digite o valor do veiculo..: 80000\n",
            "Valor do ipva..:  3200.0\n",
            "Digite o valor do veiculo..: 85000\n",
            "Valor do ipva..:  3400.0\n",
            "Digite o valor do veiculo..: 90000\n",
            "Valor do ipva..:  3600.0\n",
            "Digite o valor do veiculo..: 95000\n",
            "Valor do ipva..:  3800.0\n"
          ]
        }
      ]
    }
  ]
}