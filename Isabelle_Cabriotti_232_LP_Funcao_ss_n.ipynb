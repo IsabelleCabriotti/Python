{
  "nbformat": 4,
  "nbformat_minor": 0,
  "metadata": {
    "colab": {
      "provenance": [],
      "include_colab_link": true
    },
    "kernelspec": {
      "name": "python3",
      "display_name": "Python 3"
    }
  },
  "cells": [
    {
      "cell_type": "markdown",
      "metadata": {
        "id": "view-in-github",
        "colab_type": "text"
      },
      "source": [
        "<a href=\"https://colab.research.google.com/github/IsabelleCabriotti/Python/blob/main/Isabelle_Cabriotti_232_LP_Funcao_ss_n.ipynb\" target=\"_parent\"><img src=\"https://colab.research.google.com/assets/colab-badge.svg\" alt=\"Open In Colab\"/></a>"
      ]
    },
    {
      "cell_type": "markdown",
      "source": [
        "### 1.0 (Função sem retorno sem parâmetro) Faça um programa contendo uma função/método que leia um número e o multiplique por 2. Apresente o resultado. EXEMPLO."
      ],
      "metadata": {
        "id": "M5n5-Zgkjfq_"
      }
    },
    {
      "cell_type": "code",
      "source": [
        "def multiplicar(): # definição da função\n",
        "    numero = int(input(\"Digite um numero \"))\n",
        "    resultado = numero * 2\n",
        "    print(\"O resultado da multiplicação é\", resultado)\n",
        "\n",
        "multiplicar()"
      ],
      "metadata": {
        "id": "xPwnHKnifEU5",
        "colab": {
          "base_uri": "https://localhost:8080/"
        },
        "outputId": "30b31f13-73ba-4e83-aaaf-73690b477587"
      },
      "execution_count": null,
      "outputs": [
        {
          "output_type": "stream",
          "name": "stdout",
          "text": [
            "Digite um numero 4\n",
            "O resultado da multiplicação é 8\n"
          ]
        }
      ]
    },
    {
      "cell_type": "code",
      "source": [
        "def multiplicar(): # definição da função\n",
        "    numero = int(input(\"Digite um numero \"))\n",
        "    resultado = numero * 2\n",
        "    print(\"O resultado da multiplicação é\", resultado)\n",
        "\n",
        "def main():\n",
        "    print(\"Entrei na função main...\")\n",
        "    multiplicar()\n",
        "    print(\"Terminei de executar a main...\")\n",
        "\n",
        "main() # É uma boa prática implementar a função main"
      ],
      "metadata": {
        "id": "RrpM-SW6fluC",
        "colab": {
          "base_uri": "https://localhost:8080/"
        },
        "outputId": "f4358d38-e4bc-4c40-e208-ae00206489de"
      },
      "execution_count": null,
      "outputs": [
        {
          "output_type": "stream",
          "name": "stdout",
          "text": [
            "Entrei na função main...\n",
            "Digite um numero 4\n",
            "O resultado da multiplicação é 8\n",
            "Terminei de executar a main...\n"
          ]
        }
      ]
    },
    {
      "cell_type": "markdown",
      "metadata": {
        "id": "skN-Wz61xZzi"
      },
      "source": [
        "### 1.1 (Função sem retorno sem parâmetro) Faça um programa contendo uma função/método que apresente o valor 1 se o número digitado for positivo e 0 se for negativo."
      ]
    },
    {
      "cell_type": "code",
      "source": [
        "def resultado():\n",
        "    numero = int(input(\"Digite um numero: \"))\n",
        "\n",
        "    if numero > 0:\n",
        "        print(\"Positivo\")\n",
        "    elif numero < 0:\n",
        "        print(\"Negativo\")\n",
        "\n",
        "def main():\n",
        "    resultado()\n",
        "\n",
        "main()"
      ],
      "metadata": {
        "id": "MDtE7mKPyXqE",
        "colab": {
          "base_uri": "https://localhost:8080/"
        },
        "outputId": "6ba5d499-9dfd-47b0-9ef6-68fed504cf5a"
      },
      "execution_count": null,
      "outputs": [
        {
          "output_type": "stream",
          "name": "stdout",
          "text": [
            "Digite um numero: -7\n",
            "Negativo\n"
          ]
        }
      ]
    },
    {
      "cell_type": "markdown",
      "metadata": {
        "id": "0jPoba3-yLnG"
      },
      "source": [
        "### 2. (Função sem retorno sem parâmetro) Faça uma função/método que leia dois valores positivos e apresente a soma dos N números existentes entre eles (inclusive).\n",
        "    Exemplo:\n",
        "        a = 2\n",
        "        b = 8\n",
        "        2 + 3 + 4 + 5 + 6 + 7 + 8\n",
        "        soma = 35"
      ]
    },
    {
      "cell_type": "code",
      "metadata": {
        "id": "UHD2oMlJyLzc",
        "colab": {
          "base_uri": "https://localhost:8080/"
        },
        "outputId": "cac2f2d2-605d-4b26-a992-78b3e90aa31d"
      },
      "source": [
        "def resultado():\n",
        "    a = int(input(\"Digite o 1º numero positivo: \"))\n",
        "    b = int(input(\"Digite o 2º numero positivo: \"))\n",
        "\n",
        "    soma = 0\n",
        "    for i in range(a, b + 1):\n",
        "        soma += i\n",
        "\n",
        "    print(\"A soma dos 2 numeros é: \", soma)\n",
        "\n",
        "def main():\n",
        "    resultado()\n",
        "\n",
        "main()"
      ],
      "execution_count": null,
      "outputs": [
        {
          "output_type": "stream",
          "name": "stdout",
          "text": [
            "Digite o 1º numero positivo: 4\n",
            "Digite o 2º numero positivo: 10\n",
            "A soma dos 2 numeros é:  49\n"
          ]
        }
      ]
    },
    {
      "cell_type": "markdown",
      "metadata": {
        "id": "HAz_eYfhzg06"
      },
      "source": [
        "### 3. (Função sem retorno sem parâmetro) Faça uma função/método que receba três números inteiros *a*, *b*, *c* que sejam divisíveis por ***a***. Os valores *b* e *c* representam o intervalo da estrutura de repetição. Apresente a quantidade e os números divisíveis. Não pode usar vetor e função pronta da linguagem Python.\n",
        "    Exemplo:\n",
        "        a = 5\n",
        "        b = 1\n",
        "        c = 10\n",
        "        1 % a\n",
        "        2 % a\n",
        "        3 % a\n",
        "        4 % a\n",
        "        5 % a este valor é divisível\n",
        "        6 % a\n",
        "        7\n",
        "        8\n",
        "        9\n",
        "        10 % a este valor é divisível\n",
        "        qtde = 2\n"
      ]
    },
    {
      "cell_type": "code",
      "metadata": {
        "id": "Cg-NIjInzfmU",
        "colab": {
          "base_uri": "https://localhost:8080/"
        },
        "outputId": "2e2b3cf2-5fd1-4445-cf27-d44556c926db"
      },
      "source": [
        "def div_a():\n",
        "    a = int(input(\"Digite o valor de a: \"))\n",
        "    b = int(input(\"Digite o valor de b: \"))\n",
        "    c = int(input(\"Digite o valor de c: \"))\n",
        "\n",
        "    divisiveis = 0\n",
        "    for i in range(b, c+1):\n",
        "        if i % a == 0:\n",
        "            divisiveis += 1\n",
        "            print(\"O numero\", i, \"é divisível por\", a,)\n",
        "    print(divisiveis, \"numeros são divisíveis por\", a,)\n",
        "\n",
        "def main():\n",
        "    div_a()\n",
        "\n",
        "main()"
      ],
      "execution_count": null,
      "outputs": [
        {
          "output_type": "stream",
          "name": "stdout",
          "text": [
            "Digite o valor de a: 2\n",
            "Digite o valor de b: 4\n",
            "Digite o valor de c: 6\n",
            "O numero 4 é divisível por 2\n",
            "O numero 6 é divisível por 2\n",
            "2 numeros são divisíveis por 2\n"
          ]
        }
      ]
    },
    {
      "cell_type": "markdown",
      "metadata": {
        "id": "_aPd4c1b3OjS"
      },
      "source": [
        "### 4. (Função sem retorno sem parâmetro) Faça uma função/método que leia um único valor representado em segundos, converta-o e apresente o resultado em horas, minutos e segundos.\n",
        "    h = segundos / 3600\n",
        "    r = resto(segundos / 3600)\n",
        "    m = r / 60\n",
        "    s = resto(r / 60)\n",
        "    Observação 1: resto de uma divisão em Python %.\n",
        "    Observação 2: a hora, o minuto e o segundo devem ser apresentados como números inteiros."
      ]
    },
    {
      "cell_type": "code",
      "metadata": {
        "id": "Q6LPIy_LCQuO",
        "colab": {
          "base_uri": "https://localhost:8080/"
        },
        "outputId": "d9d5ab59-4b72-45a9-b6bd-24206f9abbc7"
      },
      "source": [
        "def seg():\n",
        "    segundos = int(input(\"Digite um numero: \"))\n",
        "\n",
        "    for i in range(segundos):\n",
        "        if i % segundos == 0:\n",
        "            hora = segundos/3600\n",
        "            print(\"O numero convertido em horas são: \", hora)\n",
        "        if i % segundos == 0:\n",
        "            minutos = segundos/60\n",
        "            print(\"O numero convertido em minutos: \", minutos)\n",
        "        if i % segundos == 0:\n",
        "            segundos = segundos\n",
        "            print(\"O numero convertido em segundos: \",segundos)\n",
        "\n",
        "def main():\n",
        "        seg()\n",
        "\n",
        "main()"
      ],
      "execution_count": null,
      "outputs": [
        {
          "output_type": "stream",
          "name": "stdout",
          "text": [
            "Digite um numero: 60\n",
            "O numero convertido em horas são:  0.016666666666666666\n",
            "O numero convertido em minutos:  1.0\n",
            "O numero convertido em segundos:  60\n"
          ]
        }
      ]
    },
    {
      "cell_type": "markdown",
      "metadata": {
        "id": "JgYwP3n1CQ_U"
      },
      "source": [
        "### 5. (Função sem retorno sem parâmetro) Faça uma função/método que receba o preço antigo e atual de um produto, determine o percentual de acréscimo entre esses valores e apresente-o.\n",
        "    r = (100 * preco_novo - 100 * preco_antigo) / preco_antigo"
      ]
    },
    {
      "cell_type": "code",
      "metadata": {
        "id": "fb6TwQ_yh_To",
        "colab": {
          "base_uri": "https://localhost:8080/"
        },
        "outputId": "e7f70ed7-461f-4ac4-a578-7c78514167c7"
      },
      "source": [
        "def produto():\n",
        "    preco_ant = float(input(\"Insira o preço antigo do produto: \"))\n",
        "    preco_nv = float(input(\"Insira o preço novo do produto: \"))\n",
        "\n",
        "    print(f'O valor aumentou em {((100 * preco_nv) - 100 * preco_ant) / preco_ant:.2f}%')\n",
        "\n",
        "def main():\n",
        "    produto()\n",
        "\n",
        "main()"
      ],
      "execution_count": null,
      "outputs": [
        {
          "output_type": "stream",
          "name": "stdout",
          "text": [
            "Insira o preço antigo do produto: 100.00\n",
            "Insira o preço novo do produto: 120.00\n",
            "O valor aumentou em 20.00%\n"
          ]
        }
      ]
    },
    {
      "cell_type": "markdown",
      "metadata": {
        "id": "fZNXRUrrh_g9"
      },
      "source": [
        "### 6. (Função sem retorno sem parâmetro) Faça uma função/método que leia um valor inteiro entre 1 e 9 e mostre a seguinte tabela de **multiplicação**\n",
        "Neste exemplo foi escolhido o número 9.\n",
        "\n",
        "    1    \n",
        "    2     4\n",
        "    3     6     9\n",
        "    4     8    12    16\n",
        "    5    10    15    20    25\n",
        "    6    12    18    24    30    36\n",
        "    7    14    21    28    35    42    49\n",
        "    8    16    24    32    40    48    56    64   \n",
        "    9    18    27    36    45    54    63    72    81\n",
        "    for i = 1 até n\n",
        "       for j = 1 até i\n",
        "       \n",
        "    Observação: configure o print para não pular linha, use o parâmetro end."
      ]
    },
    {
      "cell_type": "code",
      "metadata": {
        "id": "qA3MK3i1lJ-B",
        "colab": {
          "base_uri": "https://localhost:8080/"
        },
        "outputId": "ef700d03-8a47-4bf0-d423-df43d97574f9"
      },
      "source": [
        "def calculo():\n",
        "        numero = int(input(\"Insira um número entre 1 e 9: \"))\n",
        "\n",
        "        if numero >= 1 and numero <= 9:\n",
        "            for i in range(1, numero + 1):\n",
        "                print()\n",
        "                for j in range(i + 1):\n",
        "                    if j > 0:\n",
        "                        print(i * j, end= \"\\t\")\n",
        "        else:\n",
        "            print(\"Número inválido.\")\n",
        "\n",
        "def main():\n",
        "    calculo()\n",
        "\n",
        "main()"
      ],
      "execution_count": null,
      "outputs": [
        {
          "output_type": "stream",
          "name": "stdout",
          "text": [
            "Insira um número entre 1 e 9: 9\n",
            "\n",
            "1\t\n",
            "2\t4\t\n",
            "3\t6\t9\t\n",
            "4\t8\t12\t16\t\n",
            "5\t10\t15\t20\t25\t\n",
            "6\t12\t18\t24\t30\t36\t\n",
            "7\t14\t21\t28\t35\t42\t49\t\n",
            "8\t16\t24\t32\t40\t48\t56\t64\t\n",
            "9\t18\t27\t36\t45\t54\t63\t72\t81\t"
          ]
        }
      ]
    },
    {
      "cell_type": "markdown",
      "metadata": {
        "id": "qC3ghcOalLBi"
      },
      "source": [
        "### 7. (Função sem retorno sem parâmetro) Faça uma função/método que leia três notas de um aluno e uma letra, se a letra for igual a *A*, deverá calcular a média aritimética das notas dos alunos, se for *P*, deverá calcular a média ponderada, com pesos 5, 3 e 2. A média deve ser mostrada ao final.\n",
        "N1, N2 e N3 são notas.\n",
        "\n",
        "P1, P2 e P3 são pesos.\n",
        "\n",
        "Média ponderada = (N1 * P1 + N2 * P2 + N3 * P3 ) / (P1 + P2 + P3)"
      ]
    },
    {
      "cell_type": "code",
      "metadata": {
        "id": "73QPAAO0q2Wo",
        "colab": {
          "base_uri": "https://localhost:8080/"
        },
        "outputId": "0d7d6460-9172-4393-8157-1005875f9b52"
      },
      "source": [
        "def media():\n",
        "    n_1 = float(input(\"Insira a 1ª nota: \"))\n",
        "    n_2 = float(input(\"Insira a 2ª nota: \"))\n",
        "    n_3 = float(input(\"Insira a 3ª nota: \"))\n",
        "    letra = input(\"Insira uma letra A: Média Aritmética ou P: Média Ponderada: \")\n",
        "\n",
        "    if len(letra) != 1:\n",
        "        print(\"Letra inválida, tente novamente utilizando a regra\")\n",
        "\n",
        "    if letra == \"A\":\n",
        "        media = (n_1 + n_2 + n_3)/3\n",
        "    elif letra == \"P\":\n",
        "        media = (n_1 * 5 + n_2 * 3 + n_3 * 2 ) / (5 + 3 + 2)\n",
        "\n",
        "    print(media)\n",
        "\n",
        "def main():\n",
        "    media()\n",
        "\n",
        "main()"
      ],
      "execution_count": null,
      "outputs": [
        {
          "output_type": "stream",
          "name": "stdout",
          "text": [
            "Insira a 1ª nota: 6\n",
            "Insira a 2ª nota: 3\n",
            "Insira a 3ª nota: 9\n",
            "Insira uma letra A: Média Aritmética ou P: Média Ponderada: A\n",
            "6.0\n"
          ]
        }
      ]
    },
    {
      "cell_type": "markdown",
      "metadata": {
        "id": "Go_7xqNQq2oY"
      },
      "source": [
        "### 8. (Função sem retorno sem parâmetro) Faça uma função/método que leia uma hora de início e de término de um jogo, ambas divididas em dois valores distintos: hora e minuto. Deverá ser apresentado a duração expressa em minutos, considerando que o tempo máximo de duração de um jogo é de 24 horas e que ele pode começar em um dia e terminar no outro.\n",
        "    se m_f < m_i\n",
        "        m_f = m_f + 60\n",
        "        h_f = h_f - 1\n",
        "    se h_f < h_i\n",
        "        h_f = h_f + 24\n",
        "    tot_m = m_f - m_i\n",
        "    tot_h = h_f - h_i\n",
        "    total = tot_h * 60 + tot_m"
      ]
    },
    {
      "cell_type": "code",
      "metadata": {
        "id": "BgfVTL9-0WQi",
        "colab": {
          "base_uri": "https://localhost:8080/"
        },
        "outputId": "c154cc10-67a7-446a-cd7f-5008e2999e46"
      },
      "source": [
        "def calculo_tempo():\n",
        "    h_inicio = int(input(\"Digite a hora de início do jogo: \"))\n",
        "    m_inicio = int(input(\"Digite o minuto de início do jogo: \"))\n",
        "    h_termino = int(input(\"Digite a hora de termino do jogo: \"))\n",
        "    m_termino = int(input(\"Digite o minuto de termino do jogo: \"))\n",
        "\n",
        "    if m_termino < m_inicio:\n",
        "        m_termino += 60\n",
        "        h_termino -= 1\n",
        "    elif h_termino < h_inicio:\n",
        "        h_termino += 24\n",
        "    total_m = m_termino - m_inicio\n",
        "    total_h = h_termino - h_inicio\n",
        "    total = total_h * 60 + total_m\n",
        "\n",
        "    print(f\"O jogo vai ter a duração de: {total} minutos.\")\n",
        "\n",
        "def main():\n",
        "    calculo_tempo()\n",
        "\n",
        "main()"
      ],
      "execution_count": null,
      "outputs": [
        {
          "output_type": "stream",
          "name": "stdout",
          "text": [
            "Digite a hora de início do jogo: 18\n",
            "Digite o minuto de início do jogo: 30\n",
            "Digite a hora de termino do jogo: 20\n",
            "Digite o minuto de termino do jogo: 30\n",
            "O jogo vai ter a duração de: 120 minutos.\n"
          ]
        }
      ]
    },
    {
      "cell_type": "markdown",
      "metadata": {
        "id": "IGOQmdAe0myM"
      },
      "source": [
        "### 9. (Função sem retorno sem parâmetro) Faça uma função/método que leia cinco valores inteiros, determine e mostre o maior e o menor deles. Não pode usar vetor e função pronta da linguagem Python."
      ]
    },
    {
      "cell_type": "code",
      "metadata": {
        "id": "A4-CekXy0vrz",
        "colab": {
          "base_uri": "https://localhost:8080/"
        },
        "outputId": "ef6209ed-465a-4e02-f1bf-8a656de2e572"
      },
      "source": [
        "def maior_menor():\n",
        "    for i in range(5):\n",
        "        numero = int(input(\"Insira um número inteiro: \"))\n",
        "\n",
        "        if i == 0:\n",
        "            maior = numero\n",
        "            menor = numero\n",
        "        if numero > maior:\n",
        "            maior = numero\n",
        "        if numero < menor:\n",
        "            menor = numero\n",
        "\n",
        "    print(f\"O Maior número é {maior} e o menor é {menor}\")\n",
        "\n",
        "def main():\n",
        "    maior_menor()\n",
        "\n",
        "main()"
      ],
      "execution_count": null,
      "outputs": [
        {
          "output_type": "stream",
          "name": "stdout",
          "text": [
            "Insira um número inteiro: 5\n",
            "Insira um número inteiro: 7\n",
            "Insira um número inteiro: 20\n",
            "Insira um número inteiro: 1\n",
            "Insira um número inteiro: 36\n",
            "O Maior número é 36 e o menor é 1\n"
          ]
        }
      ]
    },
    {
      "cell_type": "markdown",
      "metadata": {
        "id": "W2PqWZm20v6M"
      },
      "source": [
        "### 10. (Função sem retorno sem parâmetro) Faça uma função/método que leia um valor inteiro e positivo N e mostre o valor de S, obtido pelo seguinte cálculo:\n",
        "###S = 1  +  1/1!  +  1/2!  +  1/3!  + ... +  1/N!\n",
        "\n",
        "Observvação: Não pode usar vetor e função pronta da linguagem Python."
      ]
    },
    {
      "cell_type": "code",
      "metadata": {
        "id": "U9eTKxuz1c7S"
      },
      "source": [
        "# Digite seu código aqui.\n",
        "# S = 1\n",
        "# S = 1 + 1 + 1/2! + 1/3 + 1/4!\n",
        "# S = 1 + 1 + 0.5 + 0.16 + 0.041\n",
        "# S = 2.66 + 0.041\n",
        "# 3! = 3 * 2 * 1 = 6\n",
        "# 4! = 1 * 2 * 3 * 4 = 24    1/4!   1/24  = 0.041\n",
        "\n",
        "# N = int(input('Informe o valor de N termos: '))"
      ],
      "execution_count": null,
      "outputs": []
    },
    {
      "cell_type": "code",
      "source": [
        "def calculo_s():\n",
        "    n = int(input(\"Digite o valor de N termos: \"))\n",
        "    if n > 0:\n",
        "        s = 1\n",
        "        for i in range(1, n+1):\n",
        "            fatorial = 1\n",
        "            for j in range(1, i+1):\n",
        "                fatorial *= j\n",
        "            s += 1/fatorial\n",
        "\n",
        "    print(f\"O valor de S é: {s:.2f}\")\n",
        "\n",
        "def main():\n",
        "    calculo_s()\n",
        "\n",
        "main()"
      ],
      "metadata": {
        "colab": {
          "base_uri": "https://localhost:8080/"
        },
        "id": "vC9ddBks8qZV",
        "outputId": "5a614a05-5a6d-4d21-b2ec-83eaa8a79a2a"
      },
      "execution_count": null,
      "outputs": [
        {
          "output_type": "stream",
          "name": "stdout",
          "text": [
            "Digite o valor de N termos: 24\n",
            "O valor de S é: 2.72\n"
          ]
        }
      ]
    }
  ]
}