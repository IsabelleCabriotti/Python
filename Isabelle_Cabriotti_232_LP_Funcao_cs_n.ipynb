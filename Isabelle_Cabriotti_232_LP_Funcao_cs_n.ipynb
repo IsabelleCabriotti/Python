{
  "cells": [
    {
      "cell_type": "markdown",
      "metadata": {
        "id": "view-in-github",
        "colab_type": "text"
      },
      "source": [
        "<a href=\"https://colab.research.google.com/github/IsabelleCabriotti/Python/blob/main/Isabelle_Cabriotti_232_LP_Funcao_cs_n.ipynb\" target=\"_parent\"><img src=\"https://colab.research.google.com/assets/colab-badge.svg\" alt=\"Open In Colab\"/></a>"
      ]
    },
    {
      "cell_type": "markdown",
      "metadata": {
        "id": "skN-Wz61xZzi"
      },
      "source": [
        "### 1. (Função com retorno sem parâmetro) Faça um programa contendo uma função/método que leia um número e o multiplique por 2 retornando o resultado e o apresente."
      ]
    },
    {
      "cell_type": "code",
      "execution_count": null,
      "metadata": {
        "id": "Wbjafj_QxWP-",
        "colab": {
          "base_uri": "https://localhost:8080/"
        },
        "outputId": "f2845349-457b-42ff-da3d-ec55739eb200"
      },
      "outputs": [
        {
          "output_type": "stream",
          "name": "stdout",
          "text": [
            "entrei na main\n",
            "Digite um valor: 2\n",
            "Resultado com uma variável:  4\n"
          ]
        }
      ],
      "source": [
        "def multiplicar():\n",
        "    numero = int(input('Digite um valor: '))\n",
        "    resultado = numero * 2\n",
        "    return resultado\n",
        "\n",
        "def main():\n",
        "    print('entrei na main')\n",
        "    r = multiplicar()\n",
        "    print('Resultado com uma variável: ',r)\n",
        "\n",
        "main()"
      ]
    },
    {
      "cell_type": "markdown",
      "metadata": {
        "id": "0jPoba3-yLnG"
      },
      "source": [
        "### 2. (Função com retorno sem parâmetro) Faça um programa contendo uma função/método para subtrair dois números, retornar o resultado e o apresentando."
      ]
    },
    {
      "cell_type": "code",
      "execution_count": null,
      "metadata": {
        "colab": {
          "base_uri": "https://localhost:8080/"
        },
        "id": "UHD2oMlJyLzc",
        "outputId": "1ce455d9-89cd-4331-ea87-e394d57c0836"
      },
      "outputs": [
        {
          "output_type": "stream",
          "name": "stdout",
          "text": [
            "Digite o 1º valor: 4\n",
            "Digite o 2º valor: 2\n",
            "O resultado da subtração é:  2\n"
          ]
        }
      ],
      "source": [
        "def subtrair():\n",
        "    numero_1 = int(input('Digite o 1º valor: '))\n",
        "    numero_2 = int(input('Digite o 2º valor: '))\n",
        "    resultado = numero_1 - numero_2\n",
        "    return resultado\n",
        "\n",
        "def main():\n",
        "    r = subtrair()\n",
        "    print(\"O resultado da subtração é: \",r)\n",
        "\n",
        "main()"
      ]
    },
    {
      "cell_type": "markdown",
      "metadata": {
        "id": "4zGuLRRXt0D_"
      },
      "source": [
        "### 3. (Função com retorno sem parâmetro) Faça um programa contendo uma função/método que leia a base e a altura de um triângulo e retorne/apresente sua área A = (base x altura)/2."
      ]
    },
    {
      "cell_type": "code",
      "execution_count": null,
      "metadata": {
        "id": "nU0x1v2Vt1-w",
        "colab": {
          "base_uri": "https://localhost:8080/"
        },
        "outputId": "0768bdbe-7504-4ad6-eef3-ac70573b9bda"
      },
      "outputs": [
        {
          "output_type": "stream",
          "name": "stdout",
          "text": [
            "Digite o valor da base: 8\n",
            "Digite o valor da altura: 6\n",
            "O valor da área é igual á: 24.00\n"
          ]
        }
      ],
      "source": [
        "def calculo():\n",
        "    base = float(input(\"Digite o valor da base: \"))\n",
        "    altura = float(input(\"Digite o valor da altura: \"))\n",
        "    return (base * altura) / 2\n",
        "\n",
        "def main():\n",
        "    print(f\"O valor da área é igual á: {calculo():.2f}\")\n",
        "\n",
        "main()"
      ]
    },
    {
      "cell_type": "markdown",
      "metadata": {
        "id": "W0slzp_rt2Iu"
      },
      "source": [
        "### 4. (Função com retorno sem parâmetro) Faça um programa contendo uma função/método que leia o lado de um quadrado e retorne sua área, area = lado²."
      ]
    },
    {
      "cell_type": "code",
      "execution_count": null,
      "metadata": {
        "id": "hH2UZstHvFs2",
        "colab": {
          "base_uri": "https://localhost:8080/"
        },
        "outputId": "52609b30-c156-4e08-f0bd-4e5a14272b3e"
      },
      "outputs": [
        {
          "output_type": "stream",
          "name": "stdout",
          "text": [
            "Digite o valor do lado do quadrado: 5\n",
            "O valor da área do quadrado é igual á: 25.00\n"
          ]
        }
      ],
      "source": [
        "def calculo():\n",
        "    lado = float(input(\"Digite o valor do lado do quadrado: \"))\n",
        "    return lado * lado\n",
        "\n",
        "def main():\n",
        "    print(f\"O valor da área do quadrado é igual á: {calculo():.2f}\")\n",
        "\n",
        "main()"
      ]
    },
    {
      "cell_type": "markdown",
      "metadata": {
        "id": "hfkLntgNTWN1"
      },
      "source": [
        "###5. (Função com retorno sem parâmetro) Faça um programa contendo uma função/método  que verifique se um número é par, retorne mostrando a str/string ‘É par’ ou se ‘É ímpar’."
      ]
    },
    {
      "cell_type": "code",
      "execution_count": null,
      "metadata": {
        "id": "YIp7ES5deRo8",
        "colab": {
          "base_uri": "https://localhost:8080/"
        },
        "outputId": "7dcf0569-84d7-4387-89ce-58f83bf06ef6"
      },
      "outputs": [
        {
          "output_type": "stream",
          "name": "stdout",
          "text": [
            "Digite um número para verificação: 8\n",
            "O numero é par\n"
          ]
        }
      ],
      "source": [
        "def verificacao():\n",
        "    num = int(input(\"Digite um número para verificação: \"))\n",
        "    if num % 2 == 0:\n",
        "        return \"O numero é par\"\n",
        "    else:\n",
        "        return \"O numero é impar\"\n",
        "\n",
        "def main():\n",
        "    print(verificacao())\n",
        "\n",
        "main()"
      ]
    },
    {
      "cell_type": "markdown",
      "metadata": {
        "id": "RIGUAKHveTJS"
      },
      "source": [
        "###6. (Função com retorno sem parâmetro) Faça um programa contendo uma função/método  que verifique se um número é par, retorne/mostre o valor bool **True** para par e **False** para ímpar."
      ]
    },
    {
      "cell_type": "code",
      "execution_count": null,
      "metadata": {
        "id": "Q6LPIy_LCQuO",
        "colab": {
          "base_uri": "https://localhost:8080/"
        },
        "outputId": "f069c088-0deb-40dd-a670-f7dc706e050c"
      },
      "outputs": [
        {
          "output_type": "stream",
          "name": "stdout",
          "text": [
            "Digite um número: 7\n",
            "False\n"
          ]
        }
      ],
      "source": [
        "def verificar_par_impar():\n",
        "    numero = int(input(\"Digite um número: \"))\n",
        "    if numero % 2 == 0:\n",
        "        return True\n",
        "    else:\n",
        "        return False\n",
        "\n",
        "print(verificar_par_impar())"
      ]
    },
    {
      "cell_type": "code",
      "source": [
        "def verificar_par_impar():\n",
        "    numero = int(input(\"Digite um número: \"))\n",
        "    return numero % 2 == 0\n",
        "\n",
        "print(verificar_par_impar())"
      ],
      "metadata": {
        "colab": {
          "base_uri": "https://localhost:8080/"
        },
        "id": "Mhbyi_iWxlxr",
        "outputId": "42f74836-60f0-4051-81ee-9c3558918d5e"
      },
      "execution_count": null,
      "outputs": [
        {
          "output_type": "stream",
          "name": "stdout",
          "text": [
            "Digite um número: 7\n",
            "False\n"
          ]
        }
      ]
    },
    {
      "cell_type": "markdown",
      "metadata": {
        "id": "JgYwP3n1CQ_U"
      },
      "source": [
        "### 7. (Função com retorno sem parâmetro) Faça uma função/método que leia e armazene 5 elementos inteiros no vetor A, deverá ser gerado um vetor B, de mesmo tamanho, que armazenará o fatorial de cada elemento de A. Não use função pronta de cálculo de fatorial. Retorne/apresente o vetor B."
      ]
    },
    {
      "cell_type": "code",
      "execution_count": null,
      "metadata": {
        "id": "34fIP0epT69d",
        "colab": {
          "base_uri": "https://localhost:8080/"
        },
        "outputId": "3c9ea995-bf0b-41da-eb1a-1221e828b9e8"
      },
      "outputs": [
        {
          "output_type": "stream",
          "name": "stdout",
          "text": [
            "Digite o valor desejado: 8\n",
            "Digite o valor desejado: 3\n",
            "Digite o valor desejado: 6\n",
            "Digite o valor desejado: 9\n",
            "Digite o valor desejado: 4\n",
            "[40320, 6, 720, 362880, 24]\n"
          ]
        }
      ],
      "source": [
        "# Exemplo:\n",
        "# A = [5  ,4 ,3,2,1]\n",
        "# B = [120,24,6,2,1]\n",
        "def fatorial():\n",
        "    num = []\n",
        "    for i in range(5):\n",
        "        num.append(int(input(\"Digite o valor desejado: \")))\n",
        "    fat = []\n",
        "    for i in range(len(num)):\n",
        "        fatorial = 1\n",
        "        for j in range(1, num[i]+1):\n",
        "            fatorial *= j\n",
        "        fat.append(fatorial)\n",
        "    return fat\n",
        "\n",
        "def main():\n",
        "    print(fatorial())\n",
        "\n",
        "\n",
        "main()"
      ]
    },
    {
      "cell_type": "markdown",
      "metadata": {
        "id": "_aPd4c1b3OjS"
      },
      "source": [
        "### 8. (Função com retorno sem parâmetro) Faça uma função/método retorne um vetor com os três primeiros números perfeitos. Sabe-se que um número é perfeito quando é igual a soma de seus divisores (exceto ele mesmo).\n",
        "Exemplo: os divisores de 6 são 1, 2 e 3, e 1 + 2 + 3 = 6, logo 6 é perfeito. Não use função pronta.\n",
        "\n",
        "1º número perfeito: 6\n",
        "\n",
        "2º número perfeito: 28\n",
        "\n",
        "3º número perfeito: 496"
      ]
    },
    {
      "cell_type": "code",
      "execution_count": null,
      "metadata": {
        "id": "fb6TwQ_yh_To",
        "colab": {
          "base_uri": "https://localhost:8080/"
        },
        "outputId": "1680060e-4578-4e0c-ee15-73eba3013a2d"
      },
      "outputs": [
        {
          "output_type": "stream",
          "name": "stdout",
          "text": [
            "[6, 28, 496]\n"
          ]
        }
      ],
      "source": [
        "# número 1 não é perfeito\n",
        "# ...\n",
        "# número 4 não é perfeito, exemplo: 4 % 1 == 0, 4 % 2 == 0, 4 % 3 != 0, a soma\n",
        "# resulta em 2\n",
        "# ...\n",
        "# número 6 é perfeito  6 % 1 == 0, 6 % 2 == 0, 6 % 3 == 0, 6 % 4 != 0, 6 % 5 != 0\n",
        "# quando é perfeito a soma de seus divisores da o mesmo valor de número que é 6\n",
        "\n",
        "def perf():\n",
        "    perfeito = []\n",
        "\n",
        "    for i in range(1, 497):\n",
        "        result = 0\n",
        "        for j in range(1, i):\n",
        "            if i % j == 0:\n",
        "                result += j\n",
        "        if result == i:\n",
        "            perfeito.append(i)\n",
        "\n",
        "    return perfeito\n",
        "\n",
        "def main():\n",
        "    print(perf())\n",
        "\n",
        "main()"
      ]
    },
    {
      "cell_type": "markdown",
      "metadata": {
        "id": "HAz_eYfhzg06"
      },
      "source": [
        "### 9. (Função com retorno sem parâmetro) Foi realizada uma pesquisa sobre algumas características físicas de cinco habitantes de uma região. Foram coletados os seguintes dados de cada habitante: idade, sexo (M - masculino ou F - feminino), cor dos olhos (A - azuis ou C - castanhos), cor dos cabelos (L - louros, P - pretos ou C - castanhos).\n",
        "\n",
        "1.   Faça uma função/método que leia esses dados, armazenando-os em vetores (listas);\n",
        "2.   Faça uma função/método que determine e devolva a função principal a média de idades das pessoas com olhos castanhos e cabelos pretos;\n",
        "3. Faça uma função/método que determine e devolva a função principal a maior idade entre os habitantes;\n",
        "4.  Faça uma função/método que determine e devolva a função principal a quantidade de indivíduos do sexo feminino com idade entre 18 e 35 anos(inclusive) e que tenham olhos azuis e cabelos louros.\n"
      ]
    },
    {
      "cell_type": "code",
      "execution_count": null,
      "metadata": {
        "id": "7Ez7TgiQvbTD",
        "colab": {
          "base_uri": "https://localhost:8080/"
        },
        "outputId": "4b7eb30f-fbff-4db8-8274-59b1455275b2"
      },
      "outputs": [
        {
          "output_type": "stream",
          "name": "stdout",
          "text": [
            "Digite a idade: 25\n",
            "Digite o sexo (M ou F): F\n",
            "Digite a cor dos olhos (A ou C): A\n",
            "Digite a cor dos cabelos (L, P ou C): L\n",
            "Digite a idade: 18\n",
            "Digite o sexo (M ou F): M\n",
            "Digite a cor dos olhos (A ou C): C\n",
            "Digite a cor dos cabelos (L, P ou C): P\n",
            "Digite a idade: 47\n",
            "Digite o sexo (M ou F): F\n",
            "Digite a cor dos olhos (A ou C): C\n",
            "Digite a cor dos cabelos (L, P ou C): C\n",
            "Digite a idade: 35\n",
            "Digite o sexo (M ou F): F\n",
            "Digite a cor dos olhos (A ou C): A\n",
            "Digite a cor dos cabelos (L, P ou C): P\n",
            "Digite a idade: 15\n",
            "Digite o sexo (M ou F): M\n",
            "Digite a cor dos olhos (A ou C): C\n",
            "Digite a cor dos cabelos (L, P ou C): C\n",
            "Idade média: 18.0. Maior idade é 47. Quantidade do sexo feminino, olhos azuis, cabelos loiros e idade entre 18 e 35 anos é: 1\n"
          ]
        }
      ],
      "source": [
        "# Declarar os vetores antes de qualquer programação, indica que\n",
        "# que estas variáveis serão globais a todo o restante do programa\n",
        "# e das funções\n",
        "idadeArray = []\n",
        "sexoArray = []\n",
        "olhosArray = []\n",
        "cabelosArray = []\n",
        "\n",
        "def cadastrar():\n",
        "    media_idade = 0\n",
        "    media_idade_quant = 0\n",
        "    maior_idade = 0\n",
        "    quant_individuos = 0\n",
        "    for i in range(5):\n",
        "        idade = int(input(\"Digite a idade: \"))\n",
        "        sexo = input(\"Digite o sexo (M ou F): \")\n",
        "        olhos = input(\"Digite a cor dos olhos (A ou C): \")\n",
        "        cabelos = input(\"Digite a cor dos cabelos (L, P ou C): \")\n",
        "\n",
        "        idadeArray.append(idade)\n",
        "        sexoArray.append(sexo)\n",
        "        olhosArray.append(olhos)\n",
        "        cabelosArray.append(cabelos)\n",
        "\n",
        "    for i in range(len(idadeArray)):\n",
        "        if olhosArray[i] == 'C':\n",
        "            if cabelosArray[i] == 'P':\n",
        "                media_idade += idadeArray[i]\n",
        "                media_idade_quant += 1\n",
        "\n",
        "        if idadeArray[i] > maior_idade:\n",
        "            maior_idade = idadeArray[i]\n",
        "\n",
        "        if sexoArray[i] == 'F':\n",
        "            if idadeArray[i] >= 18 and idadeArray[i] <= 35:\n",
        "                if olhosArray[i] == 'A':\n",
        "                    if cabelosArray[i] == 'L':\n",
        "                        quant_individuos += 1\n",
        "\n",
        "    if media_idade_quant > 0:\n",
        "        media_idade /= media_idade_quant\n",
        "\n",
        "    return f'Idade média: {media_idade}. Maior idade é {maior_idade}. Quantidade do sexo feminino, olhos azuis, cabelos loiros e idade entre 18 e 35 anos é: {quant_individuos}'\n",
        "\n",
        "def main():\n",
        "    print(cadastrar())\n",
        "\n",
        "main()"
      ]
    }
  ],
  "metadata": {
    "colab": {
      "provenance": [],
      "include_colab_link": true
    },
    "kernelspec": {
      "display_name": "Python 3",
      "name": "python3"
    }
  },
  "nbformat": 4,
  "nbformat_minor": 0
}